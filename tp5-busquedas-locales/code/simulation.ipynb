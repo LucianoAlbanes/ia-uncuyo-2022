{
 "cells": [
  {
   "cell_type": "markdown",
   "metadata": {
    "pycharm": {
     "name": "#%% md\n"
    }
   },
   "source": [
    "Análisis de performance de agentes - Búsqueda Local\n",
    "===\n",
    "\n",
    "# Tiempo de ejecución"
   ]
  },
  {
   "cell_type": "code",
   "execution_count": 1,
   "metadata": {
    "pycharm": {
     "name": "#%%\n"
    }
   },
   "outputs": [],
   "source": [
    "import NQueens\n",
    "import random\n",
    "import multiprocessing as mp\n",
    "import pandas as pd\n",
    "import seaborn as sns\n",
    "from time import time_ns"
   ]
  },
  {
   "cell_type": "markdown",
   "metadata": {
    "pycharm": {
     "name": "#%% md\n"
    }
   },
   "source": [
    "## Se llevará a cabo con la siguiente configuración:"
   ]
  },
  {
   "cell_type": "code",
   "execution_count": 2,
   "metadata": {
    "pycharm": {
     "name": "#%%\n"
    }
   },
   "outputs": [],
   "source": [
    "algorithms = [NQueens.hill_climbing, NQueens.simulated_annealing, NQueens.genetic_algorithm]\n",
    "sizes = [4, 8, 10, 12, 15]\n",
    "n_iterations = 30\n",
    "iter_limit_pow = 4\n",
    "random.seed(42)"
   ]
  },
  {
   "cell_type": "markdown",
   "metadata": {
    "pycharm": {
     "name": "#%% md\n"
    }
   },
   "source": [
    "---"
   ]
  },
  {
   "cell_type": "markdown",
   "metadata": {
    "pycharm": {
     "name": "#%% md\n"
    }
   },
   "source": [
    "## Correr simulación"
   ]
  },
  {
   "cell_type": "code",
   "execution_count": 3,
   "metadata": {
    "pycharm": {
     "name": "#%%\n"
    }
   },
   "outputs": [],
   "source": [
    "def run_simulation(simulations, algorithms, size, limit):\n",
    "    # Run in each agent\n",
    "    for algorithm in algorithms:\n",
    "        # Run agent\n",
    "        start = time_ns()\n",
    "        _, best_h, iterations, _ = algorithm(size, limit)\n",
    "        end = time_ns()\n",
    "        \n",
    "        # Append results in the siumlations dict\n",
    "        simulations.append({\n",
    "            'algorithm': algorithm.__name__,\n",
    "            'size': size,\n",
    "            'best_h': best_h,\n",
    "            'iterations': iterations,\n",
    "            'time_ms': (end-start)/1e6\n",
    "        })"
   ]
  },
  {
   "cell_type": "code",
   "execution_count": 4,
   "metadata": {
    "pycharm": {
     "name": "#%%\n"
    }
   },
   "outputs": [
    {
     "data": {
      "text/html": [
       "<div>\n",
       "<style scoped>\n",
       "    .dataframe tbody tr th:only-of-type {\n",
       "        vertical-align: middle;\n",
       "    }\n",
       "\n",
       "    .dataframe tbody tr th {\n",
       "        vertical-align: top;\n",
       "    }\n",
       "\n",
       "    .dataframe thead th {\n",
       "        text-align: right;\n",
       "    }\n",
       "</style>\n",
       "<table border=\"1\" class=\"dataframe\">\n",
       "  <thead>\n",
       "    <tr style=\"text-align: right;\">\n",
       "      <th></th>\n",
       "      <th>algorithm</th>\n",
       "      <th>size</th>\n",
       "      <th>best_h</th>\n",
       "      <th>iterations</th>\n",
       "      <th>time_ms</th>\n",
       "    </tr>\n",
       "  </thead>\n",
       "  <tbody>\n",
       "    <tr>\n",
       "      <th>0</th>\n",
       "      <td>hill_climbing</td>\n",
       "      <td>4</td>\n",
       "      <td>1</td>\n",
       "      <td>12</td>\n",
       "      <td>0.447589</td>\n",
       "    </tr>\n",
       "    <tr>\n",
       "      <th>1</th>\n",
       "      <td>hill_climbing</td>\n",
       "      <td>4</td>\n",
       "      <td>2</td>\n",
       "      <td>12</td>\n",
       "      <td>0.415105</td>\n",
       "    </tr>\n",
       "    <tr>\n",
       "      <th>2</th>\n",
       "      <td>hill_climbing</td>\n",
       "      <td>4</td>\n",
       "      <td>1</td>\n",
       "      <td>12</td>\n",
       "      <td>0.454971</td>\n",
       "    </tr>\n",
       "    <tr>\n",
       "      <th>3</th>\n",
       "      <td>hill_climbing</td>\n",
       "      <td>4</td>\n",
       "      <td>2</td>\n",
       "      <td>12</td>\n",
       "      <td>0.803554</td>\n",
       "    </tr>\n",
       "    <tr>\n",
       "      <th>4</th>\n",
       "      <td>simulated_annealing</td>\n",
       "      <td>4</td>\n",
       "      <td>0</td>\n",
       "      <td>75</td>\n",
       "      <td>2.195801</td>\n",
       "    </tr>\n",
       "    <tr>\n",
       "      <th>...</th>\n",
       "      <td>...</td>\n",
       "      <td>...</td>\n",
       "      <td>...</td>\n",
       "      <td>...</td>\n",
       "      <td>...</td>\n",
       "    </tr>\n",
       "    <tr>\n",
       "      <th>445</th>\n",
       "      <td>genetic_algorithm</td>\n",
       "      <td>15</td>\n",
       "      <td>0</td>\n",
       "      <td>2300</td>\n",
       "      <td>343.892167</td>\n",
       "    </tr>\n",
       "    <tr>\n",
       "      <th>446</th>\n",
       "      <td>hill_climbing</td>\n",
       "      <td>15</td>\n",
       "      <td>2</td>\n",
       "      <td>2310</td>\n",
       "      <td>120.438867</td>\n",
       "    </tr>\n",
       "    <tr>\n",
       "      <th>447</th>\n",
       "      <td>genetic_algorithm</td>\n",
       "      <td>15</td>\n",
       "      <td>0</td>\n",
       "      <td>1300</td>\n",
       "      <td>199.566726</td>\n",
       "    </tr>\n",
       "    <tr>\n",
       "      <th>448</th>\n",
       "      <td>simulated_annealing</td>\n",
       "      <td>15</td>\n",
       "      <td>0</td>\n",
       "      <td>1404</td>\n",
       "      <td>54.150157</td>\n",
       "    </tr>\n",
       "    <tr>\n",
       "      <th>449</th>\n",
       "      <td>genetic_algorithm</td>\n",
       "      <td>15</td>\n",
       "      <td>0</td>\n",
       "      <td>1650</td>\n",
       "      <td>164.800932</td>\n",
       "    </tr>\n",
       "  </tbody>\n",
       "</table>\n",
       "<p>450 rows × 5 columns</p>\n",
       "</div>"
      ],
      "text/plain": [
       "               algorithm  size  best_h  iterations     time_ms\n",
       "0          hill_climbing     4       1          12    0.447589\n",
       "1          hill_climbing     4       2          12    0.415105\n",
       "2          hill_climbing     4       1          12    0.454971\n",
       "3          hill_climbing     4       2          12    0.803554\n",
       "4    simulated_annealing     4       0          75    2.195801\n",
       "..                   ...   ...     ...         ...         ...\n",
       "445    genetic_algorithm    15       0        2300  343.892167\n",
       "446        hill_climbing    15       2        2310  120.438867\n",
       "447    genetic_algorithm    15       0        1300  199.566726\n",
       "448  simulated_annealing    15       0        1404   54.150157\n",
       "449    genetic_algorithm    15       0        1650  164.800932\n",
       "\n",
       "[450 rows x 5 columns]"
      ]
     },
     "execution_count": 4,
     "metadata": {},
     "output_type": "execute_result"
    }
   ],
   "source": [
    "# Using parallelism :D\n",
    "with mp.Manager() as manager:\n",
    "    simulations = manager.list() #List thread-safe. (overkill, find alternatives)\n",
    "    pool = mp.Pool() #use all available cores, otherwise specify the number you want as an argument\n",
    "    \n",
    "    # Test iterations\n",
    "    for size in sizes:\n",
    "        for _ in range(n_iterations):\n",
    "            pool.apply_async(run_simulation, args=(simulations, algorithms, size, size**iter_limit_pow))\n",
    "\n",
    "    # Wait for all threads to finish\n",
    "    pool.close()\n",
    "    pool.join()\n",
    "    \n",
    "    # Save it as a pandas dataframe\n",
    "    simulations_df = pd.DataFrame(list(simulations))\n",
    "\n",
    "simulations_df.to_csv('simulations.csv')\n",
    "simulations_df"
   ]
  },
  {
   "cell_type": "markdown",
   "metadata": {
    "pycharm": {
     "name": "#%% md\n"
    }
   },
   "source": [
    "## Análisis del performance de cada algorítmo"
   ]
  },
  {
   "cell_type": "code",
   "execution_count": 5,
   "metadata": {
    "pycharm": {
     "name": "#%%\n"
    }
   },
   "outputs": [
    {
     "data": {
      "text/html": [
       "<div>\n",
       "<style scoped>\n",
       "    .dataframe tbody tr th:only-of-type {\n",
       "        vertical-align: middle;\n",
       "    }\n",
       "\n",
       "    .dataframe tbody tr th {\n",
       "        vertical-align: top;\n",
       "    }\n",
       "\n",
       "    .dataframe thead th {\n",
       "        text-align: right;\n",
       "    }\n",
       "</style>\n",
       "<table border=\"1\" class=\"dataframe\">\n",
       "  <thead>\n",
       "    <tr style=\"text-align: right;\">\n",
       "      <th></th>\n",
       "      <th>algorithm</th>\n",
       "      <th>size</th>\n",
       "      <th>optimal_rate</th>\n",
       "      <th>h_reached_avg</th>\n",
       "      <th>h_reached_std</th>\n",
       "      <th>time_ms_avg</th>\n",
       "      <th>time_ms_std</th>\n",
       "      <th>iter_avg</th>\n",
       "      <th>iter_std</th>\n",
       "    </tr>\n",
       "  </thead>\n",
       "  <tbody>\n",
       "    <tr>\n",
       "      <th>0</th>\n",
       "      <td>hill_climbing</td>\n",
       "      <td>4</td>\n",
       "      <td>0.066667</td>\n",
       "      <td>1.166667</td>\n",
       "      <td>0.530669</td>\n",
       "      <td>0.556517</td>\n",
       "      <td>0.340249</td>\n",
       "      <td>24.800000</td>\n",
       "      <td>17.241490</td>\n",
       "    </tr>\n",
       "    <tr>\n",
       "      <th>1</th>\n",
       "      <td>hill_climbing</td>\n",
       "      <td>8</td>\n",
       "      <td>0.033333</td>\n",
       "      <td>1.633333</td>\n",
       "      <td>0.927857</td>\n",
       "      <td>4.489502</td>\n",
       "      <td>3.977581</td>\n",
       "      <td>188.533333</td>\n",
       "      <td>111.500034</td>\n",
       "    </tr>\n",
       "    <tr>\n",
       "      <th>2</th>\n",
       "      <td>hill_climbing</td>\n",
       "      <td>10</td>\n",
       "      <td>0.033333</td>\n",
       "      <td>1.566667</td>\n",
       "      <td>0.858360</td>\n",
       "      <td>12.149400</td>\n",
       "      <td>6.182860</td>\n",
       "      <td>501.000000</td>\n",
       "      <td>226.309980</td>\n",
       "    </tr>\n",
       "    <tr>\n",
       "      <th>3</th>\n",
       "      <td>hill_climbing</td>\n",
       "      <td>12</td>\n",
       "      <td>0.000000</td>\n",
       "      <td>2.166667</td>\n",
       "      <td>1.085431</td>\n",
       "      <td>20.541680</td>\n",
       "      <td>9.361494</td>\n",
       "      <td>765.600000</td>\n",
       "      <td>350.784107</td>\n",
       "    </tr>\n",
       "    <tr>\n",
       "      <th>4</th>\n",
       "      <td>hill_climbing</td>\n",
       "      <td>15</td>\n",
       "      <td>0.066667</td>\n",
       "      <td>2.133333</td>\n",
       "      <td>0.819307</td>\n",
       "      <td>61.079685</td>\n",
       "      <td>26.306498</td>\n",
       "      <td>1659.000000</td>\n",
       "      <td>500.457377</td>\n",
       "    </tr>\n",
       "    <tr>\n",
       "      <th>5</th>\n",
       "      <td>simulated_annealing</td>\n",
       "      <td>4</td>\n",
       "      <td>1.000000</td>\n",
       "      <td>0.000000</td>\n",
       "      <td>0.000000</td>\n",
       "      <td>3.076688</td>\n",
       "      <td>2.327534</td>\n",
       "      <td>105.433333</td>\n",
       "      <td>64.731106</td>\n",
       "    </tr>\n",
       "    <tr>\n",
       "      <th>6</th>\n",
       "      <td>simulated_annealing</td>\n",
       "      <td>8</td>\n",
       "      <td>0.966667</td>\n",
       "      <td>0.033333</td>\n",
       "      <td>0.182574</td>\n",
       "      <td>22.761579</td>\n",
       "      <td>24.361934</td>\n",
       "      <td>750.600000</td>\n",
       "      <td>865.955068</td>\n",
       "    </tr>\n",
       "    <tr>\n",
       "      <th>7</th>\n",
       "      <td>simulated_annealing</td>\n",
       "      <td>10</td>\n",
       "      <td>0.966667</td>\n",
       "      <td>0.033333</td>\n",
       "      <td>0.182574</td>\n",
       "      <td>61.812707</td>\n",
       "      <td>78.027500</td>\n",
       "      <td>1893.133333</td>\n",
       "      <td>2187.343527</td>\n",
       "    </tr>\n",
       "    <tr>\n",
       "      <th>8</th>\n",
       "      <td>simulated_annealing</td>\n",
       "      <td>12</td>\n",
       "      <td>1.000000</td>\n",
       "      <td>0.000000</td>\n",
       "      <td>0.000000</td>\n",
       "      <td>95.896648</td>\n",
       "      <td>76.493906</td>\n",
       "      <td>2925.133333</td>\n",
       "      <td>2437.406461</td>\n",
       "    </tr>\n",
       "    <tr>\n",
       "      <th>9</th>\n",
       "      <td>simulated_annealing</td>\n",
       "      <td>15</td>\n",
       "      <td>1.000000</td>\n",
       "      <td>0.000000</td>\n",
       "      <td>0.000000</td>\n",
       "      <td>120.743195</td>\n",
       "      <td>115.508700</td>\n",
       "      <td>2767.233333</td>\n",
       "      <td>2545.504295</td>\n",
       "    </tr>\n",
       "    <tr>\n",
       "      <th>10</th>\n",
       "      <td>genetic_algorithm</td>\n",
       "      <td>4</td>\n",
       "      <td>1.000000</td>\n",
       "      <td>0.000000</td>\n",
       "      <td>0.000000</td>\n",
       "      <td>1.449779</td>\n",
       "      <td>0.464226</td>\n",
       "      <td>50.000000</td>\n",
       "      <td>0.000000</td>\n",
       "    </tr>\n",
       "    <tr>\n",
       "      <th>11</th>\n",
       "      <td>genetic_algorithm</td>\n",
       "      <td>8</td>\n",
       "      <td>1.000000</td>\n",
       "      <td>0.000000</td>\n",
       "      <td>0.000000</td>\n",
       "      <td>13.953270</td>\n",
       "      <td>9.672151</td>\n",
       "      <td>220.000000</td>\n",
       "      <td>134.932934</td>\n",
       "    </tr>\n",
       "    <tr>\n",
       "      <th>12</th>\n",
       "      <td>genetic_algorithm</td>\n",
       "      <td>10</td>\n",
       "      <td>1.000000</td>\n",
       "      <td>0.000000</td>\n",
       "      <td>0.000000</td>\n",
       "      <td>44.380146</td>\n",
       "      <td>21.806280</td>\n",
       "      <td>558.333333</td>\n",
       "      <td>265.577878</td>\n",
       "    </tr>\n",
       "    <tr>\n",
       "      <th>13</th>\n",
       "      <td>genetic_algorithm</td>\n",
       "      <td>12</td>\n",
       "      <td>1.000000</td>\n",
       "      <td>0.000000</td>\n",
       "      <td>0.000000</td>\n",
       "      <td>110.531259</td>\n",
       "      <td>90.015828</td>\n",
       "      <td>1070.000000</td>\n",
       "      <td>802.861263</td>\n",
       "    </tr>\n",
       "    <tr>\n",
       "      <th>14</th>\n",
       "      <td>genetic_algorithm</td>\n",
       "      <td>15</td>\n",
       "      <td>1.000000</td>\n",
       "      <td>0.000000</td>\n",
       "      <td>0.000000</td>\n",
       "      <td>233.633538</td>\n",
       "      <td>100.283391</td>\n",
       "      <td>1503.333333</td>\n",
       "      <td>548.969777</td>\n",
       "    </tr>\n",
       "  </tbody>\n",
       "</table>\n",
       "</div>"
      ],
      "text/plain": [
       "              algorithm  size  optimal_rate  h_reached_avg  h_reached_std  \\\n",
       "0         hill_climbing     4      0.066667       1.166667       0.530669   \n",
       "1         hill_climbing     8      0.033333       1.633333       0.927857   \n",
       "2         hill_climbing    10      0.033333       1.566667       0.858360   \n",
       "3         hill_climbing    12      0.000000       2.166667       1.085431   \n",
       "4         hill_climbing    15      0.066667       2.133333       0.819307   \n",
       "5   simulated_annealing     4      1.000000       0.000000       0.000000   \n",
       "6   simulated_annealing     8      0.966667       0.033333       0.182574   \n",
       "7   simulated_annealing    10      0.966667       0.033333       0.182574   \n",
       "8   simulated_annealing    12      1.000000       0.000000       0.000000   \n",
       "9   simulated_annealing    15      1.000000       0.000000       0.000000   \n",
       "10    genetic_algorithm     4      1.000000       0.000000       0.000000   \n",
       "11    genetic_algorithm     8      1.000000       0.000000       0.000000   \n",
       "12    genetic_algorithm    10      1.000000       0.000000       0.000000   \n",
       "13    genetic_algorithm    12      1.000000       0.000000       0.000000   \n",
       "14    genetic_algorithm    15      1.000000       0.000000       0.000000   \n",
       "\n",
       "    time_ms_avg  time_ms_std     iter_avg     iter_std  \n",
       "0      0.556517     0.340249    24.800000    17.241490  \n",
       "1      4.489502     3.977581   188.533333   111.500034  \n",
       "2     12.149400     6.182860   501.000000   226.309980  \n",
       "3     20.541680     9.361494   765.600000   350.784107  \n",
       "4     61.079685    26.306498  1659.000000   500.457377  \n",
       "5      3.076688     2.327534   105.433333    64.731106  \n",
       "6     22.761579    24.361934   750.600000   865.955068  \n",
       "7     61.812707    78.027500  1893.133333  2187.343527  \n",
       "8     95.896648    76.493906  2925.133333  2437.406461  \n",
       "9    120.743195   115.508700  2767.233333  2545.504295  \n",
       "10     1.449779     0.464226    50.000000     0.000000  \n",
       "11    13.953270     9.672151   220.000000   134.932934  \n",
       "12    44.380146    21.806280   558.333333   265.577878  \n",
       "13   110.531259    90.015828  1070.000000   802.861263  \n",
       "14   233.633538   100.283391  1503.333333   548.969777  "
      ]
     },
     "execution_count": 5,
     "metadata": {},
     "output_type": "execute_result"
    }
   ],
   "source": [
    "samples_list = []\n",
    "\n",
    "for algorithm in algorithms:\n",
    "    for size in sizes:\n",
    "        sample_df = simulations_df.query(f'algorithm == \"{algorithm.__name__}\" and size == {size}')\n",
    "        \n",
    "        # Find optimals\n",
    "        try:\n",
    "            optimals = sample_df.best_h.value_counts().loc[0]\n",
    "        except KeyError:\n",
    "            optimals = 0\n",
    "        \n",
    "        # Save saple report\n",
    "        samples_list.append({\n",
    "            'algorithm': algorithm.__name__,\n",
    "            'size': size,\n",
    "            'optimal_rate': optimals / n_iterations,\n",
    "            'h_reached_avg': sample_df['best_h'].mean(),\n",
    "            'h_reached_std': sample_df['best_h'].std(),\n",
    "            'time_ms_avg': sample_df['time_ms'].mean(),\n",
    "            'time_ms_std': sample_df['time_ms'].std(),\n",
    "            'iter_avg': sample_df['iterations'].mean(),\n",
    "            'iter_std': sample_df['iterations'].std()\n",
    "        })\n",
    "\n",
    "# Print table\n",
    "samples_df = pd.DataFrame(samples_list)\n",
    "samples_df.to_csv('samples.csv')\n",
    "samples_df"
   ]
  },
  {
   "cell_type": "markdown",
   "metadata": {
    "pycharm": {
     "name": "#%% md\n"
    }
   },
   "source": [
    "## Gráficos\n",
    "### Boxplot - Tiempo empleado hasta llegar a una solución"
   ]
  },
  {
   "cell_type": "code",
   "execution_count": 6,
   "metadata": {
    "pycharm": {
     "name": "#%%\n"
    }
   },
   "outputs": [
    {
     "data": {
      "image/png": "[encoded data removed]",
      "text/plain": [
       "<Figure size 1500x300 with 5 Axes>"
      ]
     },
     "metadata": {},
     "output_type": "display_data"
    }
   ],
   "source": [
    "%matplotlib inline\n",
    "\n",
    "grid1 = sns.FacetGrid(data=simulations_df, col='size', sharey=False)\n",
    "grid1.map(sns.boxplot, 'algorithm', 'time_ms', order= [x.__name__ for x in algorithms], palette=\"deep\")\n",
    "grid1.set_xticklabels(['HC', 'SA', 'GA'])\n",
    "\n",
    "grid1.fig.subplots_adjust(top=1.5)\n",
    "grid1.savefig('time_by_algorithm.svg')"
   ]
  },
  {
   "cell_type": "markdown",
   "metadata": {},
   "source": [
    "### Boxplot - Mejor h() alcanzado"
   ]
  },
  {
   "cell_type": "code",
   "execution_count": 7,
   "metadata": {},
   "outputs": [
    {
     "data": {
      "image/png": "[encoded data removed]",
      "text/plain": [
       "<Figure size 1500x300 with 5 Axes>"
      ]
     },
     "metadata": {},
     "output_type": "display_data"
    }
   ],
   "source": [
    "%matplotlib inline\n",
    "\n",
    "grid2 = sns.FacetGrid(data=simulations_df, col='size', sharey=False)\n",
    "grid2.map(sns.boxplot, 'algorithm', 'best_h', order= [x.__name__ for x in algorithms], palette=\"deep\")\n",
    "grid2.set_xticklabels(['HC', 'SA', 'GA'])\n",
    "\n",
    "grid2.fig.subplots_adjust(top=1.5)\n",
    "grid2.savefig('h_by_algorithm.svg')"
   ]
  },
  {
   "cell_type": "markdown",
   "metadata": {},
   "source": [
    "\n",
    "# Comportamiento de h()"
   ]
  },
  {
   "cell_type": "markdown",
   "metadata": {},
   "source": [
    "## Se llevará acabo con la siguiente configuración"
   ]
  },
  {
   "cell_type": "code",
   "execution_count": 12,
   "metadata": {},
   "outputs": [],
   "source": [
    "size = 24\n",
    "n_iterations = 1\n",
    "limit = 4000"
   ]
  },
  {
   "cell_type": "code",
   "execution_count": 13,
   "metadata": {},
   "outputs": [],
   "source": [
    "def run_simulation_h(simulations, algorithms, size, limit, i):\n",
    "    for algorithm in algorithms:\n",
    "        # Run agent\n",
    "        _, _, _, h_history = algorithm(size, limit)\n",
    "\n",
    "        # Dump the data to the simulations list\n",
    "        for step, h in h_history:\n",
    "            simulations.append({\n",
    "                'algorithm': algorithm.__name__,\n",
    "                'iter': i,\n",
    "                'step': step,\n",
    "                'h': h\n",
    "            })"
   ]
  },
  {
   "cell_type": "code",
   "execution_count": 14,
   "metadata": {},
   "outputs": [
    {
     "name": "stdout",
     "output_type": "stream",
     "text": [
      "             algorithm  iter  step   h\n",
      "0        hill_climbing     0     0  13\n",
      "1        hill_climbing     0   552  11\n",
      "2        hill_climbing     0  1104  10\n",
      "3        hill_climbing     0  1656   8\n",
      "4        hill_climbing     0  2208   7\n",
      "..                 ...   ...   ...  ..\n",
      "458  genetic_algorithm     0  2950   1\n",
      "459  genetic_algorithm     0  3000   1\n",
      "460  genetic_algorithm     0  3050   1\n",
      "461  genetic_algorithm     0  3100   1\n",
      "462  genetic_algorithm     0  3150   0\n",
      "\n",
      "[463 rows x 4 columns]\n"
     ]
    }
   ],
   "source": [
    "with mp.Manager() as manager:\n",
    "    simulations_h = manager.list() #List thread-safe. (overkill, find alternatives)\n",
    "    pool = mp.Pool() #use all available cores, otherwise specify the number you want as an argument\n",
    "    \n",
    "    # Run\n",
    "    for i in range(n_iterations):\n",
    "        pool.apply_async(run_simulation_h, args=(simulations_h, algorithms, size, limit, i))\n",
    "\n",
    "    # Wait for all threads to finish\n",
    "    pool.close()\n",
    "    pool.join()\n",
    "    \n",
    "    # Save it as a list\n",
    "    simulations_h_df = pd.DataFrame(list(simulations_h))\n",
    "print(simulations_h_df)"
   ]
  },
  {
   "cell_type": "markdown",
   "metadata": {
    "pycharm": {
     "name": "#%% md\n"
    }
   },
   "source": [
    "### Lineplot - Comportamiento de h() por algorítmo, en tableros idénticos"
   ]
  },
  {
   "cell_type": "code",
   "execution_count": 15,
   "metadata": {
    "pycharm": {
     "name": "#%%\n"
    }
   },
   "outputs": [
    {
     "data": {
      "image/png": "[encoded data removed]",
      "text/plain": [
       "<Figure size 494.25x300 with 1 Axes>"
      ]
     },
     "metadata": {},
     "output_type": "display_data"
    }
   ],
   "source": [
    "%matplotlib inline\n",
    "\n",
    "grid3 = sns.FacetGrid(data=simulations_h_df, hue='algorithm', col='iter', sharey=False, palette=\"deep\")\n",
    "grid3.map(sns.lineplot, 'step', 'h')\n",
    "grid3.add_legend()\n",
    "\n",
    "grid3.savefig('h-behavior.svg')"
   ]
  }
 ],
 "metadata": {
  "kernelspec": {
   "display_name": "Python 3 (ipykernel)",
   "language": "python",
   "name": "python3"
  },
  "language_info": {
   "codemirror_mode": {
    "name": "ipython",
    "version": 3
   },
   "file_extension": ".py",
   "mimetype": "text/x-python",
   "name": "python",
   "nbconvert_exporter": "python",
   "pygments_lexer": "ipython3",
   "version": "3.10.4"
  }
 },
 "nbformat": 4,
 "nbformat_minor": 1
}
