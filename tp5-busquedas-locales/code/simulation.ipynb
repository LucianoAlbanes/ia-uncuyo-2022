{
 "cells": [
  {
   "cell_type": "markdown",
   "metadata": {
    "pycharm": {
     "name": "#%% md\n"
    }
   },
   "source": [
    "Análisis de performance de agentes - Búsqueda Local\n",
    "===\n",
    "# Tiempo de ejecución"
   ]
  },
  {
   "cell_type": "code",
   "execution_count": 1,
   "metadata": {
    "pycharm": {
     "name": "#%%\n"
    }
   },
   "outputs": [],
   "source": [
    "import NQueens\n",
    "import random\n",
    "import multiprocessing as mp\n",
    "import pandas as pd\n",
    "import seaborn as sns\n",
    "from time import time_ns"
   ]
  },
  {
   "cell_type": "markdown",
   "metadata": {
    "pycharm": {
     "name": "#%% md\n"
    }
   },
   "source": [
    "## Se llevará a cabo con la siguiente configuración:"
   ]
  },
  {
   "cell_type": "code",
   "execution_count": 2,
   "metadata": {
    "pycharm": {
     "name": "#%%\n"
    }
   },
   "outputs": [],
   "source": [
    "algorithms = [NQueens.hill_climbing, NQueens.simulated_annealing, NQueens.genetic_algorithm]\n",
    "sizes = [4, 8, 10, 12, 15]\n",
    "n_iterations = 30\n",
    "iter_limit_pow = 4\n",
    "random.seed(42)"
   ]
  },
  {
   "cell_type": "markdown",
   "metadata": {
    "pycharm": {
     "name": "#%% md\n"
    }
   },
   "source": [
    "---"
   ]
  },
  {
   "cell_type": "markdown",
   "metadata": {},
   "source": [
    "# Tiempo de ejecución"
   ]
  },
  {
   "cell_type": "markdown",
   "metadata": {
    "pycharm": {
     "name": "#%% md\n"
    }
   },
   "source": [
    "## Correr simulación"
   ]
  },
  {
   "cell_type": "code",
   "execution_count": 3,
   "metadata": {
    "pycharm": {
     "name": "#%%\n"
    }
   },
   "outputs": [],
   "source": [
    "def run_simulation(simulations, algorithms, size, limit):\n",
    "    # Run in each agent\n",
    "    for algorithm in algorithms:\n",
    "        # Run agent\n",
    "        start = time_ns()\n",
    "        _, best_h, iterations, _ = algorithm(size, limit)\n",
    "        end = time_ns()\n",
    "        \n",
    "        # Append results in the siumlations dict\n",
    "        simulations.append({\n",
    "            'algorithm': algorithm.__name__,\n",
    "            'size': size,\n",
    "            'best_h': best_h,\n",
    "            'iterations': iterations,\n",
    "            'time_ms': (end-start)/1e6\n",
    "        })"
   ]
  },
  {
   "cell_type": "code",
   "execution_count": 4,
   "metadata": {
    "pycharm": {
     "name": "#%%\n"
    }
   },
   "outputs": [
    {
     "data": {
      "text/html": [
       "<div>\n",
       "<style scoped>\n",
       "    .dataframe tbody tr th:only-of-type {\n",
       "        vertical-align: middle;\n",
       "    }\n",
       "\n",
       "    .dataframe tbody tr th {\n",
       "        vertical-align: top;\n",
       "    }\n",
       "\n",
       "    .dataframe thead th {\n",
       "        text-align: right;\n",
       "    }\n",
       "</style>\n",
       "<table border=\"1\" class=\"dataframe\">\n",
       "  <thead>\n",
       "    <tr style=\"text-align: right;\">\n",
       "      <th></th>\n",
       "      <th>algorithm</th>\n",
       "      <th>size</th>\n",
       "      <th>best_h</th>\n",
       "      <th>iterations</th>\n",
       "      <th>time_ms</th>\n",
       "    </tr>\n",
       "  </thead>\n",
       "  <tbody>\n",
       "    <tr>\n",
       "      <th>0</th>\n",
       "      <td>hill_climbing</td>\n",
       "      <td>4</td>\n",
       "      <td>2</td>\n",
       "      <td>12</td>\n",
       "      <td>0.272854</td>\n",
       "    </tr>\n",
       "    <tr>\n",
       "      <th>1</th>\n",
       "      <td>hill_climbing</td>\n",
       "      <td>4</td>\n",
       "      <td>2</td>\n",
       "      <td>12</td>\n",
       "      <td>0.332946</td>\n",
       "    </tr>\n",
       "    <tr>\n",
       "      <th>2</th>\n",
       "      <td>hill_climbing</td>\n",
       "      <td>4</td>\n",
       "      <td>2</td>\n",
       "      <td>12</td>\n",
       "      <td>0.382167</td>\n",
       "    </tr>\n",
       "    <tr>\n",
       "      <th>3</th>\n",
       "      <td>hill_climbing</td>\n",
       "      <td>4</td>\n",
       "      <td>0</td>\n",
       "      <td>36</td>\n",
       "      <td>0.805033</td>\n",
       "    </tr>\n",
       "    <tr>\n",
       "      <th>4</th>\n",
       "      <td>simulated_annealing</td>\n",
       "      <td>4</td>\n",
       "      <td>0</td>\n",
       "      <td>7</td>\n",
       "      <td>0.228941</td>\n",
       "    </tr>\n",
       "    <tr>\n",
       "      <th>...</th>\n",
       "      <td>...</td>\n",
       "      <td>...</td>\n",
       "      <td>...</td>\n",
       "      <td>...</td>\n",
       "      <td>...</td>\n",
       "    </tr>\n",
       "    <tr>\n",
       "      <th>445</th>\n",
       "      <td>simulated_annealing</td>\n",
       "      <td>15</td>\n",
       "      <td>0</td>\n",
       "      <td>16458</td>\n",
       "      <td>443.328671</td>\n",
       "    </tr>\n",
       "    <tr>\n",
       "      <th>446</th>\n",
       "      <td>simulated_annealing</td>\n",
       "      <td>15</td>\n",
       "      <td>0</td>\n",
       "      <td>2268</td>\n",
       "      <td>69.680644</td>\n",
       "    </tr>\n",
       "    <tr>\n",
       "      <th>447</th>\n",
       "      <td>genetic_algorithm</td>\n",
       "      <td>15</td>\n",
       "      <td>2</td>\n",
       "      <td>51000</td>\n",
       "      <td>6642.605833</td>\n",
       "    </tr>\n",
       "    <tr>\n",
       "      <th>448</th>\n",
       "      <td>genetic_algorithm</td>\n",
       "      <td>15</td>\n",
       "      <td>2</td>\n",
       "      <td>51000</td>\n",
       "      <td>3413.475894</td>\n",
       "    </tr>\n",
       "    <tr>\n",
       "      <th>449</th>\n",
       "      <td>genetic_algorithm</td>\n",
       "      <td>15</td>\n",
       "      <td>2</td>\n",
       "      <td>51000</td>\n",
       "      <td>4037.791995</td>\n",
       "    </tr>\n",
       "  </tbody>\n",
       "</table>\n",
       "<p>450 rows × 5 columns</p>\n",
       "</div>"
      ],
      "text/plain": [
       "               algorithm  size  best_h  iterations      time_ms\n",
       "0          hill_climbing     4       2          12     0.272854\n",
       "1          hill_climbing     4       2          12     0.332946\n",
       "2          hill_climbing     4       2          12     0.382167\n",
       "3          hill_climbing     4       0          36     0.805033\n",
       "4    simulated_annealing     4       0           7     0.228941\n",
       "..                   ...   ...     ...         ...          ...\n",
       "445  simulated_annealing    15       0       16458   443.328671\n",
       "446  simulated_annealing    15       0        2268    69.680644\n",
       "447    genetic_algorithm    15       2       51000  6642.605833\n",
       "448    genetic_algorithm    15       2       51000  3413.475894\n",
       "449    genetic_algorithm    15       2       51000  4037.791995\n",
       "\n",
       "[450 rows x 5 columns]"
      ]
     },
     "execution_count": 4,
     "metadata": {},
     "output_type": "execute_result"
    }
   ],
   "source": [
    "# Using parallelism :D\n",
    "with mp.Manager() as manager:\n",
    "    simulations = manager.list() #List thread-safe. (overkill, find alternatives)\n",
    "    pool = mp.Pool() #use all available cores, otherwise specify the number you want as an argument\n",
    "    \n",
    "    # Test iterations\n",
    "    for size in sizes:\n",
    "        for _ in range(n_iterations):\n",
    "            pool.apply_async(run_simulation, args=(simulations, algorithms, size, size**iter_limit_pow))\n",
    "\n",
    "    # Wait for all threads to finish\n",
    "    pool.close()\n",
    "    pool.join()\n",
    "    \n",
    "    # Save it as a pandas dataframe\n",
    "    simulations_df = pd.DataFrame(list(simulations))\n",
    "\n",
    "simulations_df.to_csv('simulations.csv')\n",
    "simulations_df"
   ]
  },
  {
   "cell_type": "markdown",
   "metadata": {
    "pycharm": {
     "name": "#%% md\n"
    }
   },
   "source": [
    "## Análisis del performance de cada algorítmo"
   ]
  },
  {
   "cell_type": "code",
   "execution_count": 5,
   "metadata": {
    "pycharm": {
     "name": "#%%\n"
    }
   },
   "outputs": [
    {
     "data": {
      "text/html": [
       "<div>\n",
       "<style scoped>\n",
       "    .dataframe tbody tr th:only-of-type {\n",
       "        vertical-align: middle;\n",
       "    }\n",
       "\n",
       "    .dataframe tbody tr th {\n",
       "        vertical-align: top;\n",
       "    }\n",
       "\n",
       "    .dataframe thead th {\n",
       "        text-align: right;\n",
       "    }\n",
       "</style>\n",
       "<table border=\"1\" class=\"dataframe\">\n",
       "  <thead>\n",
       "    <tr style=\"text-align: right;\">\n",
       "      <th></th>\n",
       "      <th>algorithm</th>\n",
       "      <th>size</th>\n",
       "      <th>optimal_rate</th>\n",
       "      <th>h_reached_avg</th>\n",
       "      <th>h_reached_std</th>\n",
       "      <th>time_ms_avg</th>\n",
       "      <th>time_ms_std</th>\n",
       "      <th>iter_avg</th>\n",
       "      <th>iter_std</th>\n",
       "    </tr>\n",
       "  </thead>\n",
       "  <tbody>\n",
       "    <tr>\n",
       "      <th>0</th>\n",
       "      <td>hill_climbing</td>\n",
       "      <td>4</td>\n",
       "      <td>0.333333</td>\n",
       "      <td>0.933333</td>\n",
       "      <td>0.784915</td>\n",
       "      <td>0.325486</td>\n",
       "      <td>0.210386</td>\n",
       "      <td>18.400000</td>\n",
       "      <td>13.270657</td>\n",
       "    </tr>\n",
       "    <tr>\n",
       "      <th>1</th>\n",
       "      <td>hill_climbing</td>\n",
       "      <td>8</td>\n",
       "      <td>0.166667</td>\n",
       "      <td>1.266667</td>\n",
       "      <td>0.784915</td>\n",
       "      <td>3.711644</td>\n",
       "      <td>1.978408</td>\n",
       "      <td>218.400000</td>\n",
       "      <td>113.295951</td>\n",
       "    </tr>\n",
       "    <tr>\n",
       "      <th>2</th>\n",
       "      <td>hill_climbing</td>\n",
       "      <td>10</td>\n",
       "      <td>0.100000</td>\n",
       "      <td>1.400000</td>\n",
       "      <td>0.770132</td>\n",
       "      <td>8.957757</td>\n",
       "      <td>3.528422</td>\n",
       "      <td>444.000000</td>\n",
       "      <td>173.574986</td>\n",
       "    </tr>\n",
       "    <tr>\n",
       "      <th>3</th>\n",
       "      <td>hill_climbing</td>\n",
       "      <td>12</td>\n",
       "      <td>0.000000</td>\n",
       "      <td>1.933333</td>\n",
       "      <td>0.691492</td>\n",
       "      <td>16.949412</td>\n",
       "      <td>8.127507</td>\n",
       "      <td>770.000000</td>\n",
       "      <td>368.628773</td>\n",
       "    </tr>\n",
       "    <tr>\n",
       "      <th>4</th>\n",
       "      <td>hill_climbing</td>\n",
       "      <td>15</td>\n",
       "      <td>0.000000</td>\n",
       "      <td>2.233333</td>\n",
       "      <td>1.135124</td>\n",
       "      <td>40.608719</td>\n",
       "      <td>14.486022</td>\n",
       "      <td>1624.000000</td>\n",
       "      <td>572.945204</td>\n",
       "    </tr>\n",
       "    <tr>\n",
       "      <th>5</th>\n",
       "      <td>simulated_annealing</td>\n",
       "      <td>4</td>\n",
       "      <td>1.000000</td>\n",
       "      <td>0.000000</td>\n",
       "      <td>0.000000</td>\n",
       "      <td>1.768536</td>\n",
       "      <td>1.231282</td>\n",
       "      <td>91.033333</td>\n",
       "      <td>67.958650</td>\n",
       "    </tr>\n",
       "    <tr>\n",
       "      <th>6</th>\n",
       "      <td>simulated_annealing</td>\n",
       "      <td>8</td>\n",
       "      <td>0.966667</td>\n",
       "      <td>0.033333</td>\n",
       "      <td>0.182574</td>\n",
       "      <td>20.762859</td>\n",
       "      <td>21.715888</td>\n",
       "      <td>925.200000</td>\n",
       "      <td>1014.751079</td>\n",
       "    </tr>\n",
       "    <tr>\n",
       "      <th>7</th>\n",
       "      <td>simulated_annealing</td>\n",
       "      <td>10</td>\n",
       "      <td>1.000000</td>\n",
       "      <td>0.000000</td>\n",
       "      <td>0.000000</td>\n",
       "      <td>52.028598</td>\n",
       "      <td>50.412614</td>\n",
       "      <td>2006.166667</td>\n",
       "      <td>1960.318695</td>\n",
       "    </tr>\n",
       "    <tr>\n",
       "      <th>8</th>\n",
       "      <td>simulated_annealing</td>\n",
       "      <td>12</td>\n",
       "      <td>1.000000</td>\n",
       "      <td>0.000000</td>\n",
       "      <td>0.000000</td>\n",
       "      <td>68.204739</td>\n",
       "      <td>53.917031</td>\n",
       "      <td>2469.233333</td>\n",
       "      <td>1970.195294</td>\n",
       "    </tr>\n",
       "    <tr>\n",
       "      <th>9</th>\n",
       "      <td>simulated_annealing</td>\n",
       "      <td>15</td>\n",
       "      <td>1.000000</td>\n",
       "      <td>0.000000</td>\n",
       "      <td>0.000000</td>\n",
       "      <td>128.279659</td>\n",
       "      <td>99.336893</td>\n",
       "      <td>4227.333333</td>\n",
       "      <td>3482.202002</td>\n",
       "    </tr>\n",
       "    <tr>\n",
       "      <th>10</th>\n",
       "      <td>genetic_algorithm</td>\n",
       "      <td>4</td>\n",
       "      <td>1.000000</td>\n",
       "      <td>0.000000</td>\n",
       "      <td>0.000000</td>\n",
       "      <td>18.946830</td>\n",
       "      <td>1.422411</td>\n",
       "      <td>1000.000000</td>\n",
       "      <td>0.000000</td>\n",
       "    </tr>\n",
       "    <tr>\n",
       "      <th>11</th>\n",
       "      <td>genetic_algorithm</td>\n",
       "      <td>8</td>\n",
       "      <td>0.900000</td>\n",
       "      <td>0.100000</td>\n",
       "      <td>0.305129</td>\n",
       "      <td>86.473558</td>\n",
       "      <td>89.189350</td>\n",
       "      <td>1400.000000</td>\n",
       "      <td>1220.514307</td>\n",
       "    </tr>\n",
       "    <tr>\n",
       "      <th>12</th>\n",
       "      <td>genetic_algorithm</td>\n",
       "      <td>10</td>\n",
       "      <td>0.066667</td>\n",
       "      <td>0.966667</td>\n",
       "      <td>0.319842</td>\n",
       "      <td>828.729381</td>\n",
       "      <td>209.036492</td>\n",
       "      <td>9400.000000</td>\n",
       "      <td>2283.373185</td>\n",
       "    </tr>\n",
       "    <tr>\n",
       "      <th>13</th>\n",
       "      <td>genetic_algorithm</td>\n",
       "      <td>12</td>\n",
       "      <td>0.033333</td>\n",
       "      <td>1.466667</td>\n",
       "      <td>0.571346</td>\n",
       "      <td>2119.805433</td>\n",
       "      <td>385.800457</td>\n",
       "      <td>20333.333333</td>\n",
       "      <td>3651.483717</td>\n",
       "    </tr>\n",
       "    <tr>\n",
       "      <th>14</th>\n",
       "      <td>genetic_algorithm</td>\n",
       "      <td>15</td>\n",
       "      <td>0.000000</td>\n",
       "      <td>2.433333</td>\n",
       "      <td>0.504007</td>\n",
       "      <td>6536.692944</td>\n",
       "      <td>780.176633</td>\n",
       "      <td>51000.000000</td>\n",
       "      <td>0.000000</td>\n",
       "    </tr>\n",
       "  </tbody>\n",
       "</table>\n",
       "</div>"
      ],
      "text/plain": [
       "              algorithm  size  optimal_rate  h_reached_avg  h_reached_std  \\\n",
       "0         hill_climbing     4      0.333333       0.933333       0.784915   \n",
       "1         hill_climbing     8      0.166667       1.266667       0.784915   \n",
       "2         hill_climbing    10      0.100000       1.400000       0.770132   \n",
       "3         hill_climbing    12      0.000000       1.933333       0.691492   \n",
       "4         hill_climbing    15      0.000000       2.233333       1.135124   \n",
       "5   simulated_annealing     4      1.000000       0.000000       0.000000   \n",
       "6   simulated_annealing     8      0.966667       0.033333       0.182574   \n",
       "7   simulated_annealing    10      1.000000       0.000000       0.000000   \n",
       "8   simulated_annealing    12      1.000000       0.000000       0.000000   \n",
       "9   simulated_annealing    15      1.000000       0.000000       0.000000   \n",
       "10    genetic_algorithm     4      1.000000       0.000000       0.000000   \n",
       "11    genetic_algorithm     8      0.900000       0.100000       0.305129   \n",
       "12    genetic_algorithm    10      0.066667       0.966667       0.319842   \n",
       "13    genetic_algorithm    12      0.033333       1.466667       0.571346   \n",
       "14    genetic_algorithm    15      0.000000       2.433333       0.504007   \n",
       "\n",
       "    time_ms_avg  time_ms_std      iter_avg     iter_std  \n",
       "0      0.325486     0.210386     18.400000    13.270657  \n",
       "1      3.711644     1.978408    218.400000   113.295951  \n",
       "2      8.957757     3.528422    444.000000   173.574986  \n",
       "3     16.949412     8.127507    770.000000   368.628773  \n",
       "4     40.608719    14.486022   1624.000000   572.945204  \n",
       "5      1.768536     1.231282     91.033333    67.958650  \n",
       "6     20.762859    21.715888    925.200000  1014.751079  \n",
       "7     52.028598    50.412614   2006.166667  1960.318695  \n",
       "8     68.204739    53.917031   2469.233333  1970.195294  \n",
       "9    128.279659    99.336893   4227.333333  3482.202002  \n",
       "10    18.946830     1.422411   1000.000000     0.000000  \n",
       "11    86.473558    89.189350   1400.000000  1220.514307  \n",
       "12   828.729381   209.036492   9400.000000  2283.373185  \n",
       "13  2119.805433   385.800457  20333.333333  3651.483717  \n",
       "14  6536.692944   780.176633  51000.000000     0.000000  "
      ]
     },
     "execution_count": 5,
     "metadata": {},
     "output_type": "execute_result"
    }
   ],
   "source": [
    "samples_list = []\n",
    "\n",
    "for algorithm in algorithms:\n",
    "    for size in sizes:\n",
    "        sample_df = simulations_df.query(f'algorithm == \"{algorithm.__name__}\" and size == {size}')\n",
    "        \n",
    "        # Find optimals\n",
    "        try:\n",
    "            optimals = sample_df.best_h.value_counts().loc[0]\n",
    "        except KeyError:\n",
    "            optimals = 0\n",
    "        \n",
    "        # Save saple report\n",
    "        samples_list.append({\n",
    "            'algorithm': algorithm.__name__,\n",
    "            'size': size,\n",
    "            'optimal_rate': optimals / n_iterations,\n",
    "            'h_reached_avg': sample_df['best_h'].mean(),\n",
    "            'h_reached_std': sample_df['best_h'].std(),\n",
    "            'time_ms_avg': sample_df['time_ms'].mean(),\n",
    "            'time_ms_std': sample_df['time_ms'].std(),\n",
    "            'iter_avg': sample_df['iterations'].mean(),\n",
    "            'iter_std': sample_df['iterations'].std()\n",
    "        })\n",
    "\n",
    "# Print table\n",
    "samples_df = pd.DataFrame(samples_list)\n",
    "samples_df.to_csv('samples.csv')\n",
    "samples_df"
   ]
  },
  {
   "cell_type": "markdown",
   "metadata": {
    "pycharm": {
     "name": "#%% md\n"
    }
   },
   "source": [
    "## Gráficos\n",
    "### Boxplot - Tiempo empleado hasta llegar a una solución"
   ]
  },
  {
   "cell_type": "code",
   "execution_count": 6,
   "metadata": {
    "pycharm": {
     "name": "#%%\n"
    }
   },
   "outputs": [
    {
     "data": {
      "image/png": "[encoded data removed]",
      "text/plain": [
       "<Figure size 1500x300 with 5 Axes>"
      ]
     },
     "metadata": {},
     "output_type": "display_data"
    }
   ],
   "source": [
    "%matplotlib inline\n",
    "\n",
    "grid1 = sns.FacetGrid(data=simulations_df, col='size', sharey=False)\n",
    "grid1.map(sns.boxplot, 'algorithm', 'time_ms', order= [x.__name__ for x in algorithms], palette=\"deep\")\n",
    "grid1.set_xticklabels(['HC', 'SA', 'GA'])\n",
    "\n",
    "grid1.fig.subplots_adjust(top=1.5)\n",
    "grid1.savefig('time_by_algorithm.svg')"
   ]
  },
  {
   "cell_type": "markdown",
   "metadata": {},
   "source": [
    "### Boxplot - Mejor h() alcanzado"
   ]
  },
  {
   "cell_type": "code",
   "execution_count": 7,
   "metadata": {},
   "outputs": [
    {
     "data": {
      "image/png": "[encoded data removed]",
      "text/plain": [
       "<Figure size 1500x300 with 5 Axes>"
      ]
     },
     "metadata": {},
     "output_type": "display_data"
    }
   ],
   "source": [
    "%matplotlib inline\n",
    "\n",
    "grid2 = sns.FacetGrid(data=simulations_df, col='size', sharey=False)\n",
    "grid2.map(sns.boxplot, 'algorithm', 'best_h', order= [x.__name__ for x in algorithms], palette=\"deep\")\n",
    "grid2.set_xticklabels(['HC', 'SA', 'GA'])\n",
    "\n",
    "grid2.fig.subplots_adjust(top=1.5)\n",
    "grid2.savefig('h_by_algorithm.svg')"
   ]
  },
  {
   "cell_type": "markdown",
   "metadata": {},
   "source": [
    "\n",
    "# Comportamiento de h()"
   ]
  },
  {
   "cell_type": "markdown",
   "metadata": {},
   "source": [
    "## Se llevará acabo con la siguiente configuración"
   ]
  },
  {
   "cell_type": "code",
   "execution_count": 8,
   "metadata": {},
   "outputs": [],
   "source": [
    "size = 24\n",
    "n_iterations = 3\n",
    "limit = 5000"
   ]
  },
  {
   "cell_type": "code",
   "execution_count": 9,
   "metadata": {},
   "outputs": [],
   "source": [
    "def run_simulation_h(simulations, algorithms, size, limit, i):\n",
    "    for algorithm in algorithms:\n",
    "        # Run agent\n",
    "        _, _, _, h_history = algorithm(size, limit)\n",
    "\n",
    "        # Dump the data to the simulations list\n",
    "        for step, h in h_history:\n",
    "            simulations.append({\n",
    "                'algorithm': algorithm.__name__,\n",
    "                'iter': i,\n",
    "                'step': step,\n",
    "                'h': h\n",
    "            })"
   ]
  },
  {
   "cell_type": "code",
   "execution_count": 10,
   "metadata": {},
   "outputs": [],
   "source": [
    "with mp.Manager() as manager:\n",
    "    simulations_h = manager.list() #List thread-safe. (overkill, find alternatives)\n",
    "    pool = mp.Pool() #use all available cores, otherwise specify the number you want as an argument\n",
    "    \n",
    "    # Run\n",
    "    for i in range(n_iterations):\n",
    "        pool.apply_async(run_simulation_h, args=(simulations_h, algorithms, size, limit, i))\n",
    "\n",
    "    # Wait for all threads to finish\n",
    "    pool.close()\n",
    "    pool.join()\n",
    "    \n",
    "    # Save it as a list\n",
    "    simulations_h_df = pd.DataFrame(list(simulations_h))"
   ]
  },
  {
   "cell_type": "markdown",
   "metadata": {
    "pycharm": {
     "name": "#%% md\n"
    }
   },
   "source": [
    "### Lineplot - Comportamiento de h() por algorítmo, en tableros idénticos"
   ]
  },
  {
   "cell_type": "code",
   "execution_count": 11,
   "metadata": {
    "pycharm": {
     "name": "#%%\n"
    }
   },
   "outputs": [
    {
     "data": {
      "image/png": "[encoded data removed]",
      "text/plain": [
       "<Figure size 1094.25x300 with 3 Axes>"
      ]
     },
     "metadata": {},
     "output_type": "display_data"
    }
   ],
   "source": [
    "%matplotlib inline\n",
    "\n",
    "grid3 = sns.FacetGrid(data=simulations_h_df, hue='algorithm', col='iter', sharey=False, palette=\"deep\")\n",
    "grid3.map(sns.lineplot, 'step', 'h')\n",
    "grid3.add_legend()\n",
    "\n",
    "grid3.savefig('h-behavior.svg')"
   ]
  }
 ],
 "metadata": {
  "kernelspec": {
   "display_name": "Python 3 (ipykernel)",
   "language": "python",
   "name": "python3"
  },
  "language_info": {
   "codemirror_mode": {
    "name": "ipython",
    "version": 3
   },
   "file_extension": ".py",
   "mimetype": "text/x-python",
   "name": "python",
   "nbconvert_exporter": "python",
   "pygments_lexer": "ipython3",
   "version": "3.10.4"
  }
 },
 "nbformat": 4,
 "nbformat_minor": 1
}
