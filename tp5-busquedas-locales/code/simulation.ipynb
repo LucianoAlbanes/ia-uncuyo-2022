{
 "cells": [
  {
   "cell_type": "markdown",
   "metadata": {
    "pycharm": {
     "name": "#%% md\n"
    }
   },
   "source": [
    "Análisis de performance de agentes - Búsqueda Local\n",
    "===\n",
    "# Tiempo de ejecución"
   ]
  },
  {
   "cell_type": "code",
   "execution_count": 1,
   "metadata": {
    "pycharm": {
     "name": "#%%\n"
    }
   },
   "outputs": [],
   "source": [
    "import NQueens\n",
    "import random\n",
    "import multiprocessing as mp\n",
    "import pandas as pd\n",
    "import seaborn as sns\n",
    "from copy import copy\n",
    "from time import time_ns"
   ]
  },
  {
   "cell_type": "markdown",
   "metadata": {
    "pycharm": {
     "name": "#%% md\n"
    }
   },
   "source": [
    "## Se llevará a cabo con la siguiente configuración:"
   ]
  },
  {
   "cell_type": "code",
   "execution_count": 2,
   "metadata": {
    "pycharm": {
     "name": "#%%\n"
    }
   },
   "outputs": [],
   "source": [
    "algorithms = [NQueens.hill_climbing, NQueens.simulated_annealing]\n",
    "sizes = [4, 8, 10, 12, 15]\n",
    "n_iterations = 30\n",
    "iter_limit_pow = 4\n",
    "random.seed(42)"
   ]
  },
  {
   "cell_type": "markdown",
   "metadata": {
    "pycharm": {
     "name": "#%% md\n"
    }
   },
   "source": [
    "---"
   ]
  },
  {
   "cell_type": "markdown",
   "metadata": {},
   "source": [
    "# Tiempo de ejecución"
   ]
  },
  {
   "cell_type": "markdown",
   "metadata": {
    "pycharm": {
     "name": "#%% md\n"
    }
   },
   "source": [
    "## Correr simulación"
   ]
  },
  {
   "cell_type": "code",
   "execution_count": 3,
   "metadata": {
    "pycharm": {
     "name": "#%%\n"
    }
   },
   "outputs": [],
   "source": [
    "def run_simulation(simulations, algorithms, size, limit):\n",
    "    # Create common board\n",
    "    base_board = random.sample(range(size), size)\n",
    "    \n",
    "    # Run in each agent\n",
    "    for algorithm in algorithms:\n",
    "        # Run agent\n",
    "        start = time_ns()\n",
    "        best_h, iterations, _ = algorithm(copy(base_board), limit)\n",
    "        end = time_ns()\n",
    "        \n",
    "        # Append results in the siumlations dict\n",
    "        simulations.append({\n",
    "            'algorithm': algorithm.__name__,\n",
    "            'size': size,\n",
    "            'best_h': best_h,\n",
    "            'iterations': iterations,\n",
    "            'time_ms': (end-start)/1e6\n",
    "        })"
   ]
  },
  {
   "cell_type": "code",
   "execution_count": 4,
   "metadata": {
    "pycharm": {
     "name": "#%%\n"
    }
   },
   "outputs": [
    {
     "data": {
      "text/html": [
       "<div>\n",
       "<style scoped>\n",
       "    .dataframe tbody tr th:only-of-type {\n",
       "        vertical-align: middle;\n",
       "    }\n",
       "\n",
       "    .dataframe tbody tr th {\n",
       "        vertical-align: top;\n",
       "    }\n",
       "\n",
       "    .dataframe thead th {\n",
       "        text-align: right;\n",
       "    }\n",
       "</style>\n",
       "<table border=\"1\" class=\"dataframe\">\n",
       "  <thead>\n",
       "    <tr style=\"text-align: right;\">\n",
       "      <th></th>\n",
       "      <th>algorithm</th>\n",
       "      <th>size</th>\n",
       "      <th>best_h</th>\n",
       "      <th>iterations</th>\n",
       "      <th>time_ms</th>\n",
       "    </tr>\n",
       "  </thead>\n",
       "  <tbody>\n",
       "    <tr>\n",
       "      <th>0</th>\n",
       "      <td>hill_climbing</td>\n",
       "      <td>4</td>\n",
       "      <td>1</td>\n",
       "      <td>12</td>\n",
       "      <td>0.398523</td>\n",
       "    </tr>\n",
       "    <tr>\n",
       "      <th>1</th>\n",
       "      <td>hill_climbing</td>\n",
       "      <td>4</td>\n",
       "      <td>1</td>\n",
       "      <td>12</td>\n",
       "      <td>0.312154</td>\n",
       "    </tr>\n",
       "    <tr>\n",
       "      <th>2</th>\n",
       "      <td>hill_climbing</td>\n",
       "      <td>4</td>\n",
       "      <td>1</td>\n",
       "      <td>12</td>\n",
       "      <td>0.171864</td>\n",
       "    </tr>\n",
       "    <tr>\n",
       "      <th>3</th>\n",
       "      <td>hill_climbing</td>\n",
       "      <td>4</td>\n",
       "      <td>0</td>\n",
       "      <td>36</td>\n",
       "      <td>0.733922</td>\n",
       "    </tr>\n",
       "    <tr>\n",
       "      <th>4</th>\n",
       "      <td>simulated_annealing</td>\n",
       "      <td>4</td>\n",
       "      <td>0</td>\n",
       "      <td>14</td>\n",
       "      <td>0.454835</td>\n",
       "    </tr>\n",
       "    <tr>\n",
       "      <th>...</th>\n",
       "      <td>...</td>\n",
       "      <td>...</td>\n",
       "      <td>...</td>\n",
       "      <td>...</td>\n",
       "      <td>...</td>\n",
       "    </tr>\n",
       "    <tr>\n",
       "      <th>295</th>\n",
       "      <td>hill_climbing</td>\n",
       "      <td>15</td>\n",
       "      <td>3</td>\n",
       "      <td>840</td>\n",
       "      <td>20.761845</td>\n",
       "    </tr>\n",
       "    <tr>\n",
       "      <th>296</th>\n",
       "      <td>simulated_annealing</td>\n",
       "      <td>15</td>\n",
       "      <td>0</td>\n",
       "      <td>1103</td>\n",
       "      <td>33.312601</td>\n",
       "    </tr>\n",
       "    <tr>\n",
       "      <th>297</th>\n",
       "      <td>simulated_annealing</td>\n",
       "      <td>15</td>\n",
       "      <td>0</td>\n",
       "      <td>1375</td>\n",
       "      <td>38.039578</td>\n",
       "    </tr>\n",
       "    <tr>\n",
       "      <th>298</th>\n",
       "      <td>simulated_annealing</td>\n",
       "      <td>15</td>\n",
       "      <td>0</td>\n",
       "      <td>4056</td>\n",
       "      <td>114.146022</td>\n",
       "    </tr>\n",
       "    <tr>\n",
       "      <th>299</th>\n",
       "      <td>simulated_annealing</td>\n",
       "      <td>15</td>\n",
       "      <td>0</td>\n",
       "      <td>11293</td>\n",
       "      <td>230.629215</td>\n",
       "    </tr>\n",
       "  </tbody>\n",
       "</table>\n",
       "<p>300 rows × 5 columns</p>\n",
       "</div>"
      ],
      "text/plain": [
       "               algorithm  size  best_h  iterations     time_ms\n",
       "0          hill_climbing     4       1          12    0.398523\n",
       "1          hill_climbing     4       1          12    0.312154\n",
       "2          hill_climbing     4       1          12    0.171864\n",
       "3          hill_climbing     4       0          36    0.733922\n",
       "4    simulated_annealing     4       0          14    0.454835\n",
       "..                   ...   ...     ...         ...         ...\n",
       "295        hill_climbing    15       3         840   20.761845\n",
       "296  simulated_annealing    15       0        1103   33.312601\n",
       "297  simulated_annealing    15       0        1375   38.039578\n",
       "298  simulated_annealing    15       0        4056  114.146022\n",
       "299  simulated_annealing    15       0       11293  230.629215\n",
       "\n",
       "[300 rows x 5 columns]"
      ]
     },
     "execution_count": 4,
     "metadata": {},
     "output_type": "execute_result"
    }
   ],
   "source": [
    "# Using parallelism :D\n",
    "with mp.Manager() as manager:\n",
    "    simulations = manager.list() #List thread-safe. (overkill, find alternatives)\n",
    "    pool = mp.Pool() #use all available cores, otherwise specify the number you want as an argument\n",
    "    \n",
    "    # Test iterations\n",
    "    for size in sizes:\n",
    "        for _ in range(n_iterations):\n",
    "            pool.apply_async(run_simulation, args=(simulations, algorithms, size, size**iter_limit_pow))\n",
    "\n",
    "    # Wait for all threads to finish\n",
    "    pool.close()\n",
    "    pool.join()\n",
    "    \n",
    "    # Save it as a pandas dataframe\n",
    "    simulations_df = pd.DataFrame(list(simulations))\n",
    "\n",
    "simulations_df.to_csv('simulations.csv')\n",
    "simulations_df"
   ]
  },
  {
   "cell_type": "markdown",
   "metadata": {
    "pycharm": {
     "name": "#%% md\n"
    }
   },
   "source": [
    "## Análisis del performance de cada algorítmo"
   ]
  },
  {
   "cell_type": "code",
   "execution_count": 5,
   "metadata": {
    "pycharm": {
     "name": "#%%\n"
    }
   },
   "outputs": [
    {
     "data": {
      "text/html": [
       "<div>\n",
       "<style scoped>\n",
       "    .dataframe tbody tr th:only-of-type {\n",
       "        vertical-align: middle;\n",
       "    }\n",
       "\n",
       "    .dataframe tbody tr th {\n",
       "        vertical-align: top;\n",
       "    }\n",
       "\n",
       "    .dataframe thead th {\n",
       "        text-align: right;\n",
       "    }\n",
       "</style>\n",
       "<table border=\"1\" class=\"dataframe\">\n",
       "  <thead>\n",
       "    <tr style=\"text-align: right;\">\n",
       "      <th></th>\n",
       "      <th>algorithm</th>\n",
       "      <th>size</th>\n",
       "      <th>optimal_rate</th>\n",
       "      <th>time_ms_avg</th>\n",
       "      <th>time_ms_std</th>\n",
       "      <th>iter_avg</th>\n",
       "      <th>iter_std</th>\n",
       "    </tr>\n",
       "  </thead>\n",
       "  <tbody>\n",
       "    <tr>\n",
       "      <th>0</th>\n",
       "      <td>hill_climbing</td>\n",
       "      <td>4</td>\n",
       "      <td>0.066667</td>\n",
       "      <td>0.443533</td>\n",
       "      <td>0.288182</td>\n",
       "      <td>22.400000</td>\n",
       "      <td>15.672511</td>\n",
       "    </tr>\n",
       "    <tr>\n",
       "      <th>1</th>\n",
       "      <td>hill_climbing</td>\n",
       "      <td>8</td>\n",
       "      <td>0.133333</td>\n",
       "      <td>4.346597</td>\n",
       "      <td>1.853438</td>\n",
       "      <td>225.866667</td>\n",
       "      <td>91.230566</td>\n",
       "    </tr>\n",
       "    <tr>\n",
       "      <th>2</th>\n",
       "      <td>hill_climbing</td>\n",
       "      <td>10</td>\n",
       "      <td>0.100000</td>\n",
       "      <td>9.903404</td>\n",
       "      <td>5.072441</td>\n",
       "      <td>477.000000</td>\n",
       "      <td>245.794279</td>\n",
       "    </tr>\n",
       "    <tr>\n",
       "      <th>3</th>\n",
       "      <td>hill_climbing</td>\n",
       "      <td>12</td>\n",
       "      <td>0.166667</td>\n",
       "      <td>18.307142</td>\n",
       "      <td>7.271072</td>\n",
       "      <td>818.400000</td>\n",
       "      <td>322.215777</td>\n",
       "    </tr>\n",
       "    <tr>\n",
       "      <th>4</th>\n",
       "      <td>hill_climbing</td>\n",
       "      <td>15</td>\n",
       "      <td>0.000000</td>\n",
       "      <td>35.984394</td>\n",
       "      <td>11.465744</td>\n",
       "      <td>1456.000000</td>\n",
       "      <td>470.975510</td>\n",
       "    </tr>\n",
       "    <tr>\n",
       "      <th>5</th>\n",
       "      <td>simulated_annealing</td>\n",
       "      <td>4</td>\n",
       "      <td>0.966667</td>\n",
       "      <td>3.121946</td>\n",
       "      <td>1.966636</td>\n",
       "      <td>121.100000</td>\n",
       "      <td>75.922987</td>\n",
       "    </tr>\n",
       "    <tr>\n",
       "      <th>6</th>\n",
       "      <td>simulated_annealing</td>\n",
       "      <td>8</td>\n",
       "      <td>0.966667</td>\n",
       "      <td>20.098630</td>\n",
       "      <td>20.342819</td>\n",
       "      <td>794.233333</td>\n",
       "      <td>822.710142</td>\n",
       "    </tr>\n",
       "    <tr>\n",
       "      <th>7</th>\n",
       "      <td>simulated_annealing</td>\n",
       "      <td>10</td>\n",
       "      <td>0.966667</td>\n",
       "      <td>59.142293</td>\n",
       "      <td>60.889138</td>\n",
       "      <td>2274.700000</td>\n",
       "      <td>2372.409806</td>\n",
       "    </tr>\n",
       "    <tr>\n",
       "      <th>8</th>\n",
       "      <td>simulated_annealing</td>\n",
       "      <td>12</td>\n",
       "      <td>1.000000</td>\n",
       "      <td>78.909338</td>\n",
       "      <td>71.173977</td>\n",
       "      <td>2841.600000</td>\n",
       "      <td>2550.318906</td>\n",
       "    </tr>\n",
       "    <tr>\n",
       "      <th>9</th>\n",
       "      <td>simulated_annealing</td>\n",
       "      <td>15</td>\n",
       "      <td>1.000000</td>\n",
       "      <td>112.921451</td>\n",
       "      <td>93.945192</td>\n",
       "      <td>3828.933333</td>\n",
       "      <td>3340.111839</td>\n",
       "    </tr>\n",
       "  </tbody>\n",
       "</table>\n",
       "</div>"
      ],
      "text/plain": [
       "             algorithm  size  optimal_rate  time_ms_avg  time_ms_std  \\\n",
       "0        hill_climbing     4      0.066667     0.443533     0.288182   \n",
       "1        hill_climbing     8      0.133333     4.346597     1.853438   \n",
       "2        hill_climbing    10      0.100000     9.903404     5.072441   \n",
       "3        hill_climbing    12      0.166667    18.307142     7.271072   \n",
       "4        hill_climbing    15      0.000000    35.984394    11.465744   \n",
       "5  simulated_annealing     4      0.966667     3.121946     1.966636   \n",
       "6  simulated_annealing     8      0.966667    20.098630    20.342819   \n",
       "7  simulated_annealing    10      0.966667    59.142293    60.889138   \n",
       "8  simulated_annealing    12      1.000000    78.909338    71.173977   \n",
       "9  simulated_annealing    15      1.000000   112.921451    93.945192   \n",
       "\n",
       "      iter_avg     iter_std  \n",
       "0    22.400000    15.672511  \n",
       "1   225.866667    91.230566  \n",
       "2   477.000000   245.794279  \n",
       "3   818.400000   322.215777  \n",
       "4  1456.000000   470.975510  \n",
       "5   121.100000    75.922987  \n",
       "6   794.233333   822.710142  \n",
       "7  2274.700000  2372.409806  \n",
       "8  2841.600000  2550.318906  \n",
       "9  3828.933333  3340.111839  "
      ]
     },
     "execution_count": 5,
     "metadata": {},
     "output_type": "execute_result"
    }
   ],
   "source": [
    "samples_list = []\n",
    "\n",
    "for algorithm in algorithms:\n",
    "    for size in sizes:\n",
    "        sample_df = simulations_df.query(f'algorithm == \"{algorithm.__name__}\" and size == {size}')\n",
    "        \n",
    "        # Find optimals\n",
    "        try:\n",
    "            optimals = sample_df.best_h.value_counts().loc[0]\n",
    "        except KeyError:\n",
    "            optimals = 0\n",
    "        \n",
    "        # Save saple report\n",
    "        samples_list.append({\n",
    "            'algorithm': algorithm.__name__,\n",
    "            'size': size,\n",
    "            'optimal_rate': optimals / n_iterations,\n",
    "            'time_ms_avg': sample_df['time_ms'].mean(),\n",
    "            'time_ms_std': sample_df['time_ms'].std(),\n",
    "            'iter_avg': sample_df['iterations'].mean(),\n",
    "            'iter_std': sample_df['iterations'].std()\n",
    "        })\n",
    "\n",
    "# Print table\n",
    "samples_df = pd.DataFrame(samples_list)\n",
    "samples_df.to_csv('samples.csv')\n",
    "samples_df"
   ]
  },
  {
   "cell_type": "markdown",
   "metadata": {
    "pycharm": {
     "name": "#%% md\n"
    }
   },
   "source": [
    "## Gráficos\n",
    "### Box plot - Tiempo empleado hasta llegar a una solución"
   ]
  },
  {
   "cell_type": "code",
   "execution_count": 6,
   "metadata": {
    "pycharm": {
     "name": "#%%\n"
    }
   },
   "outputs": [
    {
     "data": {
      "image/png": "[encoded data removed]",
      "text/plain": [
       "<Figure size 1500x300 with 5 Axes>"
      ]
     },
     "metadata": {},
     "output_type": "display_data"
    }
   ],
   "source": [
    "%matplotlib inline\n",
    "\n",
    "grid1 = sns.FacetGrid(data=simulations_df, col='size', sharey=False)\n",
    "grid1.map(sns.boxplot, 'algorithm', 'time_ms', order= [x.__name__ for x in algorithms])\n",
    "grid1.set_xticklabels(['HC', 'SA'])\n",
    "\n",
    "grid1.fig.subplots_adjust(top=1.5)\n",
    "grid1.savefig('time_by_algorithm.svg')"
   ]
  },
  {
   "cell_type": "markdown",
   "metadata": {},
   "source": [
    "\n",
    "# Comportamiento de h()"
   ]
  },
  {
   "cell_type": "markdown",
   "metadata": {},
   "source": [
    "## Se llevará acabo con la siguiente configuración"
   ]
  },
  {
   "cell_type": "code",
   "execution_count": 7,
   "metadata": {},
   "outputs": [],
   "source": [
    "size = 24\n",
    "n_iterations = 3\n",
    "limit = 5000"
   ]
  },
  {
   "cell_type": "code",
   "execution_count": 8,
   "metadata": {},
   "outputs": [],
   "source": [
    "def run_simulation_h(simulations, algorithms, size, limit, i):\n",
    "    # Create common board\n",
    "    base_board = random.sample(range(size), size)\n",
    "    \n",
    "    # Run in each agent\n",
    "    for algorithm in algorithms:\n",
    "        # Run agent\n",
    "        _, _, h_history = algorithm(copy(base_board), limit)\n",
    "\n",
    "        # Dump the data to the simulations list\n",
    "        for step, h in h_history:\n",
    "            simulations.append({\n",
    "                'algorithm': algorithm.__name__,\n",
    "                'board': i,\n",
    "                'step': step,\n",
    "                'h': h\n",
    "            })"
   ]
  },
  {
   "cell_type": "code",
   "execution_count": 9,
   "metadata": {},
   "outputs": [],
   "source": [
    "with mp.Manager() as manager:\n",
    "    simulations_h = manager.list() #List thread-safe. (overkill, find alternatives)\n",
    "    pool = mp.Pool() #use all available cores, otherwise specify the number you want as an argument\n",
    "    \n",
    "    # Run\n",
    "    for i in range(n_iterations):\n",
    "        pool.apply_async(run_simulation_h, args=(simulations_h, algorithms, size, limit, i))\n",
    "\n",
    "    # Wait for all threads to finish\n",
    "    pool.close()\n",
    "    pool.join()\n",
    "    \n",
    "    # Save it as a list\n",
    "    simulations_h_df = pd.DataFrame(list(simulations_h))"
   ]
  },
  {
   "cell_type": "markdown",
   "metadata": {
    "pycharm": {
     "name": "#%% md\n"
    }
   },
   "source": [
    "### Lineplot - Comportamiento de h() por algorítmo, en tableros idénticos"
   ]
  },
  {
   "cell_type": "code",
   "execution_count": 10,
   "metadata": {
    "pycharm": {
     "name": "#%%\n"
    }
   },
   "outputs": [
    {
     "data": {
      "image/png": "[encoded data removed]",
      "text/plain": [
       "<Figure size 1094.25x300 with 3 Axes>"
      ]
     },
     "metadata": {},
     "output_type": "display_data"
    }
   ],
   "source": [
    "%matplotlib inline\n",
    "\n",
    "grid2 = sns.FacetGrid(data=simulations_h_df, hue='algorithm', col='board', sharey=False)\n",
    "grid2.map(sns.lineplot, 'step', 'h')\n",
    "grid2.add_legend()\n",
    "\n",
    "grid1.savefig('h-behavior.svg')"
   ]
  }
 ],
 "metadata": {
  "kernelspec": {
   "display_name": "Python 3 (ipykernel)",
   "language": "python",
   "name": "python3"
  },
  "language_info": {
   "codemirror_mode": {
    "name": "ipython",
    "version": 3
   },
   "file_extension": ".py",
   "mimetype": "text/x-python",
   "name": "python",
   "nbconvert_exporter": "python",
   "pygments_lexer": "ipython3",
   "version": "3.10.4"
  }
 },
 "nbformat": 4,
 "nbformat_minor": 1
}
