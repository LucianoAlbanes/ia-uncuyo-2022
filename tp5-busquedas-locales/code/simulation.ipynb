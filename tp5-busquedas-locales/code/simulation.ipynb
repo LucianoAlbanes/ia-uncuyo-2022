{
 "cells": [
  {
   "cell_type": "markdown",
   "metadata": {
    "pycharm": {
     "name": "#%% md\n"
    }
   },
   "source": [
    "Análisis de performance de agentes - Búsqueda Local\n",
    "===\n",
    "# Tiempo de ejecución"
   ]
  },
  {
   "cell_type": "code",
   "execution_count": 1,
   "metadata": {
    "pycharm": {
     "name": "#%%\n"
    }
   },
   "outputs": [],
   "source": [
    "import NQueens\n",
    "import random\n",
    "import multiprocessing as mp\n",
    "import pandas as pd\n",
    "import seaborn as sns\n",
    "from time import time_ns"
   ]
  },
  {
   "cell_type": "markdown",
   "metadata": {
    "pycharm": {
     "name": "#%% md\n"
    }
   },
   "source": [
    "## Se llevará a cabo con la siguiente configuración:"
   ]
  },
  {
   "cell_type": "code",
   "execution_count": 2,
   "metadata": {
    "pycharm": {
     "name": "#%%\n"
    }
   },
   "outputs": [],
   "source": [
    "algorithms = [NQueens.hill_climbing, NQueens.simulated_annealing, NQueens.genetic_algorithm]\n",
    "sizes = [4, 8, 10, 12, 15]\n",
    "n_iterations = 30\n",
    "iter_limit_pow = 4\n",
    "random.seed(42)"
   ]
  },
  {
   "cell_type": "markdown",
   "metadata": {
    "pycharm": {
     "name": "#%% md\n"
    }
   },
   "source": [
    "---"
   ]
  },
  {
   "cell_type": "markdown",
   "metadata": {},
   "source": [
    "# Tiempo de ejecución"
   ]
  },
  {
   "cell_type": "markdown",
   "metadata": {
    "pycharm": {
     "name": "#%% md\n"
    }
   },
   "source": [
    "## Correr simulación"
   ]
  },
  {
   "cell_type": "code",
   "execution_count": 3,
   "metadata": {
    "pycharm": {
     "name": "#%%\n"
    }
   },
   "outputs": [],
   "source": [
    "def run_simulation(simulations, algorithms, size, limit):\n",
    "    # Run in each agent\n",
    "    for algorithm in algorithms:\n",
    "        # Run agent\n",
    "        start = time_ns()\n",
    "        _, best_h, iterations, _ = algorithm(size, limit)\n",
    "        end = time_ns()\n",
    "        \n",
    "        # Append results in the siumlations dict\n",
    "        simulations.append({\n",
    "            'algorithm': algorithm.__name__,\n",
    "            'size': size,\n",
    "            'best_h': best_h,\n",
    "            'iterations': iterations,\n",
    "            'time_ms': (end-start)/1e6\n",
    "        })"
   ]
  },
  {
   "cell_type": "code",
   "execution_count": 4,
   "metadata": {
    "pycharm": {
     "name": "#%%\n"
    }
   },
   "outputs": [
    {
     "data": {
      "text/html": [
       "<div>\n",
       "<style scoped>\n",
       "    .dataframe tbody tr th:only-of-type {\n",
       "        vertical-align: middle;\n",
       "    }\n",
       "\n",
       "    .dataframe tbody tr th {\n",
       "        vertical-align: top;\n",
       "    }\n",
       "\n",
       "    .dataframe thead th {\n",
       "        text-align: right;\n",
       "    }\n",
       "</style>\n",
       "<table border=\"1\" class=\"dataframe\">\n",
       "  <thead>\n",
       "    <tr style=\"text-align: right;\">\n",
       "      <th></th>\n",
       "      <th>algorithm</th>\n",
       "      <th>size</th>\n",
       "      <th>best_h</th>\n",
       "      <th>iterations</th>\n",
       "      <th>time_ms</th>\n",
       "    </tr>\n",
       "  </thead>\n",
       "  <tbody>\n",
       "    <tr>\n",
       "      <th>0</th>\n",
       "      <td>hill_climbing</td>\n",
       "      <td>4</td>\n",
       "      <td>2</td>\n",
       "      <td>12</td>\n",
       "      <td>0.145181</td>\n",
       "    </tr>\n",
       "    <tr>\n",
       "      <th>1</th>\n",
       "      <td>hill_climbing</td>\n",
       "      <td>4</td>\n",
       "      <td>0</td>\n",
       "      <td>36</td>\n",
       "      <td>0.272992</td>\n",
       "    </tr>\n",
       "    <tr>\n",
       "      <th>2</th>\n",
       "      <td>hill_climbing</td>\n",
       "      <td>4</td>\n",
       "      <td>1</td>\n",
       "      <td>12</td>\n",
       "      <td>0.137141</td>\n",
       "    </tr>\n",
       "    <tr>\n",
       "      <th>3</th>\n",
       "      <td>hill_climbing</td>\n",
       "      <td>4</td>\n",
       "      <td>1</td>\n",
       "      <td>12</td>\n",
       "      <td>0.120200</td>\n",
       "    </tr>\n",
       "    <tr>\n",
       "      <th>4</th>\n",
       "      <td>hill_climbing</td>\n",
       "      <td>4</td>\n",
       "      <td>2</td>\n",
       "      <td>12</td>\n",
       "      <td>0.156880</td>\n",
       "    </tr>\n",
       "    <tr>\n",
       "      <th>...</th>\n",
       "      <td>...</td>\n",
       "      <td>...</td>\n",
       "      <td>...</td>\n",
       "      <td>...</td>\n",
       "      <td>...</td>\n",
       "    </tr>\n",
       "    <tr>\n",
       "      <th>445</th>\n",
       "      <td>genetic_algorithm</td>\n",
       "      <td>15</td>\n",
       "      <td>3</td>\n",
       "      <td>51000</td>\n",
       "      <td>2237.940685</td>\n",
       "    </tr>\n",
       "    <tr>\n",
       "      <th>446</th>\n",
       "      <td>genetic_algorithm</td>\n",
       "      <td>15</td>\n",
       "      <td>3</td>\n",
       "      <td>51000</td>\n",
       "      <td>2489.388735</td>\n",
       "    </tr>\n",
       "    <tr>\n",
       "      <th>447</th>\n",
       "      <td>genetic_algorithm</td>\n",
       "      <td>15</td>\n",
       "      <td>3</td>\n",
       "      <td>51000</td>\n",
       "      <td>2292.612192</td>\n",
       "    </tr>\n",
       "    <tr>\n",
       "      <th>448</th>\n",
       "      <td>genetic_algorithm</td>\n",
       "      <td>15</td>\n",
       "      <td>4</td>\n",
       "      <td>51000</td>\n",
       "      <td>2368.323283</td>\n",
       "    </tr>\n",
       "    <tr>\n",
       "      <th>449</th>\n",
       "      <td>genetic_algorithm</td>\n",
       "      <td>15</td>\n",
       "      <td>3</td>\n",
       "      <td>51000</td>\n",
       "      <td>2399.468869</td>\n",
       "    </tr>\n",
       "  </tbody>\n",
       "</table>\n",
       "<p>450 rows × 5 columns</p>\n",
       "</div>"
      ],
      "text/plain": [
       "             algorithm  size  best_h  iterations      time_ms\n",
       "0        hill_climbing     4       2          12     0.145181\n",
       "1        hill_climbing     4       0          36     0.272992\n",
       "2        hill_climbing     4       1          12     0.137141\n",
       "3        hill_climbing     4       1          12     0.120200\n",
       "4        hill_climbing     4       2          12     0.156880\n",
       "..                 ...   ...     ...         ...          ...\n",
       "445  genetic_algorithm    15       3       51000  2237.940685\n",
       "446  genetic_algorithm    15       3       51000  2489.388735\n",
       "447  genetic_algorithm    15       3       51000  2292.612192\n",
       "448  genetic_algorithm    15       4       51000  2368.323283\n",
       "449  genetic_algorithm    15       3       51000  2399.468869\n",
       "\n",
       "[450 rows x 5 columns]"
      ]
     },
     "execution_count": 4,
     "metadata": {},
     "output_type": "execute_result"
    }
   ],
   "source": [
    "# Using parallelism :D\n",
    "with mp.Manager() as manager:\n",
    "    simulations = manager.list() #List thread-safe. (overkill, find alternatives)\n",
    "    pool = mp.Pool() #use all available cores, otherwise specify the number you want as an argument\n",
    "    \n",
    "    # Test iterations\n",
    "    for size in sizes:\n",
    "        for _ in range(n_iterations):\n",
    "            pool.apply_async(run_simulation, args=(simulations, algorithms, size, size**iter_limit_pow))\n",
    "\n",
    "    # Wait for all threads to finish\n",
    "    pool.close()\n",
    "    pool.join()\n",
    "    \n",
    "    # Save it as a pandas dataframe\n",
    "    simulations_df = pd.DataFrame(list(simulations))\n",
    "\n",
    "simulations_df.to_csv('simulations.csv')\n",
    "simulations_df"
   ]
  },
  {
   "cell_type": "markdown",
   "metadata": {
    "pycharm": {
     "name": "#%% md\n"
    }
   },
   "source": [
    "## Análisis del performance de cada algorítmo"
   ]
  },
  {
   "cell_type": "code",
   "execution_count": 5,
   "metadata": {
    "pycharm": {
     "name": "#%%\n"
    }
   },
   "outputs": [
    {
     "data": {
      "text/html": [
       "<div>\n",
       "<style scoped>\n",
       "    .dataframe tbody tr th:only-of-type {\n",
       "        vertical-align: middle;\n",
       "    }\n",
       "\n",
       "    .dataframe tbody tr th {\n",
       "        vertical-align: top;\n",
       "    }\n",
       "\n",
       "    .dataframe thead th {\n",
       "        text-align: right;\n",
       "    }\n",
       "</style>\n",
       "<table border=\"1\" class=\"dataframe\">\n",
       "  <thead>\n",
       "    <tr style=\"text-align: right;\">\n",
       "      <th></th>\n",
       "      <th>algorithm</th>\n",
       "      <th>size</th>\n",
       "      <th>optimal_rate</th>\n",
       "      <th>time_ms_avg</th>\n",
       "      <th>time_ms_std</th>\n",
       "      <th>iter_avg</th>\n",
       "      <th>iter_std</th>\n",
       "    </tr>\n",
       "  </thead>\n",
       "  <tbody>\n",
       "    <tr>\n",
       "      <th>0</th>\n",
       "      <td>hill_climbing</td>\n",
       "      <td>4</td>\n",
       "      <td>0.200000</td>\n",
       "      <td>0.181003</td>\n",
       "      <td>0.205204</td>\n",
       "      <td>19.600000</td>\n",
       "      <td>13.548381</td>\n",
       "    </tr>\n",
       "    <tr>\n",
       "      <th>1</th>\n",
       "      <td>hill_climbing</td>\n",
       "      <td>8</td>\n",
       "      <td>0.066667</td>\n",
       "      <td>1.598756</td>\n",
       "      <td>0.825093</td>\n",
       "      <td>218.400000</td>\n",
       "      <td>112.337423</td>\n",
       "    </tr>\n",
       "    <tr>\n",
       "      <th>2</th>\n",
       "      <td>hill_climbing</td>\n",
       "      <td>10</td>\n",
       "      <td>0.033333</td>\n",
       "      <td>2.886141</td>\n",
       "      <td>1.237166</td>\n",
       "      <td>366.000000</td>\n",
       "      <td>160.185238</td>\n",
       "    </tr>\n",
       "    <tr>\n",
       "      <th>3</th>\n",
       "      <td>hill_climbing</td>\n",
       "      <td>12</td>\n",
       "      <td>0.000000</td>\n",
       "      <td>6.119728</td>\n",
       "      <td>3.450527</td>\n",
       "      <td>721.600000</td>\n",
       "      <td>414.145202</td>\n",
       "    </tr>\n",
       "    <tr>\n",
       "      <th>4</th>\n",
       "      <td>hill_climbing</td>\n",
       "      <td>15</td>\n",
       "      <td>0.000000</td>\n",
       "      <td>13.470601</td>\n",
       "      <td>4.715765</td>\n",
       "      <td>1428.000000</td>\n",
       "      <td>491.411759</td>\n",
       "    </tr>\n",
       "    <tr>\n",
       "      <th>5</th>\n",
       "      <td>simulated_annealing</td>\n",
       "      <td>4</td>\n",
       "      <td>1.000000</td>\n",
       "      <td>1.284764</td>\n",
       "      <td>1.059776</td>\n",
       "      <td>121.066667</td>\n",
       "      <td>75.432058</td>\n",
       "    </tr>\n",
       "    <tr>\n",
       "      <th>6</th>\n",
       "      <td>simulated_annealing</td>\n",
       "      <td>8</td>\n",
       "      <td>0.900000</td>\n",
       "      <td>11.522931</td>\n",
       "      <td>11.667551</td>\n",
       "      <td>1142.566667</td>\n",
       "      <td>1171.250045</td>\n",
       "    </tr>\n",
       "    <tr>\n",
       "      <th>7</th>\n",
       "      <td>simulated_annealing</td>\n",
       "      <td>10</td>\n",
       "      <td>1.000000</td>\n",
       "      <td>21.059199</td>\n",
       "      <td>20.113264</td>\n",
       "      <td>1985.500000</td>\n",
       "      <td>1937.774172</td>\n",
       "    </tr>\n",
       "    <tr>\n",
       "      <th>8</th>\n",
       "      <td>simulated_annealing</td>\n",
       "      <td>12</td>\n",
       "      <td>1.000000</td>\n",
       "      <td>30.326389</td>\n",
       "      <td>31.315462</td>\n",
       "      <td>2714.833333</td>\n",
       "      <td>2789.884376</td>\n",
       "    </tr>\n",
       "    <tr>\n",
       "      <th>9</th>\n",
       "      <td>simulated_annealing</td>\n",
       "      <td>15</td>\n",
       "      <td>1.000000</td>\n",
       "      <td>39.899019</td>\n",
       "      <td>26.207611</td>\n",
       "      <td>3208.900000</td>\n",
       "      <td>2186.807299</td>\n",
       "    </tr>\n",
       "    <tr>\n",
       "      <th>10</th>\n",
       "      <td>genetic_algorithm</td>\n",
       "      <td>4</td>\n",
       "      <td>0.000000</td>\n",
       "      <td>8.854411</td>\n",
       "      <td>0.897493</td>\n",
       "      <td>1000.000000</td>\n",
       "      <td>0.000000</td>\n",
       "    </tr>\n",
       "    <tr>\n",
       "      <th>11</th>\n",
       "      <td>genetic_algorithm</td>\n",
       "      <td>8</td>\n",
       "      <td>0.433333</td>\n",
       "      <td>97.952512</td>\n",
       "      <td>44.210316</td>\n",
       "      <td>3700.000000</td>\n",
       "      <td>1512.020799</td>\n",
       "    </tr>\n",
       "    <tr>\n",
       "      <th>12</th>\n",
       "      <td>genetic_algorithm</td>\n",
       "      <td>10</td>\n",
       "      <td>0.000000</td>\n",
       "      <td>395.577927</td>\n",
       "      <td>60.347372</td>\n",
       "      <td>10000.000000</td>\n",
       "      <td>0.000000</td>\n",
       "    </tr>\n",
       "    <tr>\n",
       "      <th>13</th>\n",
       "      <td>genetic_algorithm</td>\n",
       "      <td>12</td>\n",
       "      <td>0.000000</td>\n",
       "      <td>856.399121</td>\n",
       "      <td>29.180963</td>\n",
       "      <td>21000.000000</td>\n",
       "      <td>0.000000</td>\n",
       "    </tr>\n",
       "    <tr>\n",
       "      <th>14</th>\n",
       "      <td>genetic_algorithm</td>\n",
       "      <td>15</td>\n",
       "      <td>0.000000</td>\n",
       "      <td>2392.153713</td>\n",
       "      <td>228.038894</td>\n",
       "      <td>51000.000000</td>\n",
       "      <td>0.000000</td>\n",
       "    </tr>\n",
       "  </tbody>\n",
       "</table>\n",
       "</div>"
      ],
      "text/plain": [
       "              algorithm  size  optimal_rate  time_ms_avg  time_ms_std  \\\n",
       "0         hill_climbing     4      0.200000     0.181003     0.205204   \n",
       "1         hill_climbing     8      0.066667     1.598756     0.825093   \n",
       "2         hill_climbing    10      0.033333     2.886141     1.237166   \n",
       "3         hill_climbing    12      0.000000     6.119728     3.450527   \n",
       "4         hill_climbing    15      0.000000    13.470601     4.715765   \n",
       "5   simulated_annealing     4      1.000000     1.284764     1.059776   \n",
       "6   simulated_annealing     8      0.900000    11.522931    11.667551   \n",
       "7   simulated_annealing    10      1.000000    21.059199    20.113264   \n",
       "8   simulated_annealing    12      1.000000    30.326389    31.315462   \n",
       "9   simulated_annealing    15      1.000000    39.899019    26.207611   \n",
       "10    genetic_algorithm     4      0.000000     8.854411     0.897493   \n",
       "11    genetic_algorithm     8      0.433333    97.952512    44.210316   \n",
       "12    genetic_algorithm    10      0.000000   395.577927    60.347372   \n",
       "13    genetic_algorithm    12      0.000000   856.399121    29.180963   \n",
       "14    genetic_algorithm    15      0.000000  2392.153713   228.038894   \n",
       "\n",
       "        iter_avg     iter_std  \n",
       "0      19.600000    13.548381  \n",
       "1     218.400000   112.337423  \n",
       "2     366.000000   160.185238  \n",
       "3     721.600000   414.145202  \n",
       "4    1428.000000   491.411759  \n",
       "5     121.066667    75.432058  \n",
       "6    1142.566667  1171.250045  \n",
       "7    1985.500000  1937.774172  \n",
       "8    2714.833333  2789.884376  \n",
       "9    3208.900000  2186.807299  \n",
       "10   1000.000000     0.000000  \n",
       "11   3700.000000  1512.020799  \n",
       "12  10000.000000     0.000000  \n",
       "13  21000.000000     0.000000  \n",
       "14  51000.000000     0.000000  "
      ]
     },
     "execution_count": 5,
     "metadata": {},
     "output_type": "execute_result"
    }
   ],
   "source": [
    "samples_list = []\n",
    "\n",
    "for algorithm in algorithms:\n",
    "    for size in sizes:\n",
    "        sample_df = simulations_df.query(f'algorithm == \"{algorithm.__name__}\" and size == {size}')\n",
    "        \n",
    "        # Find optimals\n",
    "        try:\n",
    "            optimals = sample_df.best_h.value_counts().loc[0]\n",
    "        except KeyError:\n",
    "            optimals = 0\n",
    "        \n",
    "        # Save saple report\n",
    "        samples_list.append({\n",
    "            'algorithm': algorithm.__name__,\n",
    "            'size': size,\n",
    "            'optimal_rate': optimals / n_iterations,\n",
    "            'time_ms_avg': sample_df['time_ms'].mean(),\n",
    "            'time_ms_std': sample_df['time_ms'].std(),\n",
    "            'iter_avg': sample_df['iterations'].mean(),\n",
    "            'iter_std': sample_df['iterations'].std()\n",
    "        })\n",
    "\n",
    "# Print table\n",
    "samples_df = pd.DataFrame(samples_list)\n",
    "samples_df.to_csv('samples.csv')\n",
    "samples_df"
   ]
  },
  {
   "cell_type": "markdown",
   "metadata": {
    "pycharm": {
     "name": "#%% md\n"
    }
   },
   "source": [
    "## Gráficos\n",
    "### Box plot - Tiempo empleado hasta llegar a una solución"
   ]
  },
  {
   "cell_type": "code",
   "execution_count": 6,
   "metadata": {
    "pycharm": {
     "name": "#%%\n"
    }
   },
   "outputs": [
    {
     "data": {
      "image/png": "[encoded data removed]",
      "text/plain": [
       "<Figure size 1500x300 with 5 Axes>"
      ]
     },
     "metadata": {},
     "output_type": "display_data"
    }
   ],
   "source": [
    "%matplotlib inline\n",
    "\n",
    "grid1 = sns.FacetGrid(data=simulations_df, col='size', sharey=False)\n",
    "grid1.map(sns.boxplot, 'algorithm', 'time_ms', order= [x.__name__ for x in algorithms])\n",
    "grid1.set_xticklabels(['HC', 'SA', 'GA'])\n",
    "\n",
    "grid1.fig.subplots_adjust(top=1.5)\n",
    "grid1.savefig('time_by_algorithm.svg')"
   ]
  },
  {
   "cell_type": "markdown",
   "metadata": {},
   "source": [
    "\n",
    "# Comportamiento de h()"
   ]
  },
  {
   "cell_type": "markdown",
   "metadata": {},
   "source": [
    "## Se llevará acabo con la siguiente configuración"
   ]
  },
  {
   "cell_type": "code",
   "execution_count": 15,
   "metadata": {},
   "outputs": [],
   "source": [
    "size = 24\n",
    "n_iterations = 3\n",
    "limit = 5000"
   ]
  },
  {
   "cell_type": "code",
   "execution_count": 16,
   "metadata": {},
   "outputs": [],
   "source": [
    "def run_simulation_h(simulations, algorithms, size, limit, i):\n",
    "    for algorithm in algorithms:\n",
    "        # Run agent\n",
    "        _, _, _, h_history = algorithm(size, limit)\n",
    "\n",
    "        # Dump the data to the simulations list\n",
    "        for step, h in h_history:\n",
    "            simulations.append({\n",
    "                'algorithm': algorithm.__name__,\n",
    "                'iter': i,\n",
    "                'step': step,\n",
    "                'h': h\n",
    "            })"
   ]
  },
  {
   "cell_type": "code",
   "execution_count": 17,
   "metadata": {},
   "outputs": [],
   "source": [
    "with mp.Manager() as manager:\n",
    "    simulations_h = manager.list() #List thread-safe. (overkill, find alternatives)\n",
    "    pool = mp.Pool() #use all available cores, otherwise specify the number you want as an argument\n",
    "    \n",
    "    # Run\n",
    "    for i in range(n_iterations):\n",
    "        pool.apply_async(run_simulation_h, args=(simulations_h, algorithms, size, limit, i))\n",
    "\n",
    "    # Wait for all threads to finish\n",
    "    pool.close()\n",
    "    pool.join()\n",
    "    \n",
    "    # Save it as a list\n",
    "    simulations_h_df = pd.DataFrame(list(simulations_h))"
   ]
  },
  {
   "cell_type": "markdown",
   "metadata": {
    "pycharm": {
     "name": "#%% md\n"
    }
   },
   "source": [
    "### Lineplot - Comportamiento de h() por algorítmo, en tableros idénticos"
   ]
  },
  {
   "cell_type": "code",
   "execution_count": 18,
   "metadata": {
    "pycharm": {
     "name": "#%%\n"
    }
   },
   "outputs": [
    {
     "data": {
      "image/png": "[encoded data removed]",
      "text/plain": [
       "<Figure size 1094.25x300 with 3 Axes>"
      ]
     },
     "metadata": {},
     "output_type": "display_data"
    }
   ],
   "source": [
    "%matplotlib inline\n",
    "\n",
    "grid2 = sns.FacetGrid(data=simulations_h_df, hue='algorithm', col='iter', sharey=False)\n",
    "grid2.map(sns.lineplot, 'step', 'h')\n",
    "grid2.add_legend()\n",
    "\n",
    "grid1.savefig('h-behavior.svg')"
   ]
  }
 ],
 "metadata": {
  "kernelspec": {
   "display_name": "Python 3 (ipykernel)",
   "language": "python",
   "name": "python3"
  },
  "language_info": {
   "codemirror_mode": {
    "name": "ipython",
    "version": 3
   },
   "file_extension": ".py",
   "mimetype": "text/x-python",
   "name": "python",
   "nbconvert_exporter": "python",
   "pygments_lexer": "ipython3",
   "version": "3.10.4"
  }
 },
 "nbformat": 4,
 "nbformat_minor": 1
}
