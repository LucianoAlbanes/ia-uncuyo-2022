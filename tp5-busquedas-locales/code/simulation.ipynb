{
 "cells": [
  {
   "cell_type": "markdown",
   "metadata": {
    "pycharm": {
     "name": "#%% md\n"
    }
   },
   "source": [
    "# Análisis de performance de agentes\n",
    "## Búsqueda Local"
   ]
  },
  {
   "cell_type": "code",
   "execution_count": 112,
   "metadata": {
    "pycharm": {
     "name": "#%%\n"
    }
   },
   "outputs": [],
   "source": [
    "import NQueens\n",
    "import random\n",
    "import multiprocessing as mp\n",
    "import pandas as pd\n",
    "import seaborn as sns\n",
    "from copy import copy\n",
    "from time import time_ns"
   ]
  },
  {
   "cell_type": "markdown",
   "metadata": {
    "pycharm": {
     "name": "#%% md\n"
    }
   },
   "source": [
    "## Se llevará a cabo con la siguiente configuración:"
   ]
  },
  {
   "cell_type": "code",
   "execution_count": 113,
   "metadata": {
    "pycharm": {
     "name": "#%%\n"
    }
   },
   "outputs": [],
   "source": [
    "algorithms = [NQueens.hill_climbing]\n",
    "sizes = [4, 8, 10, 12, 15]\n",
    "limit_factor = 100\n",
    "iterations = 30\n",
    "h_behavior_size = 100\n",
    "random.seed(42)"
   ]
  },
  {
   "cell_type": "markdown",
   "metadata": {
    "pycharm": {
     "name": "#%% md\n"
    }
   },
   "source": [
    "---"
   ]
  },
  {
   "cell_type": "markdown",
   "metadata": {},
   "source": [
    "# Tiempo de ejecución"
   ]
  },
  {
   "cell_type": "markdown",
   "metadata": {
    "pycharm": {
     "name": "#%% md\n"
    }
   },
   "source": [
    "## Correr simulación"
   ]
  },
  {
   "cell_type": "code",
   "execution_count": 135,
   "metadata": {
    "pycharm": {
     "name": "#%%\n"
    }
   },
   "outputs": [],
   "source": [
    "def run_simulation(simulations, algorithms, size, limit):\n",
    "    # Create common board\n",
    "    base_board = random.sample(range(size), size)\n",
    "    \n",
    "    # Run in each agent\n",
    "    for algorithm in algorithms:\n",
    "        start = time_ns()\n",
    "        \n",
    "        # Run agent\n",
    "        best_h, steps, _ = algorithm(copy(base_board), limit)\n",
    "        end = time_ns()\n",
    "        \n",
    "        # Append results in the siumlations dict\n",
    "        simulations.append({\n",
    "            'algorithm': algorithm.__name__,\n",
    "            'size': size,\n",
    "            'best_h': best_h,\n",
    "            'steps': steps,\n",
    "            'time_ms': (end-start)/1e6\n",
    "        })"
   ]
  },
  {
   "cell_type": "code",
   "execution_count": 136,
   "metadata": {
    "pycharm": {
     "name": "#%%\n"
    }
   },
   "outputs": [
    {
     "data": {
      "text/html": [
       "<div>\n",
       "<style scoped>\n",
       "    .dataframe tbody tr th:only-of-type {\n",
       "        vertical-align: middle;\n",
       "    }\n",
       "\n",
       "    .dataframe tbody tr th {\n",
       "        vertical-align: top;\n",
       "    }\n",
       "\n",
       "    .dataframe thead th {\n",
       "        text-align: right;\n",
       "    }\n",
       "</style>\n",
       "<table border=\"1\" class=\"dataframe\">\n",
       "  <thead>\n",
       "    <tr style=\"text-align: right;\">\n",
       "      <th></th>\n",
       "      <th>algorithm</th>\n",
       "      <th>size</th>\n",
       "      <th>best_h</th>\n",
       "      <th>steps</th>\n",
       "      <th>time_ms</th>\n",
       "    </tr>\n",
       "  </thead>\n",
       "  <tbody>\n",
       "    <tr>\n",
       "      <th>0</th>\n",
       "      <td>hill_climbing</td>\n",
       "      <td>4</td>\n",
       "      <td>1</td>\n",
       "      <td>12</td>\n",
       "      <td>0.281114</td>\n",
       "    </tr>\n",
       "    <tr>\n",
       "      <th>1</th>\n",
       "      <td>hill_climbing</td>\n",
       "      <td>4</td>\n",
       "      <td>1</td>\n",
       "      <td>48</td>\n",
       "      <td>0.922425</td>\n",
       "    </tr>\n",
       "    <tr>\n",
       "      <th>2</th>\n",
       "      <td>hill_climbing</td>\n",
       "      <td>4</td>\n",
       "      <td>1</td>\n",
       "      <td>48</td>\n",
       "      <td>0.764671</td>\n",
       "    </tr>\n",
       "    <tr>\n",
       "      <th>3</th>\n",
       "      <td>hill_climbing</td>\n",
       "      <td>4</td>\n",
       "      <td>0</td>\n",
       "      <td>48</td>\n",
       "      <td>0.877997</td>\n",
       "    </tr>\n",
       "    <tr>\n",
       "      <th>4</th>\n",
       "      <td>hill_climbing</td>\n",
       "      <td>4</td>\n",
       "      <td>0</td>\n",
       "      <td>36</td>\n",
       "      <td>0.706329</td>\n",
       "    </tr>\n",
       "    <tr>\n",
       "      <th>...</th>\n",
       "      <td>...</td>\n",
       "      <td>...</td>\n",
       "      <td>...</td>\n",
       "      <td>...</td>\n",
       "      <td>...</td>\n",
       "    </tr>\n",
       "    <tr>\n",
       "      <th>145</th>\n",
       "      <td>hill_climbing</td>\n",
       "      <td>15</td>\n",
       "      <td>3</td>\n",
       "      <td>2100</td>\n",
       "      <td>43.014823</td>\n",
       "    </tr>\n",
       "    <tr>\n",
       "      <th>146</th>\n",
       "      <td>hill_climbing</td>\n",
       "      <td>15</td>\n",
       "      <td>3</td>\n",
       "      <td>420</td>\n",
       "      <td>8.545600</td>\n",
       "    </tr>\n",
       "    <tr>\n",
       "      <th>147</th>\n",
       "      <td>hill_climbing</td>\n",
       "      <td>15</td>\n",
       "      <td>2</td>\n",
       "      <td>1680</td>\n",
       "      <td>35.146731</td>\n",
       "    </tr>\n",
       "    <tr>\n",
       "      <th>148</th>\n",
       "      <td>hill_climbing</td>\n",
       "      <td>15</td>\n",
       "      <td>2</td>\n",
       "      <td>1680</td>\n",
       "      <td>32.852731</td>\n",
       "    </tr>\n",
       "    <tr>\n",
       "      <th>149</th>\n",
       "      <td>hill_climbing</td>\n",
       "      <td>15</td>\n",
       "      <td>1</td>\n",
       "      <td>2310</td>\n",
       "      <td>33.730126</td>\n",
       "    </tr>\n",
       "  </tbody>\n",
       "</table>\n",
       "<p>150 rows × 5 columns</p>\n",
       "</div>"
      ],
      "text/plain": [
       "         algorithm  size  best_h  steps    time_ms\n",
       "0    hill_climbing     4       1     12   0.281114\n",
       "1    hill_climbing     4       1     48   0.922425\n",
       "2    hill_climbing     4       1     48   0.764671\n",
       "3    hill_climbing     4       0     48   0.877997\n",
       "4    hill_climbing     4       0     36   0.706329\n",
       "..             ...   ...     ...    ...        ...\n",
       "145  hill_climbing    15       3   2100  43.014823\n",
       "146  hill_climbing    15       3    420   8.545600\n",
       "147  hill_climbing    15       2   1680  35.146731\n",
       "148  hill_climbing    15       2   1680  32.852731\n",
       "149  hill_climbing    15       1   2310  33.730126\n",
       "\n",
       "[150 rows x 5 columns]"
      ]
     },
     "execution_count": 136,
     "metadata": {},
     "output_type": "execute_result"
    }
   ],
   "source": [
    "# Using parallelism :D\n",
    "with mp.Manager() as manager:\n",
    "    simulations = manager.list() #List thread-safe. (overkill, find alternatives)\n",
    "    pool = mp.Pool() #use all available cores, otherwise specify the number you want as an argument\n",
    "    \n",
    "    # Test iterations\n",
    "    for size in sizes:\n",
    "        for _ in range(iterations):\n",
    "            pool.apply_async(run_simulation, args=(simulations, algorithms, size, size**limit_factor))\n",
    "\n",
    "    # Wait for all threads to finish\n",
    "    pool.close()\n",
    "    pool.join()\n",
    "    \n",
    "    # Save it as a pandas dataframe\n",
    "    simulations_df = pd.DataFrame(list(simulations))\n",
    "\n",
    "simulations_df.to_csv('simulations.csv')\n",
    "simulations_df"
   ]
  },
  {
   "cell_type": "markdown",
   "metadata": {
    "pycharm": {
     "name": "#%% md\n"
    }
   },
   "source": [
    "## Análisis del performance de cada algorítmo"
   ]
  },
  {
   "cell_type": "code",
   "execution_count": 137,
   "metadata": {
    "pycharm": {
     "name": "#%%\n"
    }
   },
   "outputs": [
    {
     "data": {
      "text/html": [
       "<div>\n",
       "<style scoped>\n",
       "    .dataframe tbody tr th:only-of-type {\n",
       "        vertical-align: middle;\n",
       "    }\n",
       "\n",
       "    .dataframe tbody tr th {\n",
       "        vertical-align: top;\n",
       "    }\n",
       "\n",
       "    .dataframe thead th {\n",
       "        text-align: right;\n",
       "    }\n",
       "</style>\n",
       "<table border=\"1\" class=\"dataframe\">\n",
       "  <thead>\n",
       "    <tr style=\"text-align: right;\">\n",
       "      <th></th>\n",
       "      <th>algorithm</th>\n",
       "      <th>size</th>\n",
       "      <th>optimal_rate</th>\n",
       "      <th>time_ms_avg</th>\n",
       "      <th>time_ms_std</th>\n",
       "      <th>steps_avg</th>\n",
       "      <th>steps_std</th>\n",
       "    </tr>\n",
       "  </thead>\n",
       "  <tbody>\n",
       "    <tr>\n",
       "      <th>0</th>\n",
       "      <td>hill_climbing</td>\n",
       "      <td>4</td>\n",
       "      <td>0.200000</td>\n",
       "      <td>0.438454</td>\n",
       "      <td>0.311199</td>\n",
       "      <td>24.000000</td>\n",
       "      <td>18.643664</td>\n",
       "    </tr>\n",
       "    <tr>\n",
       "      <th>1</th>\n",
       "      <td>hill_climbing</td>\n",
       "      <td>8</td>\n",
       "      <td>0.166667</td>\n",
       "      <td>4.053659</td>\n",
       "      <td>1.827176</td>\n",
       "      <td>233.333333</td>\n",
       "      <td>100.910795</td>\n",
       "    </tr>\n",
       "    <tr>\n",
       "      <th>2</th>\n",
       "      <td>hill_climbing</td>\n",
       "      <td>10</td>\n",
       "      <td>0.033333</td>\n",
       "      <td>8.298302</td>\n",
       "      <td>3.319792</td>\n",
       "      <td>480.000000</td>\n",
       "      <td>191.040707</td>\n",
       "    </tr>\n",
       "    <tr>\n",
       "      <th>3</th>\n",
       "      <td>hill_climbing</td>\n",
       "      <td>12</td>\n",
       "      <td>0.066667</td>\n",
       "      <td>15.076686</td>\n",
       "      <td>5.422973</td>\n",
       "      <td>827.200000</td>\n",
       "      <td>298.064376</td>\n",
       "    </tr>\n",
       "    <tr>\n",
       "      <th>4</th>\n",
       "      <td>hill_climbing</td>\n",
       "      <td>15</td>\n",
       "      <td>0.033333</td>\n",
       "      <td>30.523933</td>\n",
       "      <td>11.926864</td>\n",
       "      <td>1547.000000</td>\n",
       "      <td>607.846113</td>\n",
       "    </tr>\n",
       "  </tbody>\n",
       "</table>\n",
       "</div>"
      ],
      "text/plain": [
       "       algorithm  size  optimal_rate  time_ms_avg  time_ms_std    steps_avg  \\\n",
       "0  hill_climbing     4      0.200000     0.438454     0.311199    24.000000   \n",
       "1  hill_climbing     8      0.166667     4.053659     1.827176   233.333333   \n",
       "2  hill_climbing    10      0.033333     8.298302     3.319792   480.000000   \n",
       "3  hill_climbing    12      0.066667    15.076686     5.422973   827.200000   \n",
       "4  hill_climbing    15      0.033333    30.523933    11.926864  1547.000000   \n",
       "\n",
       "    steps_std  \n",
       "0   18.643664  \n",
       "1  100.910795  \n",
       "2  191.040707  \n",
       "3  298.064376  \n",
       "4  607.846113  "
      ]
     },
     "execution_count": 137,
     "metadata": {},
     "output_type": "execute_result"
    }
   ],
   "source": [
    "samples_list = []\n",
    "\n",
    "for algorithm in algorithms:\n",
    "    for size in sizes:\n",
    "        sample_df = simulations_df.query(f'algorithm == \"{algorithm.__name__}\" and size == {size}')\n",
    "        \n",
    "        # Find optimals\n",
    "        try:\n",
    "            optimals = sample_df.best_h.value_counts().loc[0]\n",
    "        except KeyError:\n",
    "            optimals = 0\n",
    "        \n",
    "        # Save saple report\n",
    "        samples_list.append({\n",
    "            'algorithm': algorithm.__name__,\n",
    "            'size': size,\n",
    "            'optimal_rate': optimals / iterations,\n",
    "            'time_ms_avg': sample_df['time_ms'].mean(),\n",
    "            'time_ms_std': sample_df['time_ms'].std(),\n",
    "            'steps_avg': sample_df['steps'].mean(),\n",
    "            'steps_std': sample_df['steps'].std()\n",
    "        })\n",
    "\n",
    "# Print table\n",
    "samples_df = pd.DataFrame(samples_list)\n",
    "samples_df.to_csv('samples.csv')\n",
    "samples_df"
   ]
  },
  {
   "cell_type": "markdown",
   "metadata": {
    "pycharm": {
     "name": "#%% md\n"
    }
   },
   "source": [
    "## Gráficos\n",
    "### Box plot - Tiempo empleado hasta llegar a una solución"
   ]
  },
  {
   "cell_type": "code",
   "execution_count": 138,
   "metadata": {
    "pycharm": {
     "name": "#%%\n"
    }
   },
   "outputs": [
    {
     "data": {
      "image/png": "[encoded data removed]",
      "text/plain": [
       "<Figure size 1500x300 with 5 Axes>"
      ]
     },
     "metadata": {},
     "output_type": "display_data"
    }
   ],
   "source": [
    "%matplotlib inline\n",
    "\n",
    "grid1 = sns.FacetGrid(data=simulations_df, col='size', sharey=False)\n",
    "grid1.map(sns.boxplot, 'algorithm', 'time_ms', order= [x.__name__ for x in algorithms])\n",
    "grid1.set_xticklabels(['hillC'])\n",
    "\n",
    "grid1.fig.subplots_adjust(top=2)\n",
    "grid1.savefig('time_by_algorithm.svg')"
   ]
  },
  {
   "cell_type": "markdown",
   "metadata": {},
   "source": [
    "\n",
    "# Comportamiento de h()"
   ]
  },
  {
   "cell_type": "code",
   "execution_count": 139,
   "metadata": {},
   "outputs": [],
   "source": [
    "def run_simulation_h_history(simulations, algorithms, size, limit):\n",
    "    # Create common board\n",
    "    base_board = random.sample(range(size), size)\n",
    "    \n",
    "    # Run in each agent\n",
    "    for algorithm in algorithms:\n",
    "        # Run agent\n",
    "        _, _, h_history = algorithm(copy(base_board), limit)\n",
    "        \n",
    "        # Append results in the siumlations dict\n",
    "        simulations.append({\n",
    "            'algorithm': algorithm.__name__,\n",
    "            'h_history': h_history\n",
    "        })"
   ]
  },
  {
   "cell_type": "code",
   "execution_count": 140,
   "metadata": {},
   "outputs": [
    {
     "data": {
      "text/html": [
       "<div>\n",
       "<style scoped>\n",
       "    .dataframe tbody tr th:only-of-type {\n",
       "        vertical-align: middle;\n",
       "    }\n",
       "\n",
       "    .dataframe tbody tr th {\n",
       "        vertical-align: top;\n",
       "    }\n",
       "\n",
       "    .dataframe thead th {\n",
       "        text-align: right;\n",
       "    }\n",
       "</style>\n",
       "<table border=\"1\" class=\"dataframe\">\n",
       "  <thead>\n",
       "    <tr style=\"text-align: right;\">\n",
       "      <th></th>\n",
       "      <th>algorithm</th>\n",
       "      <th>h_history</th>\n",
       "    </tr>\n",
       "  </thead>\n",
       "  <tbody>\n",
       "    <tr>\n",
       "      <th>0</th>\n",
       "      <td>hill_climbing</td>\n",
       "      <td>[75, 73, 72, 71, 70, 69, 68, 67, 66, 65, 64, 6...</td>\n",
       "    </tr>\n",
       "  </tbody>\n",
       "</table>\n",
       "</div>"
      ],
      "text/plain": [
       "       algorithm                                          h_history\n",
       "0  hill_climbing  [75, 73, 72, 71, 70, 69, 68, 67, 66, 65, 64, 6..."
      ]
     },
     "execution_count": 140,
     "metadata": {},
     "output_type": "execute_result"
    }
   ],
   "source": [
    "with mp.Manager() as manager:\n",
    "    simulations_h = manager.list() #List thread-safe. (overkill, find alternatives)\n",
    "    pool = mp.Pool() #use all available cores, otherwise specify the number you want as an argument\n",
    "    \n",
    "    # Run\n",
    "    pool.apply_async(run_simulation_h_history, args=(simulations_h, algorithms, \n",
    "                                                     h_behavior_size, h_behavior_size**limit_factor))\n",
    "\n",
    "    # Wait for all threads to finish\n",
    "    pool.close()\n",
    "    pool.join()\n",
    "    \n",
    "    # Save it as a pandas dataframe\n",
    "    simulations_h_df = pd.DataFrame(list(simulations_h))\n",
    "\n",
    "simulations_h_df.to_csv('simulations_h.csv')\n",
    "simulations_h_df"
   ]
  },
  {
   "cell_type": "markdown",
   "metadata": {
    "pycharm": {
     "name": "#%% md\n"
    }
   },
   "source": [
    "### Box plot - Comportamiento de h()dd"
   ]
  },
  {
   "cell_type": "code",
   "execution_count": 144,
   "metadata": {
    "pycharm": {
     "name": "#%%\n"
    },
    "scrolled": false
   },
   "outputs": [
    {
     "ename": "TypeError",
     "evalue": "no numeric data to plot",
     "output_type": "error",
     "traceback": [
      "\u001b[0;31m---------------------------------------------------------------------------\u001b[0m",
      "\u001b[0;31mTypeError\u001b[0m                                 Traceback (most recent call last)",
      "Input \u001b[0;32mIn [144]\u001b[0m, in \u001b[0;36m<cell line: 3>\u001b[0;34m()\u001b[0m\n\u001b[1;32m      1\u001b[0m get_ipython()\u001b[38;5;241m.\u001b[39mrun_line_magic(\u001b[38;5;124m'\u001b[39m\u001b[38;5;124mmatplotlib\u001b[39m\u001b[38;5;124m'\u001b[39m, \u001b[38;5;124m'\u001b[39m\u001b[38;5;124minline\u001b[39m\u001b[38;5;124m'\u001b[39m)\n\u001b[0;32m----> 3\u001b[0m \u001b[43msimulations_h_df\u001b[49m\u001b[38;5;241;43m.\u001b[39;49m\u001b[43mplot\u001b[49m\u001b[38;5;241;43m.\u001b[39;49m\u001b[43mline\u001b[49m\u001b[43m(\u001b[49m\u001b[43m)\u001b[49m\n",
      "File \u001b[0;32m~/.anaconda3/envs/LucianoAlbanes_ia-uncuyo-2022-tp3/lib/python3.10/site-packages/pandas/plotting/_core.py:1041\u001b[0m, in \u001b[0;36mPlotAccessor.line\u001b[0;34m(self, x, y, **kwargs)\u001b[0m\n\u001b[1;32m    976\u001b[0m \u001b[38;5;129m@Appender\u001b[39m(\n\u001b[1;32m    977\u001b[0m     \u001b[38;5;124;03m\"\"\"\u001b[39;00m\n\u001b[1;32m    978\u001b[0m \u001b[38;5;124;03m    See Also\u001b[39;00m\n\u001b[0;32m   (...)\u001b[0m\n\u001b[1;32m   1033\u001b[0m \u001b[38;5;129m@Appender\u001b[39m(_bar_or_line_doc)\n\u001b[1;32m   1034\u001b[0m \u001b[38;5;28;01mdef\u001b[39;00m \u001b[38;5;21mline\u001b[39m(\u001b[38;5;28mself\u001b[39m, x\u001b[38;5;241m=\u001b[39m\u001b[38;5;28;01mNone\u001b[39;00m, y\u001b[38;5;241m=\u001b[39m\u001b[38;5;28;01mNone\u001b[39;00m, \u001b[38;5;241m*\u001b[39m\u001b[38;5;241m*\u001b[39mkwargs):\n\u001b[1;32m   1035\u001b[0m     \u001b[38;5;124;03m\"\"\"\u001b[39;00m\n\u001b[1;32m   1036\u001b[0m \u001b[38;5;124;03m    Plot Series or DataFrame as lines.\u001b[39;00m\n\u001b[1;32m   1037\u001b[0m \n\u001b[1;32m   1038\u001b[0m \u001b[38;5;124;03m    This function is useful to plot lines using DataFrame's values\u001b[39;00m\n\u001b[1;32m   1039\u001b[0m \u001b[38;5;124;03m    as coordinates.\u001b[39;00m\n\u001b[1;32m   1040\u001b[0m \u001b[38;5;124;03m    \"\"\"\u001b[39;00m\n\u001b[0;32m-> 1041\u001b[0m     \u001b[38;5;28;01mreturn\u001b[39;00m \u001b[38;5;28;43mself\u001b[39;49m\u001b[43m(\u001b[49m\u001b[43mkind\u001b[49m\u001b[38;5;241;43m=\u001b[39;49m\u001b[38;5;124;43m\"\u001b[39;49m\u001b[38;5;124;43mline\u001b[39;49m\u001b[38;5;124;43m\"\u001b[39;49m\u001b[43m,\u001b[49m\u001b[43m \u001b[49m\u001b[43mx\u001b[49m\u001b[38;5;241;43m=\u001b[39;49m\u001b[43mx\u001b[49m\u001b[43m,\u001b[49m\u001b[43m \u001b[49m\u001b[43my\u001b[49m\u001b[38;5;241;43m=\u001b[39;49m\u001b[43my\u001b[49m\u001b[43m,\u001b[49m\u001b[43m \u001b[49m\u001b[38;5;241;43m*\u001b[39;49m\u001b[38;5;241;43m*\u001b[39;49m\u001b[43mkwargs\u001b[49m\u001b[43m)\u001b[49m\n",
      "File \u001b[0;32m~/.anaconda3/envs/LucianoAlbanes_ia-uncuyo-2022-tp3/lib/python3.10/site-packages/pandas/plotting/_core.py:972\u001b[0m, in \u001b[0;36mPlotAccessor.__call__\u001b[0;34m(self, *args, **kwargs)\u001b[0m\n\u001b[1;32m    969\u001b[0m             label_name \u001b[38;5;241m=\u001b[39m label_kw \u001b[38;5;129;01mor\u001b[39;00m data\u001b[38;5;241m.\u001b[39mcolumns\n\u001b[1;32m    970\u001b[0m             data\u001b[38;5;241m.\u001b[39mcolumns \u001b[38;5;241m=\u001b[39m label_name\n\u001b[0;32m--> 972\u001b[0m \u001b[38;5;28;01mreturn\u001b[39;00m \u001b[43mplot_backend\u001b[49m\u001b[38;5;241;43m.\u001b[39;49m\u001b[43mplot\u001b[49m\u001b[43m(\u001b[49m\u001b[43mdata\u001b[49m\u001b[43m,\u001b[49m\u001b[43m \u001b[49m\u001b[43mkind\u001b[49m\u001b[38;5;241;43m=\u001b[39;49m\u001b[43mkind\u001b[49m\u001b[43m,\u001b[49m\u001b[43m \u001b[49m\u001b[38;5;241;43m*\u001b[39;49m\u001b[38;5;241;43m*\u001b[39;49m\u001b[43mkwargs\u001b[49m\u001b[43m)\u001b[49m\n",
      "File \u001b[0;32m~/.anaconda3/envs/LucianoAlbanes_ia-uncuyo-2022-tp3/lib/python3.10/site-packages/pandas/plotting/_matplotlib/__init__.py:71\u001b[0m, in \u001b[0;36mplot\u001b[0;34m(data, kind, **kwargs)\u001b[0m\n\u001b[1;32m     69\u001b[0m         kwargs[\u001b[38;5;124m\"\u001b[39m\u001b[38;5;124max\u001b[39m\u001b[38;5;124m\"\u001b[39m] \u001b[38;5;241m=\u001b[39m \u001b[38;5;28mgetattr\u001b[39m(ax, \u001b[38;5;124m\"\u001b[39m\u001b[38;5;124mleft_ax\u001b[39m\u001b[38;5;124m\"\u001b[39m, ax)\n\u001b[1;32m     70\u001b[0m plot_obj \u001b[38;5;241m=\u001b[39m PLOT_CLASSES[kind](data, \u001b[38;5;241m*\u001b[39m\u001b[38;5;241m*\u001b[39mkwargs)\n\u001b[0;32m---> 71\u001b[0m \u001b[43mplot_obj\u001b[49m\u001b[38;5;241;43m.\u001b[39;49m\u001b[43mgenerate\u001b[49m\u001b[43m(\u001b[49m\u001b[43m)\u001b[49m\n\u001b[1;32m     72\u001b[0m plot_obj\u001b[38;5;241m.\u001b[39mdraw()\n\u001b[1;32m     73\u001b[0m \u001b[38;5;28;01mreturn\u001b[39;00m plot_obj\u001b[38;5;241m.\u001b[39mresult\n",
      "File \u001b[0;32m~/.anaconda3/envs/LucianoAlbanes_ia-uncuyo-2022-tp3/lib/python3.10/site-packages/pandas/plotting/_matplotlib/core.py:327\u001b[0m, in \u001b[0;36mMPLPlot.generate\u001b[0;34m(self)\u001b[0m\n\u001b[1;32m    325\u001b[0m \u001b[38;5;28;01mdef\u001b[39;00m \u001b[38;5;21mgenerate\u001b[39m(\u001b[38;5;28mself\u001b[39m):\n\u001b[1;32m    326\u001b[0m     \u001b[38;5;28mself\u001b[39m\u001b[38;5;241m.\u001b[39m_args_adjust()\n\u001b[0;32m--> 327\u001b[0m     \u001b[38;5;28;43mself\u001b[39;49m\u001b[38;5;241;43m.\u001b[39;49m\u001b[43m_compute_plot_data\u001b[49m\u001b[43m(\u001b[49m\u001b[43m)\u001b[49m\n\u001b[1;32m    328\u001b[0m     \u001b[38;5;28mself\u001b[39m\u001b[38;5;241m.\u001b[39m_setup_subplots()\n\u001b[1;32m    329\u001b[0m     \u001b[38;5;28mself\u001b[39m\u001b[38;5;241m.\u001b[39m_make_plot()\n",
      "File \u001b[0;32m~/.anaconda3/envs/LucianoAlbanes_ia-uncuyo-2022-tp3/lib/python3.10/site-packages/pandas/plotting/_matplotlib/core.py:506\u001b[0m, in \u001b[0;36mMPLPlot._compute_plot_data\u001b[0;34m(self)\u001b[0m\n\u001b[1;32m    504\u001b[0m \u001b[38;5;66;03m# no non-numeric frames or series allowed\u001b[39;00m\n\u001b[1;32m    505\u001b[0m \u001b[38;5;28;01mif\u001b[39;00m is_empty:\n\u001b[0;32m--> 506\u001b[0m     \u001b[38;5;28;01mraise\u001b[39;00m \u001b[38;5;167;01mTypeError\u001b[39;00m(\u001b[38;5;124m\"\u001b[39m\u001b[38;5;124mno numeric data to plot\u001b[39m\u001b[38;5;124m\"\u001b[39m)\n\u001b[1;32m    508\u001b[0m \u001b[38;5;28mself\u001b[39m\u001b[38;5;241m.\u001b[39mdata \u001b[38;5;241m=\u001b[39m numeric_data\u001b[38;5;241m.\u001b[39mapply(\u001b[38;5;28mself\u001b[39m\u001b[38;5;241m.\u001b[39m_convert_to_ndarray)\n",
      "\u001b[0;31mTypeError\u001b[0m: no numeric data to plot"
     ]
    }
   ],
   "source": [
    "%matplotlib inline\n",
    "\n",
    "simulations_h_df['h_'].plot.line()"
   ]
  }
 ],
 "metadata": {
  "kernelspec": {
   "display_name": "Python 3 (ipykernel)",
   "language": "python",
   "name": "python3"
  },
  "language_info": {
   "codemirror_mode": {
    "name": "ipython",
    "version": 3
   },
   "file_extension": ".py",
   "mimetype": "text/x-python",
   "name": "python",
   "nbconvert_exporter": "python",
   "pygments_lexer": "ipython3",
   "version": "3.10.4"
  }
 },
 "nbformat": 4,
 "nbformat_minor": 1
}
