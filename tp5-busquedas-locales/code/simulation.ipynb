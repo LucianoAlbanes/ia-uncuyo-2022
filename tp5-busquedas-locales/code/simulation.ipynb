{
 "cells": [
  {
   "cell_type": "markdown",
   "metadata": {
    "pycharm": {
     "name": "#%% md\n"
    }
   },
   "source": [
    "Análisis de performance de agentes - Búsqueda Local\n",
    "===\n",
    "# Tiempo de ejecución"
   ]
  },
  {
   "cell_type": "code",
   "execution_count": 1,
   "metadata": {
    "pycharm": {
     "name": "#%%\n"
    }
   },
   "outputs": [],
   "source": [
    "import NQueens\n",
    "import random\n",
    "import multiprocessing as mp\n",
    "import pandas as pd\n",
    "import seaborn as sns\n",
    "from copy import copy\n",
    "from time import time_ns"
   ]
  },
  {
   "cell_type": "markdown",
   "metadata": {
    "pycharm": {
     "name": "#%% md\n"
    }
   },
   "source": [
    "## Se llevará a cabo con la siguiente configuración:"
   ]
  },
  {
   "cell_type": "code",
   "execution_count": 2,
   "metadata": {
    "pycharm": {
     "name": "#%%\n"
    }
   },
   "outputs": [],
   "source": [
    "algorithms = [NQueens.hill_climbing, NQueens.simulated_annealing]\n",
    "sizes = [4, 8, 10, 12, 15]\n",
    "n_iterations = 30\n",
    "iter_limit_pow = 3\n",
    "random.seed(42)"
   ]
  },
  {
   "cell_type": "markdown",
   "metadata": {
    "pycharm": {
     "name": "#%% md\n"
    }
   },
   "source": [
    "---"
   ]
  },
  {
   "cell_type": "markdown",
   "metadata": {},
   "source": [
    "# Tiempo de ejecución"
   ]
  },
  {
   "cell_type": "markdown",
   "metadata": {
    "pycharm": {
     "name": "#%% md\n"
    }
   },
   "source": [
    "## Correr simulación"
   ]
  },
  {
   "cell_type": "code",
   "execution_count": 3,
   "metadata": {
    "pycharm": {
     "name": "#%%\n"
    }
   },
   "outputs": [],
   "source": [
    "def run_simulation(simulations, algorithms, size, limit):\n",
    "    # Create common board\n",
    "    base_board = random.sample(range(size), size)\n",
    "    \n",
    "    # Run in each agent\n",
    "    for algorithm in algorithms:\n",
    "        # Run agent\n",
    "        start = time_ns()\n",
    "        best_h, iterations, _ = algorithm(copy(base_board), limit)\n",
    "        end = time_ns()\n",
    "        \n",
    "        # Append results in the siumlations dict\n",
    "        simulations.append({\n",
    "            'algorithm': algorithm.__name__,\n",
    "            'size': size,\n",
    "            'best_h': best_h,\n",
    "            'iterations': iterations,\n",
    "            'time_ms': (end-start)/1e6\n",
    "        })"
   ]
  },
  {
   "cell_type": "code",
   "execution_count": 4,
   "metadata": {
    "pycharm": {
     "name": "#%%\n"
    }
   },
   "outputs": [
    {
     "data": {
      "text/html": [
       "<div>\n",
       "<style scoped>\n",
       "    .dataframe tbody tr th:only-of-type {\n",
       "        vertical-align: middle;\n",
       "    }\n",
       "\n",
       "    .dataframe tbody tr th {\n",
       "        vertical-align: top;\n",
       "    }\n",
       "\n",
       "    .dataframe thead th {\n",
       "        text-align: right;\n",
       "    }\n",
       "</style>\n",
       "<table border=\"1\" class=\"dataframe\">\n",
       "  <thead>\n",
       "    <tr style=\"text-align: right;\">\n",
       "      <th></th>\n",
       "      <th>algorithm</th>\n",
       "      <th>size</th>\n",
       "      <th>best_h</th>\n",
       "      <th>iterations</th>\n",
       "      <th>time_ms</th>\n",
       "    </tr>\n",
       "  </thead>\n",
       "  <tbody>\n",
       "    <tr>\n",
       "      <th>0</th>\n",
       "      <td>hill_climbing</td>\n",
       "      <td>4</td>\n",
       "      <td>0</td>\n",
       "      <td>36</td>\n",
       "      <td>0.663306</td>\n",
       "    </tr>\n",
       "    <tr>\n",
       "      <th>1</th>\n",
       "      <td>simulated_annealing</td>\n",
       "      <td>4</td>\n",
       "      <td>0</td>\n",
       "      <td>22</td>\n",
       "      <td>0.343466</td>\n",
       "    </tr>\n",
       "    <tr>\n",
       "      <th>2</th>\n",
       "      <td>hill_climbing</td>\n",
       "      <td>4</td>\n",
       "      <td>1</td>\n",
       "      <td>12</td>\n",
       "      <td>0.369767</td>\n",
       "    </tr>\n",
       "    <tr>\n",
       "      <th>3</th>\n",
       "      <td>simulated_annealing</td>\n",
       "      <td>4</td>\n",
       "      <td>0</td>\n",
       "      <td>34</td>\n",
       "      <td>0.492557</td>\n",
       "    </tr>\n",
       "    <tr>\n",
       "      <th>4</th>\n",
       "      <td>hill_climbing</td>\n",
       "      <td>4</td>\n",
       "      <td>2</td>\n",
       "      <td>12</td>\n",
       "      <td>0.256872</td>\n",
       "    </tr>\n",
       "    <tr>\n",
       "      <th>...</th>\n",
       "      <td>...</td>\n",
       "      <td>...</td>\n",
       "      <td>...</td>\n",
       "      <td>...</td>\n",
       "      <td>...</td>\n",
       "    </tr>\n",
       "    <tr>\n",
       "      <th>295</th>\n",
       "      <td>simulated_annealing</td>\n",
       "      <td>15</td>\n",
       "      <td>1</td>\n",
       "      <td>3375</td>\n",
       "      <td>101.238667</td>\n",
       "    </tr>\n",
       "    <tr>\n",
       "      <th>296</th>\n",
       "      <td>hill_climbing</td>\n",
       "      <td>15</td>\n",
       "      <td>3</td>\n",
       "      <td>1470</td>\n",
       "      <td>35.471471</td>\n",
       "    </tr>\n",
       "    <tr>\n",
       "      <th>297</th>\n",
       "      <td>simulated_annealing</td>\n",
       "      <td>15</td>\n",
       "      <td>0</td>\n",
       "      <td>2299</td>\n",
       "      <td>45.713739</td>\n",
       "    </tr>\n",
       "    <tr>\n",
       "      <th>298</th>\n",
       "      <td>simulated_annealing</td>\n",
       "      <td>15</td>\n",
       "      <td>1</td>\n",
       "      <td>3375</td>\n",
       "      <td>98.520559</td>\n",
       "    </tr>\n",
       "    <tr>\n",
       "      <th>299</th>\n",
       "      <td>simulated_annealing</td>\n",
       "      <td>15</td>\n",
       "      <td>0</td>\n",
       "      <td>1627</td>\n",
       "      <td>46.377867</td>\n",
       "    </tr>\n",
       "  </tbody>\n",
       "</table>\n",
       "<p>300 rows × 5 columns</p>\n",
       "</div>"
      ],
      "text/plain": [
       "               algorithm  size  best_h  iterations     time_ms\n",
       "0          hill_climbing     4       0          36    0.663306\n",
       "1    simulated_annealing     4       0          22    0.343466\n",
       "2          hill_climbing     4       1          12    0.369767\n",
       "3    simulated_annealing     4       0          34    0.492557\n",
       "4          hill_climbing     4       2          12    0.256872\n",
       "..                   ...   ...     ...         ...         ...\n",
       "295  simulated_annealing    15       1        3375  101.238667\n",
       "296        hill_climbing    15       3        1470   35.471471\n",
       "297  simulated_annealing    15       0        2299   45.713739\n",
       "298  simulated_annealing    15       1        3375   98.520559\n",
       "299  simulated_annealing    15       0        1627   46.377867\n",
       "\n",
       "[300 rows x 5 columns]"
      ]
     },
     "execution_count": 4,
     "metadata": {},
     "output_type": "execute_result"
    }
   ],
   "source": [
    "# Using parallelism :D\n",
    "with mp.Manager() as manager:\n",
    "    simulations = manager.list() #List thread-safe. (overkill, find alternatives)\n",
    "    pool = mp.Pool() #use all available cores, otherwise specify the number you want as an argument\n",
    "    \n",
    "    # Test iterations\n",
    "    for size in sizes:\n",
    "        for _ in range(n_iterations):\n",
    "            pool.apply_async(run_simulation, args=(simulations, algorithms, size, size**iter_limit_pow))\n",
    "\n",
    "    # Wait for all threads to finish\n",
    "    pool.close()\n",
    "    pool.join()\n",
    "    \n",
    "    # Save it as a pandas dataframe\n",
    "    simulations_df = pd.DataFrame(list(simulations))\n",
    "\n",
    "simulations_df.to_csv('simulations.csv')\n",
    "simulations_df"
   ]
  },
  {
   "cell_type": "markdown",
   "metadata": {
    "pycharm": {
     "name": "#%% md\n"
    }
   },
   "source": [
    "## Análisis del performance de cada algorítmo"
   ]
  },
  {
   "cell_type": "code",
   "execution_count": 5,
   "metadata": {
    "pycharm": {
     "name": "#%%\n"
    }
   },
   "outputs": [
    {
     "data": {
      "text/html": [
       "<div>\n",
       "<style scoped>\n",
       "    .dataframe tbody tr th:only-of-type {\n",
       "        vertical-align: middle;\n",
       "    }\n",
       "\n",
       "    .dataframe tbody tr th {\n",
       "        vertical-align: top;\n",
       "    }\n",
       "\n",
       "    .dataframe thead th {\n",
       "        text-align: right;\n",
       "    }\n",
       "</style>\n",
       "<table border=\"1\" class=\"dataframe\">\n",
       "  <thead>\n",
       "    <tr style=\"text-align: right;\">\n",
       "      <th></th>\n",
       "      <th>algorithm</th>\n",
       "      <th>size</th>\n",
       "      <th>optimal_rate</th>\n",
       "      <th>time_ms_avg</th>\n",
       "      <th>time_ms_std</th>\n",
       "      <th>iter_avg</th>\n",
       "      <th>iter_std</th>\n",
       "    </tr>\n",
       "  </thead>\n",
       "  <tbody>\n",
       "    <tr>\n",
       "      <th>0</th>\n",
       "      <td>hill_climbing</td>\n",
       "      <td>4</td>\n",
       "      <td>0.100000</td>\n",
       "      <td>0.581944</td>\n",
       "      <td>0.421868</td>\n",
       "      <td>27.200000</td>\n",
       "      <td>19.914299</td>\n",
       "    </tr>\n",
       "    <tr>\n",
       "      <th>1</th>\n",
       "      <td>hill_climbing</td>\n",
       "      <td>8</td>\n",
       "      <td>0.100000</td>\n",
       "      <td>3.948134</td>\n",
       "      <td>2.401648</td>\n",
       "      <td>205.333333</td>\n",
       "      <td>126.793161</td>\n",
       "    </tr>\n",
       "    <tr>\n",
       "      <th>2</th>\n",
       "      <td>hill_climbing</td>\n",
       "      <td>10</td>\n",
       "      <td>0.100000</td>\n",
       "      <td>9.508952</td>\n",
       "      <td>4.951471</td>\n",
       "      <td>450.000000</td>\n",
       "      <td>235.166852</td>\n",
       "    </tr>\n",
       "    <tr>\n",
       "      <th>3</th>\n",
       "      <td>hill_climbing</td>\n",
       "      <td>12</td>\n",
       "      <td>0.033333</td>\n",
       "      <td>16.791521</td>\n",
       "      <td>6.583566</td>\n",
       "      <td>748.000000</td>\n",
       "      <td>294.821512</td>\n",
       "    </tr>\n",
       "    <tr>\n",
       "      <th>4</th>\n",
       "      <td>hill_climbing</td>\n",
       "      <td>15</td>\n",
       "      <td>0.000000</td>\n",
       "      <td>40.413436</td>\n",
       "      <td>13.273011</td>\n",
       "      <td>1603.000000</td>\n",
       "      <td>518.759462</td>\n",
       "    </tr>\n",
       "    <tr>\n",
       "      <th>5</th>\n",
       "      <td>simulated_annealing</td>\n",
       "      <td>4</td>\n",
       "      <td>0.800000</td>\n",
       "      <td>1.004871</td>\n",
       "      <td>0.556304</td>\n",
       "      <td>37.900000</td>\n",
       "      <td>20.529793</td>\n",
       "    </tr>\n",
       "    <tr>\n",
       "      <th>6</th>\n",
       "      <td>simulated_annealing</td>\n",
       "      <td>8</td>\n",
       "      <td>0.633333</td>\n",
       "      <td>8.928099</td>\n",
       "      <td>3.924961</td>\n",
       "      <td>358.533333</td>\n",
       "      <td>155.202367</td>\n",
       "    </tr>\n",
       "    <tr>\n",
       "      <th>7</th>\n",
       "      <td>simulated_annealing</td>\n",
       "      <td>10</td>\n",
       "      <td>0.500000</td>\n",
       "      <td>20.637921</td>\n",
       "      <td>8.103903</td>\n",
       "      <td>773.166667</td>\n",
       "      <td>287.246270</td>\n",
       "    </tr>\n",
       "    <tr>\n",
       "      <th>8</th>\n",
       "      <td>simulated_annealing</td>\n",
       "      <td>12</td>\n",
       "      <td>0.366667</td>\n",
       "      <td>37.576081</td>\n",
       "      <td>14.786870</td>\n",
       "      <td>1357.666667</td>\n",
       "      <td>536.289123</td>\n",
       "    </tr>\n",
       "    <tr>\n",
       "      <th>9</th>\n",
       "      <td>simulated_annealing</td>\n",
       "      <td>15</td>\n",
       "      <td>0.700000</td>\n",
       "      <td>70.034147</td>\n",
       "      <td>35.553249</td>\n",
       "      <td>2306.633333</td>\n",
       "      <td>1102.892701</td>\n",
       "    </tr>\n",
       "  </tbody>\n",
       "</table>\n",
       "</div>"
      ],
      "text/plain": [
       "             algorithm  size  optimal_rate  time_ms_avg  time_ms_std  \\\n",
       "0        hill_climbing     4      0.100000     0.581944     0.421868   \n",
       "1        hill_climbing     8      0.100000     3.948134     2.401648   \n",
       "2        hill_climbing    10      0.100000     9.508952     4.951471   \n",
       "3        hill_climbing    12      0.033333    16.791521     6.583566   \n",
       "4        hill_climbing    15      0.000000    40.413436    13.273011   \n",
       "5  simulated_annealing     4      0.800000     1.004871     0.556304   \n",
       "6  simulated_annealing     8      0.633333     8.928099     3.924961   \n",
       "7  simulated_annealing    10      0.500000    20.637921     8.103903   \n",
       "8  simulated_annealing    12      0.366667    37.576081    14.786870   \n",
       "9  simulated_annealing    15      0.700000    70.034147    35.553249   \n",
       "\n",
       "      iter_avg     iter_std  \n",
       "0    27.200000    19.914299  \n",
       "1   205.333333   126.793161  \n",
       "2   450.000000   235.166852  \n",
       "3   748.000000   294.821512  \n",
       "4  1603.000000   518.759462  \n",
       "5    37.900000    20.529793  \n",
       "6   358.533333   155.202367  \n",
       "7   773.166667   287.246270  \n",
       "8  1357.666667   536.289123  \n",
       "9  2306.633333  1102.892701  "
      ]
     },
     "execution_count": 5,
     "metadata": {},
     "output_type": "execute_result"
    }
   ],
   "source": [
    "samples_list = []\n",
    "\n",
    "for algorithm in algorithms:\n",
    "    for size in sizes:\n",
    "        sample_df = simulations_df.query(f'algorithm == \"{algorithm.__name__}\" and size == {size}')\n",
    "        \n",
    "        # Find optimals\n",
    "        try:\n",
    "            optimals = sample_df.best_h.value_counts().loc[0]\n",
    "        except KeyError:\n",
    "            optimals = 0\n",
    "        \n",
    "        # Save saple report\n",
    "        samples_list.append({\n",
    "            'algorithm': algorithm.__name__,\n",
    "            'size': size,\n",
    "            'optimal_rate': optimals / n_iterations,\n",
    "            'time_ms_avg': sample_df['time_ms'].mean(),\n",
    "            'time_ms_std': sample_df['time_ms'].std(),\n",
    "            'iter_avg': sample_df['iterations'].mean(),\n",
    "            'iter_std': sample_df['iterations'].std()\n",
    "        })\n",
    "\n",
    "# Print table\n",
    "samples_df = pd.DataFrame(samples_list)\n",
    "samples_df.to_csv('samples.csv')\n",
    "samples_df"
   ]
  },
  {
   "cell_type": "markdown",
   "metadata": {
    "pycharm": {
     "name": "#%% md\n"
    }
   },
   "source": [
    "## Gráficos\n",
    "### Box plot - Tiempo empleado hasta llegar a una solución"
   ]
  },
  {
   "cell_type": "code",
   "execution_count": 6,
   "metadata": {
    "pycharm": {
     "name": "#%%\n"
    }
   },
   "outputs": [
    {
     "data": {
      "image/png": "[encoded data removed]",
      "text/plain": [
       "<Figure size 1500x300 with 5 Axes>"
      ]
     },
     "metadata": {},
     "output_type": "display_data"
    }
   ],
   "source": [
    "%matplotlib inline\n",
    "\n",
    "grid1 = sns.FacetGrid(data=simulations_df, col='size', sharey=False)\n",
    "grid1.map(sns.boxplot, 'algorithm', 'time_ms', order= [x.__name__ for x in algorithms])\n",
    "grid1.set_xticklabels(['HC', 'SA'])\n",
    "\n",
    "grid1.fig.subplots_adjust(top=1.5)\n",
    "grid1.savefig('time_by_algorithm.svg')"
   ]
  },
  {
   "cell_type": "markdown",
   "metadata": {},
   "source": [
    "\n",
    "# Comportamiento de h()"
   ]
  },
  {
   "cell_type": "markdown",
   "metadata": {},
   "source": [
    "## Se llevará acabo con la siguiente configuración"
   ]
  },
  {
   "cell_type": "code",
   "execution_count": 7,
   "metadata": {},
   "outputs": [],
   "source": [
    "size = 24\n",
    "n_iterations = 3\n",
    "limit = 50_000"
   ]
  },
  {
   "cell_type": "code",
   "execution_count": 8,
   "metadata": {},
   "outputs": [],
   "source": [
    "def run_simulation_h(simulations, algorithms, size, limit, i):\n",
    "    # Create common board\n",
    "    base_board = random.sample(range(size), size)\n",
    "    \n",
    "    # Run in each agent\n",
    "    for algorithm in algorithms:\n",
    "        # Run agent\n",
    "        _, _, h_history = algorithm(copy(base_board), limit)\n",
    "\n",
    "        # Dump the data to the simulations list\n",
    "        for step, h in h_history:\n",
    "            simulations.append({\n",
    "                'algorithm': algorithm.__name__,\n",
    "                'board': i,\n",
    "                'step': step,\n",
    "                'h': h\n",
    "            })"
   ]
  },
  {
   "cell_type": "code",
   "execution_count": 9,
   "metadata": {},
   "outputs": [],
   "source": [
    "with mp.Manager() as manager:\n",
    "    simulations_h = manager.list() #List thread-safe. (overkill, find alternatives)\n",
    "    pool = mp.Pool() #use all available cores, otherwise specify the number you want as an argument\n",
    "    \n",
    "    # Run\n",
    "    for i in range(n_iterations):\n",
    "        pool.apply_async(run_simulation_h, args=(simulations_h, algorithms, size, limit, i))\n",
    "\n",
    "    # Wait for all threads to finish\n",
    "    pool.close()\n",
    "    pool.join()\n",
    "    \n",
    "    # Save it as a list\n",
    "    simulations_h_df = pd.DataFrame(list(simulations_h))"
   ]
  },
  {
   "cell_type": "markdown",
   "metadata": {
    "pycharm": {
     "name": "#%% md\n"
    }
   },
   "source": [
    "### Lineplot - Comportamiento de h() por algorítmo, en tableros idénticos"
   ]
  },
  {
   "cell_type": "code",
   "execution_count": 10,
   "metadata": {
    "pycharm": {
     "name": "#%%\n"
    }
   },
   "outputs": [
    {
     "data": {
      "image/png": "[encoded data removed]",
      "text/plain": [
       "<Figure size 1094.25x300 with 3 Axes>"
      ]
     },
     "metadata": {},
     "output_type": "display_data"
    }
   ],
   "source": [
    "%matplotlib inline\n",
    "\n",
    "grid2 = sns.FacetGrid(data=simulations_h_df, hue='algorithm', col='board', sharey=False)\n",
    "grid2.map(sns.lineplot, 'step', 'h')\n",
    "grid2.add_legend()\n",
    "\n",
    "grid1.savefig('h-behavior.svg')"
   ]
  }
 ],
 "metadata": {
  "kernelspec": {
   "display_name": "Python 3 (ipykernel)",
   "language": "python",
   "name": "python3"
  },
  "language_info": {
   "codemirror_mode": {
    "name": "ipython",
    "version": 3
   },
   "file_extension": ".py",
   "mimetype": "text/x-python",
   "name": "python",
   "nbconvert_exporter": "python",
   "pygments_lexer": "ipython3",
   "version": "3.10.4"
  }
 },
 "nbformat": 4,
 "nbformat_minor": 1
}
