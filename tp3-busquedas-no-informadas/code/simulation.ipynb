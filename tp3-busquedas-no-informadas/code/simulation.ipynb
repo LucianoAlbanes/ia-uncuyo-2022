{
 "cells": [
  {
   "cell_type": "markdown",
   "metadata": {
    "pycharm": {
     "name": "#%% md\n"
    }
   },
   "source": [
    "# Análisis de performance de agentes\n",
    "## Búsqueda no informada"
   ]
  },
  {
   "cell_type": "code",
   "execution_count": 1,
   "metadata": {
    "pycharm": {
     "name": "#%%\n"
    }
   },
   "outputs": [],
   "source": [
    "import Agents\n",
    "import random\n",
    "import multiprocessing as mp\n",
    "import pandas as pd\n",
    "import seaborn as sns"
   ]
  },
  {
   "cell_type": "markdown",
   "metadata": {
    "pycharm": {
     "name": "#%% md\n"
    }
   },
   "source": [
    "## Se llevará a cabo con la siguiente configuración:"
   ]
  },
  {
   "cell_type": "code",
   "execution_count": 2,
   "metadata": {
    "pycharm": {
     "name": "#%%\n"
    }
   },
   "outputs": [],
   "source": [
    "algorithms = [Agents.GoalAgentBFS, Agents.GoalAgentDFS, Agents.GoalAgentDLS, Agents.GoalAgentUCS]\n",
    "size = 100\n",
    "obstacle_rate = 0.1\n",
    "depth_dls = 142\n",
    "iterations = 300  # Per enviroment.\n",
    "random.seed(42)"
   ]
  },
  {
   "cell_type": "markdown",
   "metadata": {
    "pycharm": {
     "name": "#%% md\n"
    }
   },
   "source": [
    "---"
   ]
  },
  {
   "cell_type": "markdown",
   "metadata": {
    "pycharm": {
     "name": "#%% md\n"
    }
   },
   "source": [
    "## Correr simulación"
   ]
  },
  {
   "cell_type": "code",
   "execution_count": 3,
   "metadata": {
    "pycharm": {
     "name": "#%%\n"
    }
   },
   "outputs": [],
   "source": [
    "def run_simulation_1env(simulations, algorithms, size, obstacle_rate, depth_dls):\n",
    "    # Create common env\n",
    "    env = Agents.Environment((size, size), (random.randint(0, size - 1), random.randint(0, size - 1)),\n",
    "                             (random.randint(0, size - 1), random.randint(0, size - 1)), obstacle_rate)\n",
    "    # Run in each agent\n",
    "    for algorithm in algorithms:\n",
    "        # Depth in DLS\n",
    "        if algorithm == Agents.GoalAgentDLS:\n",
    "            agent = algorithm(env, depth_dls)\n",
    "        else:\n",
    "            agent = algorithm(env)\n",
    "            \n",
    "        # Run agent\n",
    "        path = agent.think()\n",
    "\n",
    "        # Append results in the siumlations dict\n",
    "        simulations.append({\n",
    "            'algorithm': algorithm.__name__,\n",
    "            'goal_reached': len(path) > 0,\n",
    "            'solution_length': len(path),\n",
    "            'explored_states': agent.explored_states\n",
    "        })"
   ]
  },
  {
   "cell_type": "code",
   "execution_count": 4,
   "metadata": {
    "pycharm": {
     "name": "#%%\n"
    }
   },
   "outputs": [
    {
     "data": {
      "text/html": [
       "<div>\n",
       "<style scoped>\n",
       "    .dataframe tbody tr th:only-of-type {\n",
       "        vertical-align: middle;\n",
       "    }\n",
       "\n",
       "    .dataframe tbody tr th {\n",
       "        vertical-align: top;\n",
       "    }\n",
       "\n",
       "    .dataframe thead th {\n",
       "        text-align: right;\n",
       "    }\n",
       "</style>\n",
       "<table border=\"1\" class=\"dataframe\">\n",
       "  <thead>\n",
       "    <tr style=\"text-align: right;\">\n",
       "      <th></th>\n",
       "      <th>algorithm</th>\n",
       "      <th>goal_reached</th>\n",
       "      <th>solution_length</th>\n",
       "      <th>explored_states</th>\n",
       "    </tr>\n",
       "  </thead>\n",
       "  <tbody>\n",
       "    <tr>\n",
       "      <th>0</th>\n",
       "      <td>GoalAgentBFS</td>\n",
       "      <td>True</td>\n",
       "      <td>39</td>\n",
       "      <td>1388</td>\n",
       "    </tr>\n",
       "    <tr>\n",
       "      <th>1</th>\n",
       "      <td>GoalAgentBFS</td>\n",
       "      <td>True</td>\n",
       "      <td>40</td>\n",
       "      <td>2371</td>\n",
       "    </tr>\n",
       "    <tr>\n",
       "      <th>2</th>\n",
       "      <td>GoalAgentBFS</td>\n",
       "      <td>True</td>\n",
       "      <td>4</td>\n",
       "      <td>30</td>\n",
       "    </tr>\n",
       "    <tr>\n",
       "      <th>3</th>\n",
       "      <td>GoalAgentDFS</td>\n",
       "      <td>True</td>\n",
       "      <td>317</td>\n",
       "      <td>324</td>\n",
       "    </tr>\n",
       "    <tr>\n",
       "      <th>4</th>\n",
       "      <td>GoalAgentDLS</td>\n",
       "      <td>False</td>\n",
       "      <td>0</td>\n",
       "      <td>2786</td>\n",
       "    </tr>\n",
       "    <tr>\n",
       "      <th>...</th>\n",
       "      <td>...</td>\n",
       "      <td>...</td>\n",
       "      <td>...</td>\n",
       "      <td>...</td>\n",
       "    </tr>\n",
       "    <tr>\n",
       "      <th>1195</th>\n",
       "      <td>GoalAgentUCS</td>\n",
       "      <td>True</td>\n",
       "      <td>85</td>\n",
       "      <td>7070</td>\n",
       "    </tr>\n",
       "    <tr>\n",
       "      <th>1196</th>\n",
       "      <td>GoalAgentUCS</td>\n",
       "      <td>True</td>\n",
       "      <td>75</td>\n",
       "      <td>4418</td>\n",
       "    </tr>\n",
       "    <tr>\n",
       "      <th>1197</th>\n",
       "      <td>GoalAgentDLS</td>\n",
       "      <td>False</td>\n",
       "      <td>0</td>\n",
       "      <td>3193</td>\n",
       "    </tr>\n",
       "    <tr>\n",
       "      <th>1198</th>\n",
       "      <td>GoalAgentUCS</td>\n",
       "      <td>True</td>\n",
       "      <td>61</td>\n",
       "      <td>3753</td>\n",
       "    </tr>\n",
       "    <tr>\n",
       "      <th>1199</th>\n",
       "      <td>GoalAgentUCS</td>\n",
       "      <td>True</td>\n",
       "      <td>104</td>\n",
       "      <td>7472</td>\n",
       "    </tr>\n",
       "  </tbody>\n",
       "</table>\n",
       "<p>1200 rows × 4 columns</p>\n",
       "</div>"
      ],
      "text/plain": [
       "         algorithm  goal_reached  solution_length  explored_states\n",
       "0     GoalAgentBFS          True               39             1388\n",
       "1     GoalAgentBFS          True               40             2371\n",
       "2     GoalAgentBFS          True                4               30\n",
       "3     GoalAgentDFS          True              317              324\n",
       "4     GoalAgentDLS         False                0             2786\n",
       "...            ...           ...              ...              ...\n",
       "1195  GoalAgentUCS          True               85             7070\n",
       "1196  GoalAgentUCS          True               75             4418\n",
       "1197  GoalAgentDLS         False                0             3193\n",
       "1198  GoalAgentUCS          True               61             3753\n",
       "1199  GoalAgentUCS          True              104             7472\n",
       "\n",
       "[1200 rows x 4 columns]"
      ]
     },
     "execution_count": 4,
     "metadata": {},
     "output_type": "execute_result"
    }
   ],
   "source": [
    "# Using parallelism :D\n",
    "with mp.Manager() as manager:\n",
    "    simulations = manager.list() #List thread-safe. (overkill, find alternatives)\n",
    "    pool = mp.Pool() #use all available cores, otherwise specify the number you want as an argument\n",
    "    \n",
    "    # Test iterations\n",
    "    for i in range(iterations):\n",
    "        pool.apply_async(run_simulation_1env, args=(simulations, algorithms, size, obstacle_rate, depth_dls))\n",
    "\n",
    "    # Wait for all threads to finish\n",
    "    pool.close()\n",
    "    pool.join()\n",
    "    \n",
    "    # Save it as a pandas dataframe\n",
    "    simulations_df = pd.DataFrame(list(simulations))\n",
    "\n",
    "simulations_df.to_csv('simulations.csv')\n",
    "simulations_df"
   ]
  },
  {
   "cell_type": "markdown",
   "metadata": {
    "pycharm": {
     "name": "#%% md\n"
    }
   },
   "source": [
    "## Análisis del performance de cada algorítmo"
   ]
  },
  {
   "cell_type": "code",
   "execution_count": 5,
   "metadata": {
    "pycharm": {
     "name": "#%%\n"
    }
   },
   "outputs": [
    {
     "data": {
      "text/html": [
       "<div>\n",
       "<style scoped>\n",
       "    .dataframe tbody tr th:only-of-type {\n",
       "        vertical-align: middle;\n",
       "    }\n",
       "\n",
       "    .dataframe tbody tr th {\n",
       "        vertical-align: top;\n",
       "    }\n",
       "\n",
       "    .dataframe thead th {\n",
       "        text-align: right;\n",
       "    }\n",
       "</style>\n",
       "<table border=\"1\" class=\"dataframe\">\n",
       "  <thead>\n",
       "    <tr style=\"text-align: right;\">\n",
       "      <th></th>\n",
       "      <th>algorithm</th>\n",
       "      <th>goal_reached_n</th>\n",
       "      <th>solution_length_avg</th>\n",
       "      <th>solution_length_std</th>\n",
       "      <th>explored_states_avg</th>\n",
       "      <th>explored_states_std</th>\n",
       "    </tr>\n",
       "  </thead>\n",
       "  <tbody>\n",
       "    <tr>\n",
       "      <th>0</th>\n",
       "      <td>GoalAgentBFS</td>\n",
       "      <td>299</td>\n",
       "      <td>68.623333</td>\n",
       "      <td>35.315133</td>\n",
       "      <td>4567.070000</td>\n",
       "      <td>2714.383021</td>\n",
       "    </tr>\n",
       "    <tr>\n",
       "      <th>1</th>\n",
       "      <td>GoalAgentDFS</td>\n",
       "      <td>299</td>\n",
       "      <td>981.956667</td>\n",
       "      <td>715.934547</td>\n",
       "      <td>4461.026667</td>\n",
       "      <td>2725.442916</td>\n",
       "    </tr>\n",
       "    <tr>\n",
       "      <th>2</th>\n",
       "      <td>GoalAgentDLS</td>\n",
       "      <td>97</td>\n",
       "      <td>37.413333</td>\n",
       "      <td>57.814510</td>\n",
       "      <td>2404.293333</td>\n",
       "      <td>1090.172455</td>\n",
       "    </tr>\n",
       "    <tr>\n",
       "      <th>3</th>\n",
       "      <td>GoalAgentUCS</td>\n",
       "      <td>299</td>\n",
       "      <td>68.623333</td>\n",
       "      <td>35.315133</td>\n",
       "      <td>4567.070000</td>\n",
       "      <td>2714.383021</td>\n",
       "    </tr>\n",
       "  </tbody>\n",
       "</table>\n",
       "</div>"
      ],
      "text/plain": [
       "      algorithm  goal_reached_n  solution_length_avg  solution_length_std  \\\n",
       "0  GoalAgentBFS             299            68.623333            35.315133   \n",
       "1  GoalAgentDFS             299           981.956667           715.934547   \n",
       "2  GoalAgentDLS              97            37.413333            57.814510   \n",
       "3  GoalAgentUCS             299            68.623333            35.315133   \n",
       "\n",
       "   explored_states_avg  explored_states_std  \n",
       "0          4567.070000          2714.383021  \n",
       "1          4461.026667          2725.442916  \n",
       "2          2404.293333          1090.172455  \n",
       "3          4567.070000          2714.383021  "
      ]
     },
     "execution_count": 5,
     "metadata": {},
     "output_type": "execute_result"
    }
   ],
   "source": [
    "samples_list = []\n",
    "\n",
    "for algorithm in algorithms:\n",
    "    sample_df = simulations_df.query(f'algorithm == \"{algorithm.__name__}\"')\n",
    "\n",
    "    samples_list.append({\n",
    "        'algorithm': algorithm.__name__,\n",
    "        'goal_reached_n': sample_df.goal_reached.value_counts().loc[True],\n",
    "        'solution_length_avg': sample_df['solution_length'].mean(),\n",
    "        'solution_length_std': sample_df['solution_length'].std(),\n",
    "        'explored_states_avg': sample_df['explored_states'].mean(),\n",
    "        'explored_states_std': sample_df['explored_states'].std()\n",
    "    })\n",
    "\n",
    "# Print table\n",
    "samples_df = pd.DataFrame(samples_list)\n",
    "samples_df.to_csv('samples.csv')\n",
    "samples_df"
   ]
  },
  {
   "cell_type": "markdown",
   "metadata": {
    "pycharm": {
     "name": "#%% md\n"
    }
   },
   "source": [
    "## Gráficos\n",
    "### Box plot - Estados explorados por algorítmo"
   ]
  },
  {
   "cell_type": "code",
   "execution_count": 6,
   "metadata": {
    "pycharm": {
     "name": "#%%\n"
    }
   },
   "outputs": [
    {
     "data": {
      "image/png": "[encoded data removed]",
      "text/plain": [
       "<Figure size 640x480 with 1 Axes>"
      ]
     },
     "metadata": {},
     "output_type": "display_data"
    }
   ],
   "source": [
    "%matplotlib inline\n",
    "\n",
    "boxplot = sns.boxplot(data=simulations_df, x='algorithm', y='explored_states', hue=\"goal_reached\", order=[x.__name__ for x in algorithms])\n",
    "boxplot.set_xticklabels(['BFS', 'DFS', 'DLimS', 'UCostS'])\n",
    "boxplot.set_title('Explored states by algorithm')\n",
    "boxplot.figure.savefig('boxplot-explored_states.svg')"
   ]
  },
  {
   "cell_type": "markdown",
   "metadata": {
    "pycharm": {
     "name": "#%% md\n"
    }
   },
   "source": [
    "### Box plot - Tamaño de las soluciones"
   ]
  },
  {
   "cell_type": "code",
   "execution_count": 7,
   "metadata": {
    "pycharm": {
     "name": "#%%\n"
    },
    "scrolled": false
   },
   "outputs": [
    {
     "data": {
      "image/png": "[encoded data removed]",
      "text/plain": [
       "<Figure size 640x480 with 1 Axes>"
      ]
     },
     "metadata": {},
     "output_type": "display_data"
    }
   ],
   "source": [
    "%matplotlib inline\n",
    "\n",
    "boxplot = sns.boxplot(data=simulations_df, x='algorithm', y='solution_length', hue=\"goal_reached\", order=[x.__name__ for x in algorithms])\n",
    "boxplot.set_xticklabels(['BFS', 'DFS', 'DLS', 'UCS'])\n",
    "boxplot.set_title('Solution length by algorithm (linear)')\n",
    "boxplot.figure.savefig('boxplot-solution_length.svg')"
   ]
  },
  {
   "cell_type": "code",
   "execution_count": 8,
   "metadata": {
    "pycharm": {
     "name": "#%%\n"
    }
   },
   "outputs": [
    {
     "data": {
      "image/png": "[encoded data removed]",
      "text/plain": [
       "<Figure size 640x480 with 1 Axes>"
      ]
     },
     "metadata": {},
     "output_type": "display_data"
    }
   ],
   "source": [
    "%matplotlib inline\n",
    "boxplot = sns.boxplot(data=simulations_df, x='algorithm', y='solution_length', hue=\"goal_reached\", order=[x.__name__ for x in algorithms])\n",
    "boxplot.set_xticklabels(['BFS', 'DFS', 'DLS', 'UCS'])\n",
    "boxplot.set(yscale='log')\n",
    "boxplot.set_title('Solution length by algorithm (logarithmic)')\n",
    "boxplot.figure.savefig('boxplot-solution_length-log.svg')"
   ]
  }
 ],
 "metadata": {
  "kernelspec": {
   "display_name": "Python 3 (ipykernel)",
   "language": "python",
   "name": "python3"
  },
  "language_info": {
   "codemirror_mode": {
    "name": "ipython",
    "version": 3
   },
   "file_extension": ".py",
   "mimetype": "text/x-python",
   "name": "python",
   "nbconvert_exporter": "python",
   "pygments_lexer": "ipython3",
   "version": "3.10.4"
  }
 },
 "nbformat": 4,
 "nbformat_minor": 1
}
