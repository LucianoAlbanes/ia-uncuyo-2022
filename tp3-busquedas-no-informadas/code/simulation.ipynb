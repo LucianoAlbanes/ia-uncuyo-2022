{
 "cells": [
  {
   "cell_type": "markdown",
   "metadata": {
    "pycharm": {
     "name": "#%% md\n"
    }
   },
   "source": [
    "# Análisis de performance de agentes\n",
    "## Búsqueda no informada"
   ]
  },
  {
   "cell_type": "code",
   "execution_count": 9,
   "metadata": {
    "pycharm": {
     "name": "#%%\n"
    }
   },
   "outputs": [],
   "source": [
    "import Agents\n",
    "import random\n",
    "import multiprocessing as mp\n",
    "import pandas as pd\n",
    "import seaborn as sns"
   ]
  },
  {
   "cell_type": "markdown",
   "metadata": {
    "pycharm": {
     "name": "#%% md\n"
    }
   },
   "source": [
    "## Se llevará a cabo con la siguiente configuración:"
   ]
  },
  {
   "cell_type": "code",
   "execution_count": 10,
   "metadata": {
    "pycharm": {
     "name": "#%%\n"
    }
   },
   "outputs": [],
   "source": [
    "agent_types = [Agents.GoalAgentBFS, Agents.GoalAgentDFS, Agents.GoalAgentDLS, Agents.GoalAgentUCS]\n",
    "size = 100\n",
    "obstacle_rate = 0.1\n",
    "depth_dls = 141\n",
    "iterations = 30  # Per enviroment.\n",
    "random.seed(0x0303456)"
   ]
  },
  {
   "cell_type": "markdown",
   "metadata": {
    "pycharm": {
     "name": "#%% md\n"
    }
   },
   "source": [
    "---"
   ]
  },
  {
   "cell_type": "markdown",
   "metadata": {
    "pycharm": {
     "name": "#%% md\n"
    }
   },
   "source": [
    "## Correr simulación"
   ]
  },
  {
   "cell_type": "code",
   "execution_count": 11,
   "metadata": {
    "pycharm": {
     "name": "#%%\n"
    }
   },
   "outputs": [],
   "source": [
    "def run_simulation_1env(simulations, agent_types, size, obstacle_rate, depth_dls):\n",
    "    # Create common env\n",
    "    env = Agents.Environment((size, size), (random.randint(0, size - 1), random.randint(0, size - 1)),\n",
    "                             (random.randint(0, size - 1), random.randint(0, size - 1)), obstacle_rate)\n",
    "    # Run in each agent\n",
    "    for agent_type in agent_types:\n",
    "        # Depth in DLS\n",
    "        if agent_type == Agents.GoalAgentDLS:\n",
    "            agent = agent_type(env, depth_dls)\n",
    "        else:\n",
    "            agent = agent_type(env)\n",
    "            \n",
    "        # Run agent\n",
    "        path = agent.think()\n",
    "\n",
    "        # Append results in the siumlations dict\n",
    "        simulations.append({\n",
    "            'agent_type': agent_type.__name__,\n",
    "            'goal_reached': len(path) > 0,\n",
    "            'solution_length': len(path),\n",
    "            'explored_states': agent.explored_states\n",
    "        })"
   ]
  },
  {
   "cell_type": "code",
   "execution_count": 12,
   "metadata": {
    "pycharm": {
     "name": "#%%\n"
    }
   },
   "outputs": [
    {
     "data": {
      "text/html": [
       "<div>\n",
       "<style scoped>\n",
       "    .dataframe tbody tr th:only-of-type {\n",
       "        vertical-align: middle;\n",
       "    }\n",
       "\n",
       "    .dataframe tbody tr th {\n",
       "        vertical-align: top;\n",
       "    }\n",
       "\n",
       "    .dataframe thead th {\n",
       "        text-align: right;\n",
       "    }\n",
       "</style>\n",
       "<table border=\"1\" class=\"dataframe\">\n",
       "  <thead>\n",
       "    <tr style=\"text-align: right;\">\n",
       "      <th></th>\n",
       "      <th>agent_type</th>\n",
       "      <th>goal_reached</th>\n",
       "      <th>solution_length</th>\n",
       "      <th>explored_states</th>\n",
       "    </tr>\n",
       "  </thead>\n",
       "  <tbody>\n",
       "    <tr>\n",
       "      <th>0</th>\n",
       "      <td>GoalAgentBFS</td>\n",
       "      <td>True</td>\n",
       "      <td>36</td>\n",
       "      <td>1261</td>\n",
       "    </tr>\n",
       "    <tr>\n",
       "      <th>1</th>\n",
       "      <td>GoalAgentBFS</td>\n",
       "      <td>True</td>\n",
       "      <td>40</td>\n",
       "      <td>2399</td>\n",
       "    </tr>\n",
       "    <tr>\n",
       "      <th>2</th>\n",
       "      <td>GoalAgentBFS</td>\n",
       "      <td>True</td>\n",
       "      <td>46</td>\n",
       "      <td>2714</td>\n",
       "    </tr>\n",
       "    <tr>\n",
       "      <th>3</th>\n",
       "      <td>GoalAgentDFS</td>\n",
       "      <td>True</td>\n",
       "      <td>1074</td>\n",
       "      <td>1335</td>\n",
       "    </tr>\n",
       "    <tr>\n",
       "      <th>4</th>\n",
       "      <td>GoalAgentBFS</td>\n",
       "      <td>True</td>\n",
       "      <td>67</td>\n",
       "      <td>4463</td>\n",
       "    </tr>\n",
       "    <tr>\n",
       "      <th>...</th>\n",
       "      <td>...</td>\n",
       "      <td>...</td>\n",
       "      <td>...</td>\n",
       "      <td>...</td>\n",
       "    </tr>\n",
       "    <tr>\n",
       "      <th>115</th>\n",
       "      <td>GoalAgentDFS</td>\n",
       "      <td>True</td>\n",
       "      <td>739</td>\n",
       "      <td>2970</td>\n",
       "    </tr>\n",
       "    <tr>\n",
       "      <th>116</th>\n",
       "      <td>GoalAgentDLS</td>\n",
       "      <td>False</td>\n",
       "      <td>0</td>\n",
       "      <td>3533</td>\n",
       "    </tr>\n",
       "    <tr>\n",
       "      <th>117</th>\n",
       "      <td>GoalAgentUCS</td>\n",
       "      <td>True</td>\n",
       "      <td>91</td>\n",
       "      <td>5094</td>\n",
       "    </tr>\n",
       "    <tr>\n",
       "      <th>118</th>\n",
       "      <td>GoalAgentUCS</td>\n",
       "      <td>True</td>\n",
       "      <td>65</td>\n",
       "      <td>5682</td>\n",
       "    </tr>\n",
       "    <tr>\n",
       "      <th>119</th>\n",
       "      <td>GoalAgentUCS</td>\n",
       "      <td>True</td>\n",
       "      <td>84</td>\n",
       "      <td>7714</td>\n",
       "    </tr>\n",
       "  </tbody>\n",
       "</table>\n",
       "<p>120 rows × 4 columns</p>\n",
       "</div>"
      ],
      "text/plain": [
       "       agent_type  goal_reached  solution_length  explored_states\n",
       "0    GoalAgentBFS          True               36             1261\n",
       "1    GoalAgentBFS          True               40             2399\n",
       "2    GoalAgentBFS          True               46             2714\n",
       "3    GoalAgentDFS          True             1074             1335\n",
       "4    GoalAgentBFS          True               67             4463\n",
       "..            ...           ...              ...              ...\n",
       "115  GoalAgentDFS          True              739             2970\n",
       "116  GoalAgentDLS         False                0             3533\n",
       "117  GoalAgentUCS          True               91             5094\n",
       "118  GoalAgentUCS          True               65             5682\n",
       "119  GoalAgentUCS          True               84             7714\n",
       "\n",
       "[120 rows x 4 columns]"
      ]
     },
     "execution_count": 12,
     "metadata": {},
     "output_type": "execute_result"
    }
   ],
   "source": [
    "# Using parallelism :D\n",
    "with mp.Manager() as manager:\n",
    "    simulations = manager.list() #List thread-safe. (overkill, find alternatives)\n",
    "    pool = mp.Pool() #use all available cores, otherwise specify the number you want as an argument\n",
    "    \n",
    "    # Test iterations\n",
    "    for i in range(iterations):\n",
    "        pool.apply_async(run_simulation_1env, args=(simulations, agent_types, size, obstacle_rate, depth_dls))\n",
    "\n",
    "    # Wait for all threads to finish\n",
    "    pool.close()\n",
    "    pool.join()\n",
    "    \n",
    "    # Save it as a pandas dataframe\n",
    "    simulations_df = pd.DataFrame(list(simulations))\n",
    "\n",
    "simulations_df"
   ]
  },
  {
   "cell_type": "markdown",
   "metadata": {
    "pycharm": {
     "name": "#%% md\n"
    }
   },
   "source": [
    "## Análisis del performance de cada algorítmo"
   ]
  },
  {
   "cell_type": "code",
   "execution_count": 13,
   "metadata": {
    "pycharm": {
     "name": "#%%\n"
    }
   },
   "outputs": [
    {
     "data": {
      "text/html": [
       "<div>\n",
       "<style scoped>\n",
       "    .dataframe tbody tr th:only-of-type {\n",
       "        vertical-align: middle;\n",
       "    }\n",
       "\n",
       "    .dataframe tbody tr th {\n",
       "        vertical-align: top;\n",
       "    }\n",
       "\n",
       "    .dataframe thead th {\n",
       "        text-align: right;\n",
       "    }\n",
       "</style>\n",
       "<table border=\"1\" class=\"dataframe\">\n",
       "  <thead>\n",
       "    <tr style=\"text-align: right;\">\n",
       "      <th></th>\n",
       "      <th>agent_type</th>\n",
       "      <th>goal_reached_n</th>\n",
       "      <th>solution_length_avg</th>\n",
       "      <th>solution_length_std</th>\n",
       "      <th>explored_states_avg</th>\n",
       "      <th>explored_states_std</th>\n",
       "    </tr>\n",
       "  </thead>\n",
       "  <tbody>\n",
       "    <tr>\n",
       "      <th>0</th>\n",
       "      <td>GoalAgentBFS</td>\n",
       "      <td>30</td>\n",
       "      <td>72.500000</td>\n",
       "      <td>40.184703</td>\n",
       "      <td>4886.433333</td>\n",
       "      <td>2749.584416</td>\n",
       "    </tr>\n",
       "    <tr>\n",
       "      <th>1</th>\n",
       "      <td>GoalAgentDFS</td>\n",
       "      <td>30</td>\n",
       "      <td>964.900000</td>\n",
       "      <td>740.700710</td>\n",
       "      <td>4603.533333</td>\n",
       "      <td>2791.845907</td>\n",
       "    </tr>\n",
       "    <tr>\n",
       "      <th>2</th>\n",
       "      <td>GoalAgentDLS</td>\n",
       "      <td>13</td>\n",
       "      <td>48.766667</td>\n",
       "      <td>62.595959</td>\n",
       "      <td>2412.133333</td>\n",
       "      <td>1205.821189</td>\n",
       "    </tr>\n",
       "    <tr>\n",
       "      <th>3</th>\n",
       "      <td>GoalAgentUCS</td>\n",
       "      <td>30</td>\n",
       "      <td>72.500000</td>\n",
       "      <td>40.184703</td>\n",
       "      <td>4886.433333</td>\n",
       "      <td>2749.584416</td>\n",
       "    </tr>\n",
       "  </tbody>\n",
       "</table>\n",
       "</div>"
      ],
      "text/plain": [
       "     agent_type  goal_reached_n  solution_length_avg  solution_length_std  \\\n",
       "0  GoalAgentBFS              30            72.500000            40.184703   \n",
       "1  GoalAgentDFS              30           964.900000           740.700710   \n",
       "2  GoalAgentDLS              13            48.766667            62.595959   \n",
       "3  GoalAgentUCS              30            72.500000            40.184703   \n",
       "\n",
       "   explored_states_avg  explored_states_std  \n",
       "0          4886.433333          2749.584416  \n",
       "1          4603.533333          2791.845907  \n",
       "2          2412.133333          1205.821189  \n",
       "3          4886.433333          2749.584416  "
      ]
     },
     "execution_count": 13,
     "metadata": {},
     "output_type": "execute_result"
    }
   ],
   "source": [
    "samples_list = []\n",
    "\n",
    "for agent_type in agent_types:\n",
    "    sample_df = simulations_df.query(f'agent_type == \"{agent_type.__name__}\"')\n",
    "\n",
    "    samples_list.append({\n",
    "        'agent_type': agent_type.__name__,\n",
    "        'goal_reached_n': sample_df.goal_reached.value_counts().loc[True],\n",
    "        'solution_length_avg': sample_df['solution_length'].mean(),\n",
    "        'solution_length_std': sample_df['solution_length'].std(),\n",
    "        'explored_states_avg': sample_df['explored_states'].mean(),\n",
    "        'explored_states_std': sample_df['explored_states'].std()\n",
    "    })\n",
    "\n",
    "# Print table\n",
    "samples_df = pd.DataFrame(samples_list)\n",
    "samples_df"
   ]
  },
  {
   "cell_type": "markdown",
   "metadata": {
    "pycharm": {
     "name": "#%% md\n"
    }
   },
   "source": [
    "## Gráficos\n",
    "### Box plot - Estados explorados por algorítmo"
   ]
  },
  {
   "cell_type": "code",
   "execution_count": 14,
   "metadata": {
    "pycharm": {
     "name": "#%%\n"
    }
   },
   "outputs": [
    {
     "data": {
      "text/plain": [
       "Text(0.5, 1.0, 'Explored states by algorithm')"
      ]
     },
     "execution_count": 14,
     "metadata": {},
     "output_type": "execute_result"
    },
    {
     "data": {
      "image/png": "[encoded data removed]",
      "text/plain": [
       "<Figure size 640x480 with 1 Axes>"
      ]
     },
     "metadata": {},
     "output_type": "display_data"
    }
   ],
   "source": [
    "%matplotlib inline\n",
    "\n",
    "boxplot = sns.boxplot(data=simulations_df, x='agent_type', y='explored_states', hue=\"goal_reached\", order=[x.__name__ for x in agent_types])\n",
    "boxplot.set_xticklabels(['BFS', 'DFS', 'DLimS', 'UCostS'])\n",
    "boxplot.set_title('Explored states by algorithm')"
   ]
  },
  {
   "cell_type": "markdown",
   "metadata": {
    "pycharm": {
     "name": "#%% md\n"
    }
   },
   "source": [
    "### Box plot - Tamaño de las soluciones"
   ]
  },
  {
   "cell_type": "code",
   "execution_count": 15,
   "metadata": {
    "pycharm": {
     "name": "#%%\n"
    },
    "scrolled": false
   },
   "outputs": [
    {
     "data": {
      "text/plain": [
       "Text(0.5, 1.0, 'Solution size by algorithm (linear)')"
      ]
     },
     "execution_count": 15,
     "metadata": {},
     "output_type": "execute_result"
    },
    {
     "data": {
      "image/png": "[encoded data removed]",
      "text/plain": [
       "<Figure size 640x480 with 1 Axes>"
      ]
     },
     "metadata": {},
     "output_type": "display_data"
    }
   ],
   "source": [
    "%matplotlib inline\n",
    "\n",
    "boxplot = sns.boxplot(data=simulations_df, x='agent_type', y='solution_length', hue=\"goal_reached\", order=[x.__name__ for x in agent_types])\n",
    "boxplot.set_xticklabels(['BFS', 'DFS', 'DLimS', 'UCostS'])\n",
    "boxplot.set_title('Solution size by algorithm (linear)')"
   ]
  },
  {
   "cell_type": "code",
   "execution_count": 16,
   "metadata": {
    "pycharm": {
     "name": "#%%\n"
    }
   },
   "outputs": [
    {
     "data": {
      "text/plain": [
       "Text(0.5, 1.0, 'Solution size by algorithm (logarithmic)')"
      ]
     },
     "execution_count": 16,
     "metadata": {},
     "output_type": "execute_result"
    },
    {
     "data": {
      "image/png": "[encoded data removed]",
      "text/plain": [
       "<Figure size 640x480 with 1 Axes>"
      ]
     },
     "metadata": {},
     "output_type": "display_data"
    }
   ],
   "source": [
    "%matplotlib inline\n",
    "boxplot = sns.boxplot(data=simulations_df, x='agent_type', y='solution_length', hue=\"goal_reached\", order=[x.__name__ for x in agent_types])\n",
    "boxplot.set_xticklabels(['BFS', 'DFS', 'DLimS', 'UCostS'])\n",
    "boxplot.set(yscale='log')\n",
    "boxplot.set_title('Solution size by algorithm (logarithmic)')"
   ]
  }
 ],
 "metadata": {
  "kernelspec": {
   "display_name": "Python 3 (ipykernel)",
   "language": "python",
   "name": "python3"
  },
  "language_info": {
   "codemirror_mode": {
    "name": "ipython",
    "version": 3
   },
   "file_extension": ".py",
   "mimetype": "text/x-python",
   "name": "python",
   "nbconvert_exporter": "python",
   "pygments_lexer": "ipython3",
   "version": "3.10.4"
  }
 },
 "nbformat": 4,
 "nbformat_minor": 1
}
