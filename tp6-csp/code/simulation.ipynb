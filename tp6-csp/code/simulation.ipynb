{
 "cells": [
  {
   "cell_type": "markdown",
   "metadata": {
    "pycharm": {
     "name": "#%% md\n"
    }
   },
   "source": [
    "Análisis de performance de agentes - Búsqueda Local CSP\n",
    "===\n",
    "\n",
    "# Tiempo de ejecución"
   ]
  },
  {
   "cell_type": "code",
   "execution_count": 1,
   "metadata": {
    "pycharm": {
     "name": "#%%\n"
    }
   },
   "outputs": [],
   "source": [
    "import NQueens\n",
    "import random\n",
    "import multiprocessing as mp\n",
    "import pandas as pd\n",
    "import seaborn as sns\n",
    "from time import time_ns"
   ]
  },
  {
   "cell_type": "markdown",
   "metadata": {
    "pycharm": {
     "name": "#%% md\n"
    }
   },
   "source": [
    "## Se llevará a cabo con la siguiente configuración:"
   ]
  },
  {
   "cell_type": "code",
   "execution_count": 2,
   "metadata": {
    "pycharm": {
     "name": "#%%\n"
    }
   },
   "outputs": [],
   "source": [
    "algorithms = [NQueens.backtracking, NQueens.forwardchecking, NQueens.forwardchecking_mrv]\n",
    "sizes = [4, 8, 10, 12, 15]\n",
    "n_iterations = 30\n",
    "random.seed(42)"
   ]
  },
  {
   "cell_type": "markdown",
   "metadata": {
    "pycharm": {
     "name": "#%% md\n"
    }
   },
   "source": [
    "---"
   ]
  },
  {
   "cell_type": "markdown",
   "metadata": {
    "pycharm": {
     "name": "#%% md\n"
    }
   },
   "source": [
    "## Correr simulación"
   ]
  },
  {
   "cell_type": "code",
   "execution_count": 3,
   "metadata": {
    "pycharm": {
     "name": "#%%\n"
    }
   },
   "outputs": [],
   "source": [
    "def run_simulation(simulations, algorithms, size):\n",
    "    # Run in each agent\n",
    "    for algorithm in algorithms:\n",
    "        # Run agent\n",
    "        start = time_ns()\n",
    "        _, best_h, iterations = algorithm(size)\n",
    "        end = time_ns()\n",
    "        \n",
    "        # Append results in the siumlations dict\n",
    "        simulations.append({\n",
    "            'algorithm': algorithm.__name__,\n",
    "            'size': size,\n",
    "            'iterations': iterations,\n",
    "            'time_ms': (end-start)/1e6\n",
    "        })"
   ]
  },
  {
   "cell_type": "code",
   "execution_count": 4,
   "metadata": {
    "pycharm": {
     "name": "#%%\n"
    }
   },
   "outputs": [
    {
     "data": {
      "text/html": [
       "<div>\n",
       "<style scoped>\n",
       "    .dataframe tbody tr th:only-of-type {\n",
       "        vertical-align: middle;\n",
       "    }\n",
       "\n",
       "    .dataframe tbody tr th {\n",
       "        vertical-align: top;\n",
       "    }\n",
       "\n",
       "    .dataframe thead th {\n",
       "        text-align: right;\n",
       "    }\n",
       "</style>\n",
       "<table border=\"1\" class=\"dataframe\">\n",
       "  <thead>\n",
       "    <tr style=\"text-align: right;\">\n",
       "      <th></th>\n",
       "      <th>algorithm</th>\n",
       "      <th>size</th>\n",
       "      <th>iterations</th>\n",
       "      <th>time_ms</th>\n",
       "    </tr>\n",
       "  </thead>\n",
       "  <tbody>\n",
       "    <tr>\n",
       "      <th>0</th>\n",
       "      <td>backtracking</td>\n",
       "      <td>4</td>\n",
       "      <td>8</td>\n",
       "      <td>0.037730</td>\n",
       "    </tr>\n",
       "    <tr>\n",
       "      <th>1</th>\n",
       "      <td>backtracking</td>\n",
       "      <td>4</td>\n",
       "      <td>8</td>\n",
       "      <td>0.027760</td>\n",
       "    </tr>\n",
       "    <tr>\n",
       "      <th>2</th>\n",
       "      <td>backtracking</td>\n",
       "      <td>4</td>\n",
       "      <td>8</td>\n",
       "      <td>0.033280</td>\n",
       "    </tr>\n",
       "    <tr>\n",
       "      <th>3</th>\n",
       "      <td>forwardchecking</td>\n",
       "      <td>4</td>\n",
       "      <td>8</td>\n",
       "      <td>0.104911</td>\n",
       "    </tr>\n",
       "    <tr>\n",
       "      <th>4</th>\n",
       "      <td>backtracking</td>\n",
       "      <td>4</td>\n",
       "      <td>8</td>\n",
       "      <td>0.039380</td>\n",
       "    </tr>\n",
       "    <tr>\n",
       "      <th>...</th>\n",
       "      <td>...</td>\n",
       "      <td>...</td>\n",
       "      <td>...</td>\n",
       "      <td>...</td>\n",
       "    </tr>\n",
       "    <tr>\n",
       "      <th>445</th>\n",
       "      <td>forwardchecking_mrv</td>\n",
       "      <td>15</td>\n",
       "      <td>34</td>\n",
       "      <td>0.594622</td>\n",
       "    </tr>\n",
       "    <tr>\n",
       "      <th>446</th>\n",
       "      <td>forwardchecking</td>\n",
       "      <td>15</td>\n",
       "      <td>1026</td>\n",
       "      <td>12.710625</td>\n",
       "    </tr>\n",
       "    <tr>\n",
       "      <th>447</th>\n",
       "      <td>forwardchecking_mrv</td>\n",
       "      <td>15</td>\n",
       "      <td>34</td>\n",
       "      <td>0.579471</td>\n",
       "    </tr>\n",
       "    <tr>\n",
       "      <th>448</th>\n",
       "      <td>forwardchecking</td>\n",
       "      <td>15</td>\n",
       "      <td>1026</td>\n",
       "      <td>10.686050</td>\n",
       "    </tr>\n",
       "    <tr>\n",
       "      <th>449</th>\n",
       "      <td>forwardchecking_mrv</td>\n",
       "      <td>15</td>\n",
       "      <td>34</td>\n",
       "      <td>0.595542</td>\n",
       "    </tr>\n",
       "  </tbody>\n",
       "</table>\n",
       "<p>450 rows × 4 columns</p>\n",
       "</div>"
      ],
      "text/plain": [
       "               algorithm  size  iterations    time_ms\n",
       "0           backtracking     4           8   0.037730\n",
       "1           backtracking     4           8   0.027760\n",
       "2           backtracking     4           8   0.033280\n",
       "3        forwardchecking     4           8   0.104911\n",
       "4           backtracking     4           8   0.039380\n",
       "..                   ...   ...         ...        ...\n",
       "445  forwardchecking_mrv    15          34   0.594622\n",
       "446      forwardchecking    15        1026  12.710625\n",
       "447  forwardchecking_mrv    15          34   0.579471\n",
       "448      forwardchecking    15        1026  10.686050\n",
       "449  forwardchecking_mrv    15          34   0.595542\n",
       "\n",
       "[450 rows x 4 columns]"
      ]
     },
     "execution_count": 4,
     "metadata": {},
     "output_type": "execute_result"
    }
   ],
   "source": [
    "# Using parallelism :D\n",
    "with mp.Manager() as manager:\n",
    "    simulations = manager.list() #List thread-safe. (overkill, find alternatives)\n",
    "    pool = mp.Pool() #use all available cores, otherwise specify the number you want as an argument\n",
    "    \n",
    "    # Test iterations\n",
    "    for size in sizes:\n",
    "        for _ in range(n_iterations):\n",
    "            pool.apply_async(run_simulation, args=(simulations, algorithms, size))\n",
    "\n",
    "    # Wait for all threads to finish\n",
    "    pool.close()\n",
    "    pool.join()\n",
    "    \n",
    "    # Save it as a pandas dataframe\n",
    "    simulations_df = pd.DataFrame(list(simulations))\n",
    "\n",
    "simulations_df.to_csv('attachments/simulations.csv')\n",
    "simulations_df"
   ]
  },
  {
   "cell_type": "markdown",
   "metadata": {
    "pycharm": {
     "name": "#%% md\n"
    }
   },
   "source": [
    "## Análisis del performance de cada algorítmo"
   ]
  },
  {
   "cell_type": "code",
   "execution_count": 5,
   "metadata": {
    "pycharm": {
     "name": "#%%\n"
    }
   },
   "outputs": [
    {
     "data": {
      "text/html": [
       "<div>\n",
       "<style scoped>\n",
       "    .dataframe tbody tr th:only-of-type {\n",
       "        vertical-align: middle;\n",
       "    }\n",
       "\n",
       "    .dataframe tbody tr th {\n",
       "        vertical-align: top;\n",
       "    }\n",
       "\n",
       "    .dataframe thead th {\n",
       "        text-align: right;\n",
       "    }\n",
       "</style>\n",
       "<table border=\"1\" class=\"dataframe\">\n",
       "  <thead>\n",
       "    <tr style=\"text-align: right;\">\n",
       "      <th></th>\n",
       "      <th>algorithm</th>\n",
       "      <th>size</th>\n",
       "      <th>time_ms_avg</th>\n",
       "      <th>time_ms_std</th>\n",
       "      <th>iter_avg</th>\n",
       "      <th>iter_std</th>\n",
       "    </tr>\n",
       "  </thead>\n",
       "  <tbody>\n",
       "    <tr>\n",
       "      <th>0</th>\n",
       "      <td>backtracking</td>\n",
       "      <td>4</td>\n",
       "      <td>0.026695</td>\n",
       "      <td>0.007551</td>\n",
       "      <td>8.0</td>\n",
       "      <td>0.0</td>\n",
       "    </tr>\n",
       "    <tr>\n",
       "      <th>1</th>\n",
       "      <td>backtracking</td>\n",
       "      <td>8</td>\n",
       "      <td>0.286269</td>\n",
       "      <td>0.058761</td>\n",
       "      <td>113.0</td>\n",
       "      <td>0.0</td>\n",
       "    </tr>\n",
       "    <tr>\n",
       "      <th>2</th>\n",
       "      <td>backtracking</td>\n",
       "      <td>10</td>\n",
       "      <td>0.353892</td>\n",
       "      <td>0.080658</td>\n",
       "      <td>102.0</td>\n",
       "      <td>0.0</td>\n",
       "    </tr>\n",
       "    <tr>\n",
       "      <th>3</th>\n",
       "      <td>backtracking</td>\n",
       "      <td>12</td>\n",
       "      <td>1.407540</td>\n",
       "      <td>0.269994</td>\n",
       "      <td>261.0</td>\n",
       "      <td>0.0</td>\n",
       "    </tr>\n",
       "    <tr>\n",
       "      <th>4</th>\n",
       "      <td>backtracking</td>\n",
       "      <td>15</td>\n",
       "      <td>11.076967</td>\n",
       "      <td>0.917887</td>\n",
       "      <td>1359.0</td>\n",
       "      <td>0.0</td>\n",
       "    </tr>\n",
       "    <tr>\n",
       "      <th>5</th>\n",
       "      <td>forwardchecking</td>\n",
       "      <td>4</td>\n",
       "      <td>0.065231</td>\n",
       "      <td>0.015780</td>\n",
       "      <td>8.0</td>\n",
       "      <td>0.0</td>\n",
       "    </tr>\n",
       "    <tr>\n",
       "      <th>6</th>\n",
       "      <td>forwardchecking</td>\n",
       "      <td>8</td>\n",
       "      <td>0.585606</td>\n",
       "      <td>0.129648</td>\n",
       "      <td>88.0</td>\n",
       "      <td>0.0</td>\n",
       "    </tr>\n",
       "    <tr>\n",
       "      <th>7</th>\n",
       "      <td>forwardchecking</td>\n",
       "      <td>10</td>\n",
       "      <td>0.615704</td>\n",
       "      <td>0.106138</td>\n",
       "      <td>83.0</td>\n",
       "      <td>0.0</td>\n",
       "    </tr>\n",
       "    <tr>\n",
       "      <th>8</th>\n",
       "      <td>forwardchecking</td>\n",
       "      <td>12</td>\n",
       "      <td>1.873479</td>\n",
       "      <td>0.235981</td>\n",
       "      <td>193.0</td>\n",
       "      <td>0.0</td>\n",
       "    </tr>\n",
       "    <tr>\n",
       "      <th>9</th>\n",
       "      <td>forwardchecking</td>\n",
       "      <td>15</td>\n",
       "      <td>12.419066</td>\n",
       "      <td>1.264895</td>\n",
       "      <td>1026.0</td>\n",
       "      <td>0.0</td>\n",
       "    </tr>\n",
       "    <tr>\n",
       "      <th>10</th>\n",
       "      <td>forwardchecking_mrv</td>\n",
       "      <td>4</td>\n",
       "      <td>0.069834</td>\n",
       "      <td>0.013905</td>\n",
       "      <td>8.0</td>\n",
       "      <td>0.0</td>\n",
       "    </tr>\n",
       "    <tr>\n",
       "      <th>11</th>\n",
       "      <td>forwardchecking_mrv</td>\n",
       "      <td>8</td>\n",
       "      <td>0.797790</td>\n",
       "      <td>0.145027</td>\n",
       "      <td>75.0</td>\n",
       "      <td>0.0</td>\n",
       "    </tr>\n",
       "    <tr>\n",
       "      <th>12</th>\n",
       "      <td>forwardchecking_mrv</td>\n",
       "      <td>10</td>\n",
       "      <td>0.458522</td>\n",
       "      <td>0.099323</td>\n",
       "      <td>35.0</td>\n",
       "      <td>0.0</td>\n",
       "    </tr>\n",
       "    <tr>\n",
       "      <th>13</th>\n",
       "      <td>forwardchecking_mrv</td>\n",
       "      <td>12</td>\n",
       "      <td>3.080562</td>\n",
       "      <td>0.271308</td>\n",
       "      <td>153.0</td>\n",
       "      <td>0.0</td>\n",
       "    </tr>\n",
       "    <tr>\n",
       "      <th>14</th>\n",
       "      <td>forwardchecking_mrv</td>\n",
       "      <td>15</td>\n",
       "      <td>0.971925</td>\n",
       "      <td>0.201127</td>\n",
       "      <td>34.0</td>\n",
       "      <td>0.0</td>\n",
       "    </tr>\n",
       "  </tbody>\n",
       "</table>\n",
       "</div>"
      ],
      "text/plain": [
       "              algorithm  size  time_ms_avg  time_ms_std  iter_avg  iter_std\n",
       "0          backtracking     4     0.026695     0.007551       8.0       0.0\n",
       "1          backtracking     8     0.286269     0.058761     113.0       0.0\n",
       "2          backtracking    10     0.353892     0.080658     102.0       0.0\n",
       "3          backtracking    12     1.407540     0.269994     261.0       0.0\n",
       "4          backtracking    15    11.076967     0.917887    1359.0       0.0\n",
       "5       forwardchecking     4     0.065231     0.015780       8.0       0.0\n",
       "6       forwardchecking     8     0.585606     0.129648      88.0       0.0\n",
       "7       forwardchecking    10     0.615704     0.106138      83.0       0.0\n",
       "8       forwardchecking    12     1.873479     0.235981     193.0       0.0\n",
       "9       forwardchecking    15    12.419066     1.264895    1026.0       0.0\n",
       "10  forwardchecking_mrv     4     0.069834     0.013905       8.0       0.0\n",
       "11  forwardchecking_mrv     8     0.797790     0.145027      75.0       0.0\n",
       "12  forwardchecking_mrv    10     0.458522     0.099323      35.0       0.0\n",
       "13  forwardchecking_mrv    12     3.080562     0.271308     153.0       0.0\n",
       "14  forwardchecking_mrv    15     0.971925     0.201127      34.0       0.0"
      ]
     },
     "execution_count": 5,
     "metadata": {},
     "output_type": "execute_result"
    }
   ],
   "source": [
    "samples_list = []\n",
    "\n",
    "for algorithm in algorithms:\n",
    "    for size in sizes:\n",
    "        sample_df = simulations_df.query(f'algorithm == \"{algorithm.__name__}\" and size == {size}')\n",
    "        \n",
    "        # Save saple report\n",
    "        samples_list.append({\n",
    "            'algorithm': algorithm.__name__,\n",
    "            'size': size,\n",
    "            'time_ms_avg': sample_df['time_ms'].mean(),\n",
    "            'time_ms_std': sample_df['time_ms'].std(),\n",
    "            'iter_avg': sample_df['iterations'].mean(),\n",
    "            'iter_std': sample_df['iterations'].std()\n",
    "        })\n",
    "\n",
    "# Print table\n",
    "samples_df = pd.DataFrame(samples_list)\n",
    "samples_df.to_csv('attachments/samples.csv')\n",
    "samples_df"
   ]
  },
  {
   "cell_type": "markdown",
   "metadata": {
    "pycharm": {
     "name": "#%% md\n"
    }
   },
   "source": [
    "## Gráficos\n",
    "### Boxplot - Tiempo empleado hasta llegar a una solución"
   ]
  },
  {
   "cell_type": "code",
   "execution_count": 6,
   "metadata": {
    "pycharm": {
     "name": "#%%\n"
    }
   },
   "outputs": [
    {
     "data": {
      "image/png": "[encoded data removed]",
      "text/plain": [
       "<Figure size 1500x300 with 5 Axes>"
      ]
     },
     "metadata": {},
     "output_type": "display_data"
    }
   ],
   "source": [
    "%matplotlib inline\n",
    "\n",
    "grid1 = sns.FacetGrid(data=simulations_df, col='size', sharey=False)\n",
    "grid1.map(sns.boxplot, 'algorithm', 'time_ms', order= [x.__name__ for x in algorithms], palette=\"deep\")\n",
    "grid1.set_xticklabels(['BTrk', 'FChck', 'FChck_mrv'])\n",
    "\n",
    "grid1.fig.subplots_adjust(top=1.5)\n",
    "grid1.savefig('attachments/time_by_algorithm.svg')"
   ]
  },
  {
   "cell_type": "markdown",
   "metadata": {},
   "source": [
    "### Lineplot - Tiempo empleado en función del tamaño\n"
   ]
  },
  {
   "cell_type": "code",
   "execution_count": null,
   "metadata": {},
   "outputs": [],
   "source": [
    "# Using parallelism :D\n",
    "with mp.Manager() as manager:\n",
    "    simulations = manager.list() #List thread-safe. (overkill, find alternatives)\n",
    "    pool = mp.Pool() #use all available cores, otherwise specify the number you want as an argument\n",
    "    \n",
    "    # Test iterations\n",
    "    for size in range(4, 25):\n",
    "        for _ in range(30):\n",
    "            pool.apply_async(run_simulation, args=(simulations, algorithms, size))\n",
    "\n",
    "    # Wait for all threads to finish\n",
    "    pool.close()\n",
    "    pool.join()\n",
    "    \n",
    "    # Save it as a pandas dataframe\n",
    "    simulations2_df = pd.DataFrame(list(simulations))\n",
    "\n",
    "simulations2_df.to_csv('attachments/simulations.csv')\n",
    "simulations2_df\n"
   ]
  },
  {
   "cell_type": "code",
   "execution_count": null,
   "metadata": {},
   "outputs": [],
   "source": [
    "%matplotlib inline\n",
    "\n",
    "plot2 = sns.lineplot(data=simulations2_df, x='size', y='time_ms', hue='algorithm')\n",
    "plot2.savefig('attachments/time_by_size_lin.svg')"
   ]
  },
  {
   "cell_type": "code",
   "execution_count": null,
   "metadata": {},
   "outputs": [],
   "source": [
    "%matplotlib inline\n",
    "\n",
    "plot3 = sns.lineplot(data=simulations2_df, x='size', y='time_ms', hue='algorithm')\n",
    "plot3.set(yscale='log')\n",
    "plot3.savefig('attachments/time_by_size_log.svg')"
   ]
  }
 ],
 "metadata": {
  "kernelspec": {
   "display_name": "Python 3 (ipykernel)",
   "language": "python",
   "name": "python3"
  },
  "language_info": {
   "codemirror_mode": {
    "name": "ipython",
    "version": 3
   },
   "file_extension": ".py",
   "mimetype": "text/x-python",
   "name": "python",
   "nbconvert_exporter": "python",
   "pygments_lexer": "ipython3",
   "version": "3.10.4"
  },
  "vscode": {
   "interpreter": {
    "hash": "7fbc4c254f0478731f4ebf7cae933c9fca8607a3dba1c3ef6f10030caac2d1c1"
   }
  }
 },
 "nbformat": 4,
 "nbformat_minor": 1
}
