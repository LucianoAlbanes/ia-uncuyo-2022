{
 "cells": [
  {
   "cell_type": "markdown",
   "metadata": {
    "pycharm": {
     "name": "#%% md\n"
    }
   },
   "source": [
    "Análisis de performance de agentes - Búsqueda Local CSP\n",
    "===\n",
    "\n",
    "# Tiempo de ejecución"
   ]
  },
  {
   "cell_type": "code",
   "execution_count": 1,
   "metadata": {
    "pycharm": {
     "name": "#%%\n"
    }
   },
   "outputs": [],
   "source": [
    "import NQueens\n",
    "import random\n",
    "import multiprocessing as mp\n",
    "import pandas as pd\n",
    "import seaborn as sns\n",
    "from time import time_ns"
   ]
  },
  {
   "cell_type": "markdown",
   "metadata": {
    "pycharm": {
     "name": "#%% md\n"
    }
   },
   "source": [
    "## Se llevará a cabo con la siguiente configuración:"
   ]
  },
  {
   "cell_type": "code",
   "execution_count": 2,
   "metadata": {
    "pycharm": {
     "name": "#%%\n"
    }
   },
   "outputs": [],
   "source": [
    "algorithms = [NQueens.backtracking, NQueens.forwardchecking, NQueens.forwardchecking_mrv]\n",
    "sizes = [4, 8, 10, 12, 15]\n",
    "n_iterations = 30\n",
    "random.seed(42)"
   ]
  },
  {
   "cell_type": "markdown",
   "metadata": {
    "pycharm": {
     "name": "#%% md\n"
    }
   },
   "source": [
    "---"
   ]
  },
  {
   "cell_type": "markdown",
   "metadata": {
    "pycharm": {
     "name": "#%% md\n"
    }
   },
   "source": [
    "## Correr simulación"
   ]
  },
  {
   "cell_type": "code",
   "execution_count": 3,
   "metadata": {
    "pycharm": {
     "name": "#%%\n"
    }
   },
   "outputs": [],
   "source": [
    "def run_simulation(simulations, algorithms, size):\n",
    "    # Run in each agent\n",
    "    for algorithm in algorithms:\n",
    "        # Run agent\n",
    "        start = time_ns()\n",
    "        _, best_h, iterations = algorithm(size)\n",
    "        end = time_ns()\n",
    "        \n",
    "        # Append results in the siumlations dict\n",
    "        simulations.append({\n",
    "            'algorithm': algorithm.__name__,\n",
    "            'size': size,\n",
    "            'iterations': iterations,\n",
    "            'time_ms': (end-start)/1e6\n",
    "        })"
   ]
  },
  {
   "cell_type": "code",
   "execution_count": 4,
   "metadata": {
    "pycharm": {
     "name": "#%%\n"
    }
   },
   "outputs": [
    {
     "data": {
      "text/html": [
       "<div>\n",
       "<style scoped>\n",
       "    .dataframe tbody tr th:only-of-type {\n",
       "        vertical-align: middle;\n",
       "    }\n",
       "\n",
       "    .dataframe tbody tr th {\n",
       "        vertical-align: top;\n",
       "    }\n",
       "\n",
       "    .dataframe thead th {\n",
       "        text-align: right;\n",
       "    }\n",
       "</style>\n",
       "<table border=\"1\" class=\"dataframe\">\n",
       "  <thead>\n",
       "    <tr style=\"text-align: right;\">\n",
       "      <th></th>\n",
       "      <th>algorithm</th>\n",
       "      <th>size</th>\n",
       "      <th>iterations</th>\n",
       "      <th>time_ms</th>\n",
       "    </tr>\n",
       "  </thead>\n",
       "  <tbody>\n",
       "    <tr>\n",
       "      <th>0</th>\n",
       "      <td>backtracking</td>\n",
       "      <td>4</td>\n",
       "      <td>8</td>\n",
       "      <td>0.124357</td>\n",
       "    </tr>\n",
       "    <tr>\n",
       "      <th>1</th>\n",
       "      <td>backtracking</td>\n",
       "      <td>4</td>\n",
       "      <td>8</td>\n",
       "      <td>0.116661</td>\n",
       "    </tr>\n",
       "    <tr>\n",
       "      <th>2</th>\n",
       "      <td>forwardchecking</td>\n",
       "      <td>4</td>\n",
       "      <td>8</td>\n",
       "      <td>0.248778</td>\n",
       "    </tr>\n",
       "    <tr>\n",
       "      <th>3</th>\n",
       "      <td>forwardchecking</td>\n",
       "      <td>4</td>\n",
       "      <td>8</td>\n",
       "      <td>0.289177</td>\n",
       "    </tr>\n",
       "    <tr>\n",
       "      <th>4</th>\n",
       "      <td>forwardchecking_mrv</td>\n",
       "      <td>4</td>\n",
       "      <td>8</td>\n",
       "      <td>0.408174</td>\n",
       "    </tr>\n",
       "    <tr>\n",
       "      <th>...</th>\n",
       "      <td>...</td>\n",
       "      <td>...</td>\n",
       "      <td>...</td>\n",
       "      <td>...</td>\n",
       "    </tr>\n",
       "    <tr>\n",
       "      <th>445</th>\n",
       "      <td>forwardchecking</td>\n",
       "      <td>15</td>\n",
       "      <td>1026</td>\n",
       "      <td>30.100552</td>\n",
       "    </tr>\n",
       "    <tr>\n",
       "      <th>446</th>\n",
       "      <td>forwardchecking_mrv</td>\n",
       "      <td>15</td>\n",
       "      <td>34</td>\n",
       "      <td>1.330524</td>\n",
       "    </tr>\n",
       "    <tr>\n",
       "      <th>447</th>\n",
       "      <td>backtracking</td>\n",
       "      <td>15</td>\n",
       "      <td>1359</td>\n",
       "      <td>23.249503</td>\n",
       "    </tr>\n",
       "    <tr>\n",
       "      <th>448</th>\n",
       "      <td>forwardchecking</td>\n",
       "      <td>15</td>\n",
       "      <td>1026</td>\n",
       "      <td>17.543963</td>\n",
       "    </tr>\n",
       "    <tr>\n",
       "      <th>449</th>\n",
       "      <td>forwardchecking_mrv</td>\n",
       "      <td>15</td>\n",
       "      <td>34</td>\n",
       "      <td>1.335417</td>\n",
       "    </tr>\n",
       "  </tbody>\n",
       "</table>\n",
       "<p>450 rows × 4 columns</p>\n",
       "</div>"
      ],
      "text/plain": [
       "               algorithm  size  iterations    time_ms\n",
       "0           backtracking     4           8   0.124357\n",
       "1           backtracking     4           8   0.116661\n",
       "2        forwardchecking     4           8   0.248778\n",
       "3        forwardchecking     4           8   0.289177\n",
       "4    forwardchecking_mrv     4           8   0.408174\n",
       "..                   ...   ...         ...        ...\n",
       "445      forwardchecking    15        1026  30.100552\n",
       "446  forwardchecking_mrv    15          34   1.330524\n",
       "447         backtracking    15        1359  23.249503\n",
       "448      forwardchecking    15        1026  17.543963\n",
       "449  forwardchecking_mrv    15          34   1.335417\n",
       "\n",
       "[450 rows x 4 columns]"
      ]
     },
     "execution_count": 4,
     "metadata": {},
     "output_type": "execute_result"
    }
   ],
   "source": [
    "# Using parallelism :D\n",
    "with mp.Manager() as manager:\n",
    "    simulations = manager.list() #List thread-safe. (overkill, find alternatives)\n",
    "    pool = mp.Pool() #use all available cores, otherwise specify the number you want as an argument\n",
    "    \n",
    "    # Test iterations\n",
    "    for size in sizes:\n",
    "        for _ in range(n_iterations):\n",
    "            pool.apply_async(run_simulation, args=(simulations, algorithms, size))\n",
    "\n",
    "    # Wait for all threads to finish\n",
    "    pool.close()\n",
    "    pool.join()\n",
    "    \n",
    "    # Save it as a pandas dataframe\n",
    "    simulations_df = pd.DataFrame(list(simulations))\n",
    "\n",
    "simulations_df.to_csv('attachments/simulations.csv')\n",
    "simulations_df"
   ]
  },
  {
   "cell_type": "markdown",
   "metadata": {
    "pycharm": {
     "name": "#%% md\n"
    }
   },
   "source": [
    "## Análisis del performance de cada algorítmo"
   ]
  },
  {
   "cell_type": "code",
   "execution_count": 5,
   "metadata": {
    "pycharm": {
     "name": "#%%\n"
    }
   },
   "outputs": [
    {
     "data": {
      "text/html": [
       "<div>\n",
       "<style scoped>\n",
       "    .dataframe tbody tr th:only-of-type {\n",
       "        vertical-align: middle;\n",
       "    }\n",
       "\n",
       "    .dataframe tbody tr th {\n",
       "        vertical-align: top;\n",
       "    }\n",
       "\n",
       "    .dataframe thead th {\n",
       "        text-align: right;\n",
       "    }\n",
       "</style>\n",
       "<table border=\"1\" class=\"dataframe\">\n",
       "  <thead>\n",
       "    <tr style=\"text-align: right;\">\n",
       "      <th></th>\n",
       "      <th>algorithm</th>\n",
       "      <th>size</th>\n",
       "      <th>time_ms_avg</th>\n",
       "      <th>time_ms_std</th>\n",
       "      <th>iter_avg</th>\n",
       "      <th>iter_std</th>\n",
       "    </tr>\n",
       "  </thead>\n",
       "  <tbody>\n",
       "    <tr>\n",
       "      <th>0</th>\n",
       "      <td>backtracking</td>\n",
       "      <td>4</td>\n",
       "      <td>0.087140</td>\n",
       "      <td>0.019835</td>\n",
       "      <td>8.0</td>\n",
       "      <td>0.0</td>\n",
       "    </tr>\n",
       "    <tr>\n",
       "      <th>1</th>\n",
       "      <td>backtracking</td>\n",
       "      <td>8</td>\n",
       "      <td>1.346957</td>\n",
       "      <td>0.247356</td>\n",
       "      <td>113.0</td>\n",
       "      <td>0.0</td>\n",
       "    </tr>\n",
       "    <tr>\n",
       "      <th>2</th>\n",
       "      <td>backtracking</td>\n",
       "      <td>10</td>\n",
       "      <td>1.539587</td>\n",
       "      <td>0.280194</td>\n",
       "      <td>102.0</td>\n",
       "      <td>0.0</td>\n",
       "    </tr>\n",
       "    <tr>\n",
       "      <th>3</th>\n",
       "      <td>backtracking</td>\n",
       "      <td>12</td>\n",
       "      <td>4.690877</td>\n",
       "      <td>0.517696</td>\n",
       "      <td>261.0</td>\n",
       "      <td>0.0</td>\n",
       "    </tr>\n",
       "    <tr>\n",
       "      <th>4</th>\n",
       "      <td>backtracking</td>\n",
       "      <td>15</td>\n",
       "      <td>31.335143</td>\n",
       "      <td>3.144146</td>\n",
       "      <td>1359.0</td>\n",
       "      <td>0.0</td>\n",
       "    </tr>\n",
       "    <tr>\n",
       "      <th>5</th>\n",
       "      <td>forwardchecking</td>\n",
       "      <td>4</td>\n",
       "      <td>0.227610</td>\n",
       "      <td>0.040173</td>\n",
       "      <td>8.0</td>\n",
       "      <td>0.0</td>\n",
       "    </tr>\n",
       "    <tr>\n",
       "      <th>6</th>\n",
       "      <td>forwardchecking</td>\n",
       "      <td>8</td>\n",
       "      <td>2.137864</td>\n",
       "      <td>0.230338</td>\n",
       "      <td>88.0</td>\n",
       "      <td>0.0</td>\n",
       "    </tr>\n",
       "    <tr>\n",
       "      <th>7</th>\n",
       "      <td>forwardchecking</td>\n",
       "      <td>10</td>\n",
       "      <td>2.302572</td>\n",
       "      <td>0.254641</td>\n",
       "      <td>83.0</td>\n",
       "      <td>0.0</td>\n",
       "    </tr>\n",
       "    <tr>\n",
       "      <th>8</th>\n",
       "      <td>forwardchecking</td>\n",
       "      <td>12</td>\n",
       "      <td>6.825067</td>\n",
       "      <td>1.904779</td>\n",
       "      <td>193.0</td>\n",
       "      <td>0.0</td>\n",
       "    </tr>\n",
       "    <tr>\n",
       "      <th>9</th>\n",
       "      <td>forwardchecking</td>\n",
       "      <td>15</td>\n",
       "      <td>37.514088</td>\n",
       "      <td>6.994734</td>\n",
       "      <td>1026.0</td>\n",
       "      <td>0.0</td>\n",
       "    </tr>\n",
       "    <tr>\n",
       "      <th>10</th>\n",
       "      <td>forwardchecking_mrv</td>\n",
       "      <td>4</td>\n",
       "      <td>0.279487</td>\n",
       "      <td>0.067402</td>\n",
       "      <td>8.0</td>\n",
       "      <td>0.0</td>\n",
       "    </tr>\n",
       "    <tr>\n",
       "      <th>11</th>\n",
       "      <td>forwardchecking_mrv</td>\n",
       "      <td>8</td>\n",
       "      <td>3.091428</td>\n",
       "      <td>0.431591</td>\n",
       "      <td>75.0</td>\n",
       "      <td>0.0</td>\n",
       "    </tr>\n",
       "    <tr>\n",
       "      <th>12</th>\n",
       "      <td>forwardchecking_mrv</td>\n",
       "      <td>10</td>\n",
       "      <td>1.872321</td>\n",
       "      <td>0.277649</td>\n",
       "      <td>35.0</td>\n",
       "      <td>0.0</td>\n",
       "    </tr>\n",
       "    <tr>\n",
       "      <th>13</th>\n",
       "      <td>forwardchecking_mrv</td>\n",
       "      <td>12</td>\n",
       "      <td>9.903256</td>\n",
       "      <td>1.660530</td>\n",
       "      <td>153.0</td>\n",
       "      <td>0.0</td>\n",
       "    </tr>\n",
       "    <tr>\n",
       "      <th>14</th>\n",
       "      <td>forwardchecking_mrv</td>\n",
       "      <td>15</td>\n",
       "      <td>2.806632</td>\n",
       "      <td>0.634623</td>\n",
       "      <td>34.0</td>\n",
       "      <td>0.0</td>\n",
       "    </tr>\n",
       "  </tbody>\n",
       "</table>\n",
       "</div>"
      ],
      "text/plain": [
       "              algorithm  size  time_ms_avg  time_ms_std  iter_avg  iter_std\n",
       "0          backtracking     4     0.087140     0.019835       8.0       0.0\n",
       "1          backtracking     8     1.346957     0.247356     113.0       0.0\n",
       "2          backtracking    10     1.539587     0.280194     102.0       0.0\n",
       "3          backtracking    12     4.690877     0.517696     261.0       0.0\n",
       "4          backtracking    15    31.335143     3.144146    1359.0       0.0\n",
       "5       forwardchecking     4     0.227610     0.040173       8.0       0.0\n",
       "6       forwardchecking     8     2.137864     0.230338      88.0       0.0\n",
       "7       forwardchecking    10     2.302572     0.254641      83.0       0.0\n",
       "8       forwardchecking    12     6.825067     1.904779     193.0       0.0\n",
       "9       forwardchecking    15    37.514088     6.994734    1026.0       0.0\n",
       "10  forwardchecking_mrv     4     0.279487     0.067402       8.0       0.0\n",
       "11  forwardchecking_mrv     8     3.091428     0.431591      75.0       0.0\n",
       "12  forwardchecking_mrv    10     1.872321     0.277649      35.0       0.0\n",
       "13  forwardchecking_mrv    12     9.903256     1.660530     153.0       0.0\n",
       "14  forwardchecking_mrv    15     2.806632     0.634623      34.0       0.0"
      ]
     },
     "execution_count": 5,
     "metadata": {},
     "output_type": "execute_result"
    }
   ],
   "source": [
    "samples_list = []\n",
    "\n",
    "for algorithm in algorithms:\n",
    "    for size in sizes:\n",
    "        sample_df = simulations_df.query(f'algorithm == \"{algorithm.__name__}\" and size == {size}')\n",
    "        \n",
    "        # Save saple report\n",
    "        samples_list.append({\n",
    "            'algorithm': algorithm.__name__,\n",
    "            'size': size,\n",
    "            'time_ms_avg': sample_df['time_ms'].mean(),\n",
    "            'time_ms_std': sample_df['time_ms'].std(),\n",
    "            'iter_avg': sample_df['iterations'].mean(),\n",
    "            'iter_std': sample_df['iterations'].std()\n",
    "        })\n",
    "\n",
    "# Print table\n",
    "samples_df = pd.DataFrame(samples_list)\n",
    "samples_df.to_csv('attachments/samples.csv')\n",
    "samples_df"
   ]
  },
  {
   "cell_type": "markdown",
   "metadata": {
    "pycharm": {
     "name": "#%% md\n"
    }
   },
   "source": [
    "## Gráficos\n",
    "### Boxplot - Tiempo empleado hasta llegar a una solución"
   ]
  },
  {
   "cell_type": "code",
   "execution_count": 6,
   "metadata": {
    "pycharm": {
     "name": "#%%\n"
    }
   },
   "outputs": [
    {
     "data": {
      "image/png": "[encoded data removed]",
      "text/plain": [
       "<Figure size 1500x300 with 5 Axes>"
      ]
     },
     "metadata": {},
     "output_type": "display_data"
    }
   ],
   "source": [
    "%matplotlib inline\n",
    "\n",
    "grid1 = sns.FacetGrid(data=simulations_df, col='size', sharey=False)\n",
    "grid1.map(sns.boxplot, 'algorithm', 'time_ms', order= [x.__name__ for x in algorithms], palette=\"deep\")\n",
    "grid1.set_xticklabels(['BTrk', 'FChck', 'FChck_mrv'])\n",
    "\n",
    "grid1.fig.subplots_adjust(top=1.5)\n",
    "grid1.savefig('attachments/time_by_algorithm.svg')"
   ]
  },
  {
   "cell_type": "markdown",
   "metadata": {},
   "source": [
    "### Lineplot - Tiempo empleado en función del tamaño\n"
   ]
  },
  {
   "cell_type": "code",
   "execution_count": 7,
   "metadata": {},
   "outputs": [
    {
     "data": {
      "text/html": [
       "<div>\n",
       "<style scoped>\n",
       "    .dataframe tbody tr th:only-of-type {\n",
       "        vertical-align: middle;\n",
       "    }\n",
       "\n",
       "    .dataframe tbody tr th {\n",
       "        vertical-align: top;\n",
       "    }\n",
       "\n",
       "    .dataframe thead th {\n",
       "        text-align: right;\n",
       "    }\n",
       "</style>\n",
       "<table border=\"1\" class=\"dataframe\">\n",
       "  <thead>\n",
       "    <tr style=\"text-align: right;\">\n",
       "      <th></th>\n",
       "      <th>algorithm</th>\n",
       "      <th>size</th>\n",
       "      <th>iterations</th>\n",
       "      <th>time_ms</th>\n",
       "    </tr>\n",
       "  </thead>\n",
       "  <tbody>\n",
       "    <tr>\n",
       "      <th>0</th>\n",
       "      <td>backtracking</td>\n",
       "      <td>4</td>\n",
       "      <td>8</td>\n",
       "      <td>0.090949</td>\n",
       "    </tr>\n",
       "    <tr>\n",
       "      <th>1</th>\n",
       "      <td>backtracking</td>\n",
       "      <td>4</td>\n",
       "      <td>8</td>\n",
       "      <td>0.096645</td>\n",
       "    </tr>\n",
       "    <tr>\n",
       "      <th>2</th>\n",
       "      <td>backtracking</td>\n",
       "      <td>4</td>\n",
       "      <td>8</td>\n",
       "      <td>0.112356</td>\n",
       "    </tr>\n",
       "    <tr>\n",
       "      <th>3</th>\n",
       "      <td>forwardchecking</td>\n",
       "      <td>4</td>\n",
       "      <td>8</td>\n",
       "      <td>0.311172</td>\n",
       "    </tr>\n",
       "    <tr>\n",
       "      <th>4</th>\n",
       "      <td>forwardchecking</td>\n",
       "      <td>4</td>\n",
       "      <td>8</td>\n",
       "      <td>0.329541</td>\n",
       "    </tr>\n",
       "    <tr>\n",
       "      <th>...</th>\n",
       "      <td>...</td>\n",
       "      <td>...</td>\n",
       "      <td>...</td>\n",
       "      <td>...</td>\n",
       "    </tr>\n",
       "    <tr>\n",
       "      <th>310</th>\n",
       "      <td>backtracking</td>\n",
       "      <td>22</td>\n",
       "      <td>1737188</td>\n",
       "      <td>61387.730524</td>\n",
       "    </tr>\n",
       "    <tr>\n",
       "      <th>311</th>\n",
       "      <td>forwardchecking</td>\n",
       "      <td>24</td>\n",
       "      <td>286963</td>\n",
       "      <td>7117.795764</td>\n",
       "    </tr>\n",
       "    <tr>\n",
       "      <th>312</th>\n",
       "      <td>forwardchecking_mrv</td>\n",
       "      <td>24</td>\n",
       "      <td>43</td>\n",
       "      <td>3.194629</td>\n",
       "    </tr>\n",
       "    <tr>\n",
       "      <th>313</th>\n",
       "      <td>forwardchecking</td>\n",
       "      <td>22</td>\n",
       "      <td>1207239</td>\n",
       "      <td>26744.917099</td>\n",
       "    </tr>\n",
       "    <tr>\n",
       "      <th>314</th>\n",
       "      <td>forwardchecking_mrv</td>\n",
       "      <td>22</td>\n",
       "      <td>24</td>\n",
       "      <td>1.651717</td>\n",
       "    </tr>\n",
       "  </tbody>\n",
       "</table>\n",
       "<p>315 rows × 4 columns</p>\n",
       "</div>"
      ],
      "text/plain": [
       "               algorithm  size  iterations       time_ms\n",
       "0           backtracking     4           8      0.090949\n",
       "1           backtracking     4           8      0.096645\n",
       "2           backtracking     4           8      0.112356\n",
       "3        forwardchecking     4           8      0.311172\n",
       "4        forwardchecking     4           8      0.329541\n",
       "..                   ...   ...         ...           ...\n",
       "310         backtracking    22     1737188  61387.730524\n",
       "311      forwardchecking    24      286963   7117.795764\n",
       "312  forwardchecking_mrv    24          43      3.194629\n",
       "313      forwardchecking    22     1207239  26744.917099\n",
       "314  forwardchecking_mrv    22          24      1.651717\n",
       "\n",
       "[315 rows x 4 columns]"
      ]
     },
     "execution_count": 7,
     "metadata": {},
     "output_type": "execute_result"
    }
   ],
   "source": [
    "# Using parallelism :D\n",
    "with mp.Manager() as manager:\n",
    "    simulations = manager.list() #List thread-safe. (overkill, find alternatives)\n",
    "    pool = mp.Pool() #use all available cores, otherwise specify the number you want as an argument\n",
    "    \n",
    "    # Test iterations\n",
    "    for size in range(4, 25):\n",
    "        for _ in range(5):\n",
    "            pool.apply_async(run_simulation, args=(simulations, algorithms, size))\n",
    "\n",
    "    # Wait for all threads to finish\n",
    "    pool.close()\n",
    "    pool.join()\n",
    "    \n",
    "    # Save it as a pandas dataframe\n",
    "    simulations2_df = pd.DataFrame(list(simulations))\n",
    "    \n",
    "simulations2_df"
   ]
  },
  {
   "cell_type": "code",
   "execution_count": 8,
   "metadata": {},
   "outputs": [
    {
     "ename": "AttributeError",
     "evalue": "'AxesSubplot' object has no attribute 'savefig'",
     "output_type": "error",
     "traceback": [
      "\u001b[0;31m---------------------------------------------------------------------------\u001b[0m",
      "\u001b[0;31mAttributeError\u001b[0m                            Traceback (most recent call last)",
      "Input \u001b[0;32mIn [8]\u001b[0m, in \u001b[0;36m<cell line: 4>\u001b[0;34m()\u001b[0m\n\u001b[1;32m      1\u001b[0m get_ipython()\u001b[38;5;241m.\u001b[39mrun_line_magic(\u001b[38;5;124m'\u001b[39m\u001b[38;5;124mmatplotlib\u001b[39m\u001b[38;5;124m'\u001b[39m, \u001b[38;5;124m'\u001b[39m\u001b[38;5;124minline\u001b[39m\u001b[38;5;124m'\u001b[39m)\n\u001b[1;32m      3\u001b[0m plot2 \u001b[38;5;241m=\u001b[39m sns\u001b[38;5;241m.\u001b[39mlineplot(data\u001b[38;5;241m=\u001b[39msimulations2_df, x\u001b[38;5;241m=\u001b[39m\u001b[38;5;124m'\u001b[39m\u001b[38;5;124msize\u001b[39m\u001b[38;5;124m'\u001b[39m, y\u001b[38;5;241m=\u001b[39m\u001b[38;5;124m'\u001b[39m\u001b[38;5;124mtime_ms\u001b[39m\u001b[38;5;124m'\u001b[39m, hue\u001b[38;5;241m=\u001b[39m\u001b[38;5;124m'\u001b[39m\u001b[38;5;124malgorithm\u001b[39m\u001b[38;5;124m'\u001b[39m)\n\u001b[0;32m----> 4\u001b[0m \u001b[43mplot2\u001b[49m\u001b[38;5;241;43m.\u001b[39;49m\u001b[43msavefig\u001b[49m(\u001b[38;5;124m'\u001b[39m\u001b[38;5;124mattachments/time_by_size_lin.svg\u001b[39m\u001b[38;5;124m'\u001b[39m)\n",
      "\u001b[0;31mAttributeError\u001b[0m: 'AxesSubplot' object has no attribute 'savefig'"
     ]
    },
    {
     "data": {
      "image/png": "[encoded data removed]",
      "text/plain": [
       "<Figure size 640x480 with 1 Axes>"
      ]
     },
     "metadata": {},
     "output_type": "display_data"
    }
   ],
   "source": [
    "%matplotlib inline\n",
    "\n",
    "plot2 = sns.lineplot(data=simulations2_df, x='size', y='time_ms', hue='algorithm')\n",
    "plot2.savefig('attachments/time_by_size_lin.svg')"
   ]
  },
  {
   "cell_type": "code",
   "execution_count": null,
   "metadata": {},
   "outputs": [],
   "source": [
    "%matplotlib inline\n",
    "\n",
    "plot3 = sns.lineplot(data=simulations2_df, x='size', y='time_ms', hue='algorithm')\n",
    "plot3.set(yscale='log')\n",
    "plot3.savefig('attachments/time_by_size_log.svg')"
   ]
  }
 ],
 "metadata": {
  "kernelspec": {
   "display_name": "Python 3 (ipykernel)",
   "language": "python",
   "name": "python3"
  },
  "language_info": {
   "codemirror_mode": {
    "name": "ipython",
    "version": 3
   },
   "file_extension": ".py",
   "mimetype": "text/x-python",
   "name": "python",
   "nbconvert_exporter": "python",
   "pygments_lexer": "ipython3",
   "version": "3.10.4"
  },
  "vscode": {
   "interpreter": {
    "hash": "7fbc4c254f0478731f4ebf7cae933c9fca8607a3dba1c3ef6f10030caac2d1c1"
   }
  }
 },
 "nbformat": 4,
 "nbformat_minor": 1
}
